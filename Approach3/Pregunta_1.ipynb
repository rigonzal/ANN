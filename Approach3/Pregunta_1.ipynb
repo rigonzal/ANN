{
  "nbformat": 4,
  "nbformat_minor": 0,
  "metadata": {
    "colab": {
      "name": "Pregunta_1.ipynb",
      "version": "0.3.2",
      "provenance": [],
      "collapsed_sections": [],
      "include_colab_link": true
    },
    "kernelspec": {
      "name": "python3",
      "display_name": "Python 3"
    },
    "accelerator": "GPU"
  },
  "cells": [
    {
      "cell_type": "markdown",
      "metadata": {
        "id": "view-in-github",
        "colab_type": "text"
      },
      "source": [
        "<a href=\"https://colab.research.google.com/github/rigonzal/ANN/blob/master/Approach3/Pregunta_1.ipynb\" target=\"_parent\"><img src=\"https://colab.research.google.com/assets/colab-badge.svg\" alt=\"Open In Colab\"/></a>"
      ]
    },
    {
      "metadata": {
        "id": "DG7kI1phHhre",
        "colab_type": "text"
      },
      "cell_type": "markdown",
      "source": [
        "# INF-395 Redes Neuronales Artificiales\n",
        "## Tarea 3 - Redes Neuronales\n",
        "\n",
        "### Integrantes:\n",
        "* Ignacio Valenzuela Albornoz 2014073055-1\n",
        "* Rodrigo González Smith 201303026-2"
      ]
    },
    {
      "metadata": {
        "id": "bmg08JLYmptA",
        "colab_type": "code",
        "colab": {}
      },
      "cell_type": "code",
      "source": [
        "!pip install -U -q PyDrive"
      ],
      "execution_count": 0,
      "outputs": []
    },
    {
      "metadata": {
        "id": "6TYzOg8hkfWQ",
        "colab_type": "code",
        "colab": {}
      },
      "cell_type": "code",
      "source": [
        "import numpy as np\n",
        "import pandas as pd\n",
        "import os, re, sys\n",
        "import random\n",
        "import math\n",
        "import matplotlib.pyplot as plt\n",
        "from keras.preprocessing import sequence\n",
        "from keras.models import Sequential\n",
        "from keras.layers import Dropout\n",
        "from keras.callbacks import LambdaCallback\n",
        "from keras.utils import to_categorical\n",
        "from sklearn.model_selection import train_test_split\n",
        "from keras.layers import CuDNNGRU,GRU\n",
        "from keras.layers import Bidirectional\n",
        "from keras.layers import LSTM, Embedding, Dense, Dropout\n",
        "from sklearn.metrics import f1_score\n",
        "from pydrive.auth import GoogleAuth\n",
        "from pydrive.drive import GoogleDrive\n",
        "from google.colab import auth\n",
        "from oauth2client.client import GoogleCredentials\n",
        "\n",
        "%matplotlib inline"
      ],
      "execution_count": 0,
      "outputs": []
    },
    {
      "metadata": {
        "id": "W2JznPrI-vwe",
        "colab_type": "text"
      },
      "cell_type": "markdown",
      "source": [
        "##Sección 1"
      ]
    },
    {
      "metadata": {
        "id": "pZF1eaX5hREk",
        "colab_type": "text"
      },
      "cell_type": "markdown",
      "source": [
        "Utilizaremos las Redes Neuronales Recurrentes para el modelamiento de texto y lenguaje natural, en el problema particular de  procesar sentencias de texto, proporcionadas por GMB (Groningen Meaning Bank), para reconocimiento de entidades y tagger. \n",
        "\n",
        "Primero que todo importaremos el dataset a utilizar, el cual esta alojado en Kaggle. Posterior a su descarga, lo almacenamos en un DataFrame. Se hará el procedimiento para importar el DataSet desde Google Drive."
      ]
    },
    {
      "metadata": {
        "id": "Rzb3itIMkexu",
        "colab_type": "code",
        "colab": {}
      },
      "cell_type": "code",
      "source": [
        "auth.authenticate_user()\n",
        "gauth = GoogleAuth()\n",
        "gauth.credentials = GoogleCredentials.get_application_default()\n",
        "drive = GoogleDrive(gauth)"
      ],
      "execution_count": 0,
      "outputs": []
    },
    {
      "metadata": {
        "id": "2BWExS5Dm4zI",
        "colab_type": "code",
        "outputId": "f6135e94-de00-40f1-bef4-5cfc592e494f",
        "colab": {
          "base_uri": "https://localhost:8080/",
          "height": 53
        }
      },
      "cell_type": "code",
      "source": [
        "file_list = drive.ListFile().GetList()  # Analizamos el contenido del Drive para obtener el id del archivo\n",
        "for file in file_list:\n",
        "  if('ner' in file['title'] ):\n",
        "    print('title {}, id {}'.format(file['title'], file['id']))\n"
      ],
      "execution_count": 0,
      "outputs": [
        {
          "output_type": "stream",
          "text": [
            "title ner_dataset.csv, id 1Y6hC0qBqUBzNwN_3sJxyjqlcQjESUU5J\n",
            "title ner.csv, id 1tZfMAF3cBlXXhzAb7Z9TFONLn6YBuOMn\n"
          ],
          "name": "stdout"
        }
      ]
    },
    {
      "metadata": {
        "id": "KfmKGBnfnHaC",
        "colab_type": "code",
        "colab": {}
      },
      "cell_type": "code",
      "source": [
        "download_path = os.path.expanduser('~/data') # Luego creamos un directorio local para almacenar la data\n",
        "try:\n",
        "  os.makedirs(download_path)\n",
        "except FileExistsError:\n",
        "  pass"
      ],
      "execution_count": 0,
      "outputs": []
    },
    {
      "metadata": {
        "id": "ozXjcOSJnLmU",
        "colab_type": "code",
        "colab": {}
      },
      "cell_type": "code",
      "source": [
        "output_file = os.path.join(download_path, 'ner.csv') # Luego importamos la informacion\n",
        "\n",
        "temp_file = drive.CreateFile({'id': '1tZfMAF3cBlXXhzAb7Z9TFONLn6YBuOMn'})\n",
        "temp_file.GetContentFile(output_file)"
      ],
      "execution_count": 0,
      "outputs": []
    },
    {
      "metadata": {
        "id": "wuA2fUu5njwi",
        "colab_type": "text"
      },
      "cell_type": "markdown",
      "source": [
        "Finalmente en el archivo output_file obtenemos el csv, el cual importamos en pandas."
      ]
    },
    {
      "metadata": {
        "id": "i9vYyW-ZneEs",
        "colab_type": "code",
        "outputId": "dc9bac90-2a67-4a27-d099-a830d5535cd1",
        "colab": {
          "base_uri": "https://localhost:8080/",
          "height": 35
        }
      },
      "cell_type": "code",
      "source": [
        "df_ner = pd.read_csv(output_file, encoding =\"cp1252\", error_bad_lines=False)\n",
        "df_ner.dropna(inplace=True)"
      ],
      "execution_count": 0,
      "outputs": [
        {
          "output_type": "stream",
          "text": [
            "b'Skipping line 281837: expected 25 fields, saw 34\\n'\n"
          ],
          "name": "stderr"
        }
      ]
    },
    {
      "metadata": {
        "id": "_gFVlz9C4jwA",
        "colab_type": "text"
      },
      "cell_type": "markdown",
      "source": [
        "Ahora veremos como esta compuesto el dataframe y sus atributos."
      ]
    },
    {
      "metadata": {
        "id": "svvUO4SCntNx",
        "colab_type": "code",
        "outputId": "9d7334d5-2b7f-4e7b-c92c-910563ae592a",
        "colab": {
          "base_uri": "https://localhost:8080/",
          "height": 290
        }
      },
      "cell_type": "code",
      "source": [
        "df_ner.head()"
      ],
      "execution_count": 0,
      "outputs": [
        {
          "output_type": "execute_result",
          "data": {
            "text/html": [
              "<div>\n",
              "<style scoped>\n",
              "    .dataframe tbody tr th:only-of-type {\n",
              "        vertical-align: middle;\n",
              "    }\n",
              "\n",
              "    .dataframe tbody tr th {\n",
              "        vertical-align: top;\n",
              "    }\n",
              "\n",
              "    .dataframe thead th {\n",
              "        text-align: right;\n",
              "    }\n",
              "</style>\n",
              "<table border=\"1\" class=\"dataframe\">\n",
              "  <thead>\n",
              "    <tr style=\"text-align: right;\">\n",
              "      <th></th>\n",
              "      <th>Unnamed: 0</th>\n",
              "      <th>lemma</th>\n",
              "      <th>next-lemma</th>\n",
              "      <th>next-next-lemma</th>\n",
              "      <th>next-next-pos</th>\n",
              "      <th>next-next-shape</th>\n",
              "      <th>next-next-word</th>\n",
              "      <th>next-pos</th>\n",
              "      <th>next-shape</th>\n",
              "      <th>next-word</th>\n",
              "      <th>...</th>\n",
              "      <th>prev-prev-lemma</th>\n",
              "      <th>prev-prev-pos</th>\n",
              "      <th>prev-prev-shape</th>\n",
              "      <th>prev-prev-word</th>\n",
              "      <th>prev-shape</th>\n",
              "      <th>prev-word</th>\n",
              "      <th>sentence_idx</th>\n",
              "      <th>shape</th>\n",
              "      <th>word</th>\n",
              "      <th>tag</th>\n",
              "    </tr>\n",
              "  </thead>\n",
              "  <tbody>\n",
              "    <tr>\n",
              "      <th>0</th>\n",
              "      <td>0</td>\n",
              "      <td>thousand</td>\n",
              "      <td>of</td>\n",
              "      <td>demonstr</td>\n",
              "      <td>NNS</td>\n",
              "      <td>lowercase</td>\n",
              "      <td>demonstrators</td>\n",
              "      <td>IN</td>\n",
              "      <td>lowercase</td>\n",
              "      <td>of</td>\n",
              "      <td>...</td>\n",
              "      <td>__start2__</td>\n",
              "      <td>__START2__</td>\n",
              "      <td>wildcard</td>\n",
              "      <td>__START2__</td>\n",
              "      <td>wildcard</td>\n",
              "      <td>__START1__</td>\n",
              "      <td>1.0</td>\n",
              "      <td>capitalized</td>\n",
              "      <td>Thousands</td>\n",
              "      <td>O</td>\n",
              "    </tr>\n",
              "    <tr>\n",
              "      <th>1</th>\n",
              "      <td>1</td>\n",
              "      <td>of</td>\n",
              "      <td>demonstr</td>\n",
              "      <td>have</td>\n",
              "      <td>VBP</td>\n",
              "      <td>lowercase</td>\n",
              "      <td>have</td>\n",
              "      <td>NNS</td>\n",
              "      <td>lowercase</td>\n",
              "      <td>demonstrators</td>\n",
              "      <td>...</td>\n",
              "      <td>__start1__</td>\n",
              "      <td>__START1__</td>\n",
              "      <td>wildcard</td>\n",
              "      <td>__START1__</td>\n",
              "      <td>capitalized</td>\n",
              "      <td>Thousands</td>\n",
              "      <td>1.0</td>\n",
              "      <td>lowercase</td>\n",
              "      <td>of</td>\n",
              "      <td>O</td>\n",
              "    </tr>\n",
              "    <tr>\n",
              "      <th>2</th>\n",
              "      <td>2</td>\n",
              "      <td>demonstr</td>\n",
              "      <td>have</td>\n",
              "      <td>march</td>\n",
              "      <td>VBN</td>\n",
              "      <td>lowercase</td>\n",
              "      <td>marched</td>\n",
              "      <td>VBP</td>\n",
              "      <td>lowercase</td>\n",
              "      <td>have</td>\n",
              "      <td>...</td>\n",
              "      <td>thousand</td>\n",
              "      <td>NNS</td>\n",
              "      <td>capitalized</td>\n",
              "      <td>Thousands</td>\n",
              "      <td>lowercase</td>\n",
              "      <td>of</td>\n",
              "      <td>1.0</td>\n",
              "      <td>lowercase</td>\n",
              "      <td>demonstrators</td>\n",
              "      <td>O</td>\n",
              "    </tr>\n",
              "    <tr>\n",
              "      <th>3</th>\n",
              "      <td>3</td>\n",
              "      <td>have</td>\n",
              "      <td>march</td>\n",
              "      <td>through</td>\n",
              "      <td>IN</td>\n",
              "      <td>lowercase</td>\n",
              "      <td>through</td>\n",
              "      <td>VBN</td>\n",
              "      <td>lowercase</td>\n",
              "      <td>marched</td>\n",
              "      <td>...</td>\n",
              "      <td>of</td>\n",
              "      <td>IN</td>\n",
              "      <td>lowercase</td>\n",
              "      <td>of</td>\n",
              "      <td>lowercase</td>\n",
              "      <td>demonstrators</td>\n",
              "      <td>1.0</td>\n",
              "      <td>lowercase</td>\n",
              "      <td>have</td>\n",
              "      <td>O</td>\n",
              "    </tr>\n",
              "    <tr>\n",
              "      <th>4</th>\n",
              "      <td>4</td>\n",
              "      <td>march</td>\n",
              "      <td>through</td>\n",
              "      <td>london</td>\n",
              "      <td>NNP</td>\n",
              "      <td>capitalized</td>\n",
              "      <td>London</td>\n",
              "      <td>IN</td>\n",
              "      <td>lowercase</td>\n",
              "      <td>through</td>\n",
              "      <td>...</td>\n",
              "      <td>demonstr</td>\n",
              "      <td>NNS</td>\n",
              "      <td>lowercase</td>\n",
              "      <td>demonstrators</td>\n",
              "      <td>lowercase</td>\n",
              "      <td>have</td>\n",
              "      <td>1.0</td>\n",
              "      <td>lowercase</td>\n",
              "      <td>marched</td>\n",
              "      <td>O</td>\n",
              "    </tr>\n",
              "  </tbody>\n",
              "</table>\n",
              "<p>5 rows × 25 columns</p>\n",
              "</div>"
            ],
            "text/plain": [
              "   Unnamed: 0     lemma next-lemma next-next-lemma next-next-pos  \\\n",
              "0           0  thousand         of        demonstr           NNS   \n",
              "1           1        of   demonstr            have           VBP   \n",
              "2           2  demonstr       have           march           VBN   \n",
              "3           3      have      march         through            IN   \n",
              "4           4     march    through          london           NNP   \n",
              "\n",
              "  next-next-shape next-next-word next-pos next-shape      next-word ...  \\\n",
              "0       lowercase  demonstrators       IN  lowercase             of ...   \n",
              "1       lowercase           have      NNS  lowercase  demonstrators ...   \n",
              "2       lowercase        marched      VBP  lowercase           have ...   \n",
              "3       lowercase        through      VBN  lowercase        marched ...   \n",
              "4     capitalized         London       IN  lowercase        through ...   \n",
              "\n",
              "  prev-prev-lemma prev-prev-pos prev-prev-shape prev-prev-word   prev-shape  \\\n",
              "0      __start2__    __START2__        wildcard     __START2__     wildcard   \n",
              "1      __start1__    __START1__        wildcard     __START1__  capitalized   \n",
              "2        thousand           NNS     capitalized      Thousands    lowercase   \n",
              "3              of            IN       lowercase             of    lowercase   \n",
              "4        demonstr           NNS       lowercase  demonstrators    lowercase   \n",
              "\n",
              "       prev-word sentence_idx        shape           word tag  \n",
              "0     __START1__          1.0  capitalized      Thousands   O  \n",
              "1      Thousands          1.0    lowercase             of   O  \n",
              "2             of          1.0    lowercase  demonstrators   O  \n",
              "3  demonstrators          1.0    lowercase           have   O  \n",
              "4           have          1.0    lowercase        marched   O  \n",
              "\n",
              "[5 rows x 25 columns]"
            ]
          },
          "metadata": {
            "tags": []
          },
          "execution_count": 9
        }
      ]
    },
    {
      "metadata": {
        "id": "1dOGfNJzZlq-",
        "colab_type": "code",
        "outputId": "92034b7c-9799-4b82-ab80-1efd2f7819c4",
        "colab": {
          "base_uri": "https://localhost:8080/",
          "height": 146
        }
      },
      "cell_type": "code",
      "source": [
        "df_ner.columns"
      ],
      "execution_count": 0,
      "outputs": [
        {
          "output_type": "execute_result",
          "data": {
            "text/plain": [
              "Index(['Unnamed: 0', 'lemma', 'next-lemma', 'next-next-lemma', 'next-next-pos',\n",
              "       'next-next-shape', 'next-next-word', 'next-pos', 'next-shape',\n",
              "       'next-word', 'pos', 'prev-iob', 'prev-lemma', 'prev-pos',\n",
              "       'prev-prev-iob', 'prev-prev-lemma', 'prev-prev-pos', 'prev-prev-shape',\n",
              "       'prev-prev-word', 'prev-shape', 'prev-word', 'sentence_idx', 'shape',\n",
              "       'word', 'tag'],\n",
              "      dtype='object')"
            ]
          },
          "metadata": {
            "tags": []
          },
          "execution_count": 10
        }
      ]
    },
    {
      "metadata": {
        "id": "zY7hkX7B5XhN",
        "colab_type": "text"
      },
      "cell_type": "markdown",
      "source": [
        "Procederemos a extraer las columnas que nos interesan para el modelo, la cuales son lemma, word, pos, tag y prev-iob. A pesar que ya tenemos el atributo word que nos indica cual es la palabra en cuestión que se analiza en esa muestra, también nos será útil el atributo lemma, ya que esta representa la palabra raíz la cual se desprenden todas sus formas flexionadas. Como varias palabras pueden venir de la misma raíz, esto para el modelo podría indicarle que estas dos palabras pueden ser distintas, siendo que representan a la misma raíz. Por esto mismo, considerar el lemma de esa palabra en vez de la flexionada ayuda a que el modelo se enfoque más en el significado de esa palabra sin temor a ambigüedades.\n"
      ]
    },
    {
      "metadata": {
        "id": "eUFhN7s-4yQh",
        "colab_type": "code",
        "colab": {}
      },
      "cell_type": "code",
      "source": [
        "dataset = df_ner.loc[:,[\"lemma\",\"word\",\"pos\",\"tag\",\"prev-iob\"]]"
      ],
      "execution_count": 0,
      "outputs": []
    },
    {
      "metadata": {
        "id": "mA71HWqDn-Pm",
        "colab_type": "text"
      },
      "cell_type": "markdown",
      "source": [
        "Ahora construiremos dos estructuras, donde una almacena las palabras u oraciones y la otra almacena los tags correspondientes por cada muestra. Se comenzará creando un conjunto para cada uno ya que la idea es no tener valores repetidos."
      ]
    },
    {
      "metadata": {
        "id": "M9MgH8XN5R0U",
        "colab_type": "code",
        "colab": {}
      },
      "cell_type": "code",
      "source": [
        "dataX,dataY = [],[]\n",
        "lemmas,labels = set(), set()  #uniques\n",
        "sentence = []\n",
        "labels_sentence = []\n",
        "for fila in dataset.values:\n",
        "  if fila[-1]==\"__START1__\": \n",
        "    dataX.append(np.asarray(sentence))\n",
        "    dataY.append(np.asarray(labels_sentence))\n",
        "    sentence= []\n",
        "    labels_sentence = []\n",
        "  lemmas.add(fila[0])\n",
        "  labels.add(fila[3])\n",
        "  sentence.append(fila[0])#add lemma\n",
        "  labels_sentence.append(fila[3]) #TAG\n",
        "dataX = np.asarray(dataX[1:]) #data to  array\n",
        "dataY = np.asarray(dataY[1:])"
      ],
      "execution_count": 0,
      "outputs": []
    },
    {
      "metadata": {
        "id": "sDVu1LtUozUB",
        "colab_type": "code",
        "outputId": "3b6cbf4f-bc3d-4e4c-c9ef-2d7daae75e38",
        "colab": {
          "base_uri": "https://localhost:8080/",
          "height": 54
        }
      },
      "cell_type": "code",
      "source": [
        "print(len(dataX[0]) , len(dataX[1]))\n",
        "print(len(dataY[0]) , len(dataY[1]))"
      ],
      "execution_count": 0,
      "outputs": [
        {
          "output_type": "stream",
          "text": [
            "24 30\n",
            "24 30\n"
          ],
          "name": "stdout"
        }
      ]
    },
    {
      "metadata": {
        "id": "mb1yKXPqKWxZ",
        "colab_type": "text"
      },
      "cell_type": "markdown",
      "source": [
        "Con lo anterior podemos apreciar que tanto dataX y dataY poseen la misma cantidad de ejemplos, pero entre los mismos ejemplos no poseen la misma dimension, debido a que pueden haber frases mas cortas que otras. Cabe destacar, eso si, que la dimensión de los tag es la misma de las oraciones respecto al mismo índice.\n",
        "\n",
        "Tras esto, analizaremos un poco los datos que extraímos. Primero haremos un histograma el cual compare los largos de cada oración."
      ]
    },
    {
      "metadata": {
        "id": "EGZswRH4o1WO",
        "colab_type": "code",
        "colab": {}
      },
      "cell_type": "code",
      "source": [
        "largo = []\n",
        "for element in dataX:\n",
        "  largo.append(len(element))"
      ],
      "execution_count": 0,
      "outputs": []
    },
    {
      "metadata": {
        "id": "m0IiEqT5TCBt",
        "colab_type": "code",
        "outputId": "0af3ef6f-dbac-477d-aa41-25a8c7bbb19a",
        "colab": {
          "base_uri": "https://localhost:8080/",
          "height": 35
        }
      },
      "cell_type": "code",
      "source": [
        "print(max(largo))"
      ],
      "execution_count": 0,
      "outputs": [
        {
          "output_type": "stream",
          "text": [
            "81\n"
          ],
          "name": "stdout"
        }
      ]
    },
    {
      "metadata": {
        "id": "fz2Lg78bSnm3",
        "colab_type": "code",
        "outputId": "fd049fa5-f4df-4921-c12a-a0bd6a4e2e43",
        "colab": {
          "base_uri": "https://localhost:8080/",
          "height": 353
        }
      },
      "cell_type": "code",
      "source": [
        "plt.figure(figsize=(20,5))\n",
        "plt.title('Largo Oraciones')\n",
        "plt.hist(largo, bins=82, alpha=1, edgecolor = 'black',  linewidth=1)\n",
        "plt.grid(True)\n",
        "plt.show()\n",
        "plt.clf()"
      ],
      "execution_count": 0,
      "outputs": [
        {
          "output_type": "display_data",
          "data": {
            "image/png": "[encoded data removed]",
            "text/plain": [
              "<matplotlib.figure.Figure at 0x7fd5466782b0>"
            ]
          },
          "metadata": {
            "tags": []
          }
        },
        {
          "output_type": "display_data",
          "data": {
            "text/plain": [
              "<matplotlib.figure.Figure at 0x7fd545102e80>"
            ]
          },
          "metadata": {
            "tags": []
          }
        }
      ]
    },
    {
      "metadata": {
        "id": "-ped-XjqUQ5j",
        "colab_type": "text"
      },
      "cell_type": "markdown",
      "source": [
        "Aqui podemos apreciar que el histograma esta bastante centrado en oraciones de largo 20, incluso tiene aspecto de una distribución normal. Vemos también al final que es alargado, ya que el máximo es 81, lo que se podría considerar outlier, ya que esta más separado de los demás. Esto último será muy importante en la implementación del modelo."
      ]
    },
    {
      "metadata": {
        "id": "yLVMwUe5vxTR",
        "colab_type": "text"
      },
      "cell_type": "markdown",
      "source": [
        "Ahora analicemos la frecuencia de las palabras. Primero juntamos todas las palabras de las muestras en una sola lista. Luego, calculamos en otra lista la frecuencia de cada palabra por separado y luego graficamos esta aplicando el logaritmo en base 10 para comprobar si cumple con la Ley de Zipf"
      ]
    },
    {
      "metadata": {
        "id": "bjNHzRCRb_ZY",
        "colab_type": "code",
        "colab": {}
      },
      "cell_type": "code",
      "source": [
        "pala = []\n",
        "for element in dataX:\n",
        "  pala.extend(element)"
      ],
      "execution_count": 0,
      "outputs": []
    },
    {
      "metadata": {
        "id": "NxMYOV1hSxst",
        "colab_type": "code",
        "colab": {}
      },
      "cell_type": "code",
      "source": [
        "palabras = []\n",
        "for element in dataX:\n",
        "  for word in element:\n",
        "    if word not in palabras:\n",
        "      palabras.append(word)"
      ],
      "execution_count": 0,
      "outputs": []
    },
    {
      "metadata": {
        "id": "wyAsSemgaDJu",
        "colab_type": "code",
        "colab": {}
      },
      "cell_type": "code",
      "source": [
        "frecuencias = [0] * len(palabras)\n",
        "for element in dataX:\n",
        "  for word in element:\n",
        "    index = palabras.index(word)\n",
        "    frecuencias[index] +=1"
      ],
      "execution_count": 0,
      "outputs": []
    },
    {
      "metadata": {
        "id": "nSqx4gpTaE0u",
        "colab_type": "code",
        "colab": {}
      },
      "cell_type": "code",
      "source": [
        "frecuencias.sort(reverse=True)"
      ],
      "execution_count": 0,
      "outputs": []
    },
    {
      "metadata": {
        "id": "2CYTgw2WcZM9",
        "colab_type": "code",
        "outputId": "65d601c3-33ce-4d3e-e2a9-c93242f2b6a4",
        "colab": {
          "base_uri": "https://localhost:8080/",
          "height": 390
        }
      },
      "cell_type": "code",
      "source": [
        "x = np.log10(list(range(len(frecuencias))))\n",
        "plt.figure(figsize=(10,5))\n",
        "plt.title('Frecuencia palabras')\n",
        "plt.plot(x, np.log10(frecuencias))\n",
        "plt.show()\n",
        "plt.clf()"
      ],
      "execution_count": 0,
      "outputs": [
        {
          "output_type": "stream",
          "text": [
            "/usr/local/lib/python3.6/dist-packages/ipykernel_launcher.py:1: RuntimeWarning: divide by zero encountered in log10\n",
            "  \"\"\"Entry point for launching an IPython kernel.\n"
          ],
          "name": "stderr"
        },
        {
          "output_type": "display_data",
          "data": {
            "image/png": "[encoded data removed]",
            "text/plain": [
              "<matplotlib.figure.Figure at 0x7eff8c90e1d0>"
            ]
          },
          "metadata": {
            "tags": []
          }
        },
        {
          "output_type": "display_data",
          "data": {
            "text/plain": [
              "<matplotlib.figure.Figure at 0x7eff8c940630>"
            ]
          },
          "metadata": {
            "tags": []
          }
        }
      ]
    },
    {
      "metadata": {
        "id": "r3YfK8taxFVe",
        "colab_type": "text"
      },
      "cell_type": "markdown",
      "source": [
        "Se aprecia de forma evidente que cumple con la ley de Zipf,  la cual presenta una caída (donde la palabra siguiente sera un cierto factor de menor frecuencia que el anterior y así) y presenta el mismo patrón en la cola menor del gráfico, donde se ve como si hubieran datos discretos y se hace no continua esa función."
      ]
    },
    {
      "metadata": {
        "id": "R-5LlO6hv1Sg",
        "colab_type": "text"
      },
      "cell_type": "markdown",
      "source": [
        "Antes de poder pasar estos datos a una red neuronal, debemos pre-procesar estos datos, haciendo una función que transforme los lemmas y tags a números. "
      ]
    },
    {
      "metadata": {
        "id": "-ySu7rEDrr-l",
        "colab_type": "code",
        "colab": {}
      },
      "cell_type": "code",
      "source": [
        "lemma2idx = {w: i for i, w in enumerate(lemmas)} #Converting text to numbers\n",
        "lab2idx = {t: i for i, t in enumerate(labels)}\n",
        "dataX = [[lemma2idx[lemma] for lemma in sentence ] for sentence in dataX]\n",
        "dataY = [[lab2idx[ner] for ner in ner_tags ] for ner_tags in dataY]\n",
        "n_lemmas = len(lemmas)\n",
        "n_labels = len(labels)"
      ],
      "execution_count": 0,
      "outputs": []
    },
    {
      "metadata": {
        "id": "ZLAszvts17NR",
        "colab_type": "text"
      },
      "cell_type": "markdown",
      "source": [
        "Luego, como vimos anteriormente, los largos de las sentencias no son las mismas para todas. Necesitamos que cada muestra (de entrada) posean la misma dimensionalidad. Para solucionar esto debemos utilizar padding, donde rellenaremos las sentencias mas cortas hasta que tenga el largo de la sentencia de largo más alto, donde en celdas anteriores descubrimos que era de 81. Esto igualmente para los tags."
      ]
    },
    {
      "metadata": {
        "id": "X40wxSyplnL1",
        "colab_type": "text"
      },
      "cell_type": "markdown",
      "source": [
        "Respecto a usar pre o post padding puede tener dos enfoques, uno respecto a la importancia en el dataset y el otro de forma computacional. Principalemente usar pre o post padding va a depender de qué tan importante es el pasado o el futuro para poder categorizar los lemmas en cada sentencia. Por la parte computacional, se podría dar preferencia al pre padding debido al back propagation, ya que empezando con valores 0 puede evitar la explosión del gradiente, haciendo el entrenamiento de los pesos compartidos de forma menos brusca, sobre todo cuando se aplican sentencias muy cortas.\n",
        "Por esto se decidió utilizar pre padding para equiparar las dimensiones de todas las sentencias, además que así mientras mas avance el input en la red recurrente, obtendremos outputs finales con información útil y no con muchos 0, sobre todo considerando que la mayoría de sentencias (por el histograma anterior) se concentra en largo 20, cuando la dimensionalidad total es de 81, por lo tanto habría muchas iteraciones (que contienen valor 0) después del último lemma, lo que afectaría en como se entrena posteriormente."
      ]
    },
    {
      "metadata": {
        "id": "LWE3krKy0-IY",
        "colab_type": "code",
        "colab": {}
      },
      "cell_type": "code",
      "source": [
        "lemma2idx[\"ENDLEM\"] = 0\n",
        "lab2idx[\"ENDTAG\"] = 0\n",
        "X = sequence.pad_sequences(dataX,maxlen=81,padding='pre',value=lemma2idx[\"ENDLEM\"]) \n",
        "y = sequence.pad_sequences(dataY,maxlen=81,padding='pre',value=lab2idx[\"ENDTAG\"])"
      ],
      "execution_count": 0,
      "outputs": []
    },
    {
      "metadata": {
        "id": "4I-Gv3KW_PL2",
        "colab_type": "text"
      },
      "cell_type": "markdown",
      "source": [
        "Debido a que esta codificado en números enteros, debemos pasarlo a one hot vectors, definiendo bien el rango de valores para todas las sentencias."
      ]
    },
    {
      "metadata": {
        "id": "UntPPpJG2YXi",
        "colab_type": "code",
        "colab": {}
      },
      "cell_type": "code",
      "source": [
        "Y = np.asarray([to_categorical(i, num_classes=n_labels) for i in y])\n",
        "X_train, X_test, y_train, y_test = train_test_split(X, Y, test_size=0.3,random_state=22)"
      ],
      "execution_count": 0,
      "outputs": []
    },
    {
      "metadata": {
        "id": "506gTZdbo61M",
        "colab_type": "code",
        "outputId": "6e837114-dae1-4423-f89c-c59342f57e46",
        "colab": {
          "base_uri": "https://localhost:8080/",
          "height": 35
        }
      },
      "cell_type": "code",
      "source": [
        "print(X_train.shape, X_test.shape, y_train.shape, y_test.shape)"
      ],
      "execution_count": 0,
      "outputs": [
        {
          "output_type": "stream",
          "text": [
            "(33656, 81) (14425, 81) (33656, 81, 17) (14425, 81, 17)\n"
          ],
          "name": "stdout"
        }
      ]
    },
    {
      "metadata": {
        "id": "nuavlqWdwOdj",
        "colab_type": "text"
      },
      "cell_type": "markdown",
      "source": [
        "Se puede apreciar los shapes de cada conjunto, donde tenemos el x que posee las muestras y el largo de ellas (81 debido al máximo largo que pueden tener) y por parte del conjunto de validación tenemos una dimensión extra que representa la cantidad de tags disponibles."
      ]
    },
    {
      "metadata": {
        "id": "xMknSpGE_Qze",
        "colab_type": "text"
      },
      "cell_type": "markdown",
      "source": [
        "Ahora se procederá a crear el modelo, el cual consiste en una red neuronal recurrente con compuertas LSTM para que esta red pueda aprendar a taggear las entidades en el texto. Se define un vector de embedding de 32 para comenzar, el cual nos ayudará a mapear los valores discretos de la entrada a unos pertenecientes ${\\rm I\\!R}^{32}$ específicamente en este caso. Luego se agrega la capa LSTM con 100 unidades y finalmente la capa densa que obtendrá los outputs."
      ]
    },
    {
      "metadata": {
        "id": "MEk-15s30Eij",
        "colab_type": "code",
        "outputId": "619dc24f-ebc0-41b6-f2c6-a22ea640868d",
        "colab": {
          "base_uri": "https://localhost:8080/",
          "height": 399
        }
      },
      "cell_type": "code",
      "source": [
        "embedding_vector = 32\n",
        "model = Sequential()\n",
        "model.add(Embedding(input_dim=n_lemmas, output_dim=embedding_vector, input_length=81))\n",
        "model.add(LSTM(units=100,return_sequences=True))\n",
        "model.add(Dense(n_labels, activation='softmax'))\n",
        "model.summary()\n",
        "model.compile(loss='categorical_crossentropy', optimizer='adam')\n",
        "model.fit(X_train, y_train, validation_data=(X_test, y_test), epochs=3, batch_size=128)"
      ],
      "execution_count": 0,
      "outputs": [
        {
          "output_type": "stream",
          "text": [
            "_________________________________________________________________\n",
            "Layer (type)                 Output Shape              Param #   \n",
            "=================================================================\n",
            "embedding_1 (Embedding)      (None, 81, 32)            647776    \n",
            "_________________________________________________________________\n",
            "lstm_1 (LSTM)                (None, 81, 100)           53200     \n",
            "_________________________________________________________________\n",
            "dense_1 (Dense)              (None, 81, 17)            1717      \n",
            "=================================================================\n",
            "Total params: 702,693\n",
            "Trainable params: 702,693\n",
            "Non-trainable params: 0\n",
            "_________________________________________________________________\n",
            "Train on 33656 samples, validate on 14425 samples\n",
            "Epoch 1/3\n",
            "33656/33656 [==============================] - 69s 2ms/step - loss: 0.5039 - val_loss: 0.2109\n",
            "Epoch 2/3\n",
            "33656/33656 [==============================] - 67s 2ms/step - loss: 0.1539 - val_loss: 0.1004\n",
            "Epoch 3/3\n",
            "33656/33656 [==============================] - 66s 2ms/step - loss: 0.0781 - val_loss: 0.0646\n"
          ],
          "name": "stdout"
        },
        {
          "output_type": "execute_result",
          "data": {
            "text/plain": [
              "<keras.callbacks.History at 0x7eff89242e48>"
            ]
          },
          "metadata": {
            "tags": []
          },
          "execution_count": 37
        }
      ]
    },
    {
      "metadata": {
        "id": "nBvlODD0z7aX",
        "colab_type": "text"
      },
      "cell_type": "markdown",
      "source": [
        "Vemos que los datos al pasar a la red, cambian a una dimensionalidad mayor que es 32. Claramente, debido a los tags que puede representar, estos deben salir con una dimensionalidad de 17 indicando el tag correspondiente. "
      ]
    },
    {
      "metadata": {
        "id": "fO1qw2zl_bzb",
        "colab_type": "code",
        "outputId": "40984bc8-635d-4856-f0bf-1a958e626790",
        "colab": {
          "base_uri": "https://localhost:8080/",
          "height": 128
        }
      },
      "cell_type": "code",
      "source": [
        "aux_y_test = np.ndarray.flatten(np.argmax(y_test, axis=2))\n",
        "y_pred = np.ndarray.flatten(np.argmax(model.predict(X_test, verbose=0), axis = 2))\n",
        "y_nozero = np.where(aux_y_test != 0)\n",
        "print(\"F1 score on test: \", f1_score(aux_y_test[y_nozero], y_pred[y_nozero], average='weighted'))"
      ],
      "execution_count": 0,
      "outputs": [
        {
          "output_type": "stream",
          "text": [
            "F1 score on test:  0.9410811488007655\n"
          ],
          "name": "stdout"
        },
        {
          "output_type": "stream",
          "text": [
            "/usr/local/lib/python3.6/dist-packages/sklearn/metrics/classification.py:1143: UndefinedMetricWarning: F-score is ill-defined and being set to 0.0 in labels with no predicted samples.\n",
            "  'precision', 'predicted', average, warn_for)\n",
            "/usr/local/lib/python3.6/dist-packages/sklearn/metrics/classification.py:1145: UndefinedMetricWarning: F-score is ill-defined and being set to 0.0 in labels with no true samples.\n",
            "  'recall', 'true', average, warn_for)\n"
          ],
          "name": "stderr"
        }
      ]
    },
    {
      "metadata": {
        "id": "UEoU5dCSEIVl",
        "colab_type": "text"
      },
      "cell_type": "markdown",
      "source": [
        "Ahora, sabiendo que el vector de embedding transforma nuestra entrada a más dimensiones, es interesante investigar como afecta la dimensionalidad de la entrada en el proceso y también en el accuracy obtenido. La idea es ocupar dos valores equidistantes del ya utilizado anteriormente, uno de menor dimensión y otro de mayor, 16 y 48 respectivamente. Dentro de un for se realizaran los modelos y se imprimirá los resultados."
      ]
    },
    {
      "metadata": {
        "id": "Dni21fQrBI3I",
        "colab_type": "code",
        "outputId": "7fedaf59-9ea8-4f79-cac3-54c869856489",
        "colab": {
          "base_uri": "https://localhost:8080/",
          "height": 873
        }
      },
      "cell_type": "code",
      "source": [
        "for embedding_vector in [16, 48]:\n",
        "  model = Sequential()\n",
        "  model.add(Embedding(input_dim=n_lemmas, output_dim=embedding_vector, input_length=81))\n",
        "  model.add(LSTM(units=100,return_sequences=True))\n",
        "  model.add(Dense(n_labels, activation='softmax'))\n",
        "  model.summary()\n",
        "  model.compile(loss='categorical_crossentropy', optimizer='adam')\n",
        "  model.fit(X_train, y_train, validation_data=(X_test, y_test), epochs=3, batch_size=128)\n",
        "  y_pred = np.ndarray.flatten(np.argmax(model.predict(X_test, verbose=0), axis = 2))\n",
        "  print(\"F1 score on test with embedding dimension = \" + str(embedding_vector)+ \":\", f1_score(aux_y_test[y_nozero], y_pred[y_nozero], average='weighted'))"
      ],
      "execution_count": 0,
      "outputs": [
        {
          "output_type": "stream",
          "text": [
            "_________________________________________________________________\n",
            "Layer (type)                 Output Shape              Param #   \n",
            "=================================================================\n",
            "embedding_2 (Embedding)      (None, 81, 16)            323888    \n",
            "_________________________________________________________________\n",
            "lstm_2 (LSTM)                (None, 81, 100)           46800     \n",
            "_________________________________________________________________\n",
            "dense_2 (Dense)              (None, 81, 17)            1717      \n",
            "=================================================================\n",
            "Total params: 372,405\n",
            "Trainable params: 372,405\n",
            "Non-trainable params: 0\n",
            "_________________________________________________________________\n",
            "Train on 33656 samples, validate on 14425 samples\n",
            "Epoch 1/3\n",
            "33656/33656 [==============================] - 67s 2ms/step - loss: 0.5297 - val_loss: 0.2343\n",
            "Epoch 2/3\n",
            "33656/33656 [==============================] - 66s 2ms/step - loss: 0.1946 - val_loss: 0.1425\n",
            "Epoch 3/3\n",
            "33656/33656 [==============================] - 66s 2ms/step - loss: 0.1129 - val_loss: 0.0938\n"
          ],
          "name": "stdout"
        },
        {
          "output_type": "stream",
          "text": [
            "/usr/local/lib/python3.6/dist-packages/sklearn/metrics/classification.py:1143: UndefinedMetricWarning: F-score is ill-defined and being set to 0.0 in labels with no predicted samples.\n",
            "  'precision', 'predicted', average, warn_for)\n",
            "/usr/local/lib/python3.6/dist-packages/sklearn/metrics/classification.py:1145: UndefinedMetricWarning: F-score is ill-defined and being set to 0.0 in labels with no true samples.\n",
            "  'recall', 'true', average, warn_for)\n"
          ],
          "name": "stderr"
        },
        {
          "output_type": "stream",
          "text": [
            "F1 score on test with embedding dimension = 16: 0.8875135971130335\n",
            "_________________________________________________________________\n",
            "Layer (type)                 Output Shape              Param #   \n",
            "=================================================================\n",
            "embedding_3 (Embedding)      (None, 81, 48)            971664    \n",
            "_________________________________________________________________\n",
            "lstm_3 (LSTM)                (None, 81, 100)           59600     \n",
            "_________________________________________________________________\n",
            "dense_3 (Dense)              (None, 81, 17)            1717      \n",
            "=================================================================\n",
            "Total params: 1,032,981\n",
            "Trainable params: 1,032,981\n",
            "Non-trainable params: 0\n",
            "_________________________________________________________________\n",
            "Train on 33656 samples, validate on 14425 samples\n",
            "Epoch 1/3\n",
            "33656/33656 [==============================] - 68s 2ms/step - loss: 0.4622 - val_loss: 0.1946\n",
            "Epoch 2/3\n",
            "33656/33656 [==============================] - 67s 2ms/step - loss: 0.1333 - val_loss: 0.0927\n",
            "Epoch 3/3\n",
            "33656/33656 [==============================] - 66s 2ms/step - loss: 0.0721 - val_loss: 0.0616\n",
            "F1 score on test with embedding dimension = 48: 0.9453808296130484\n"
          ],
          "name": "stdout"
        }
      ]
    },
    {
      "metadata": {
        "id": "nx_sYQ0pDiQG",
        "colab_type": "text"
      },
      "cell_type": "markdown",
      "source": [
        "Vemos una clara superioridad del embedding de 48 respecto al de 16, por lo que podríamos intuir que aumentando la dimensión del embedding la red debiese mejorar su accuracy al predecir los tags de las entidades. Esto puede deberse a que si se va aumentando aún más la dimensionalidad del conjunto de datos, para el modelo es mucho más fácil identificar y separar por clases la información."
      ]
    },
    {
      "metadata": {
        "id": "GhDL3E1DEJKL",
        "colab_type": "text"
      },
      "cell_type": "markdown",
      "source": [
        "Otro método que podría mejorar el desempeño es el uso de reguladores. Dropout es uno de los que, en tareas anteriores, dió buenos resultados en ciertos modelos. La idea ahora es aplicarlo posterior a la unidad LSTM. La idea de aplicar el dropout es que pueda hacer un mejor entrenamiento de los pesos compartidos, aunque también podría ser que este mismo Dropout pueda afectar a la forget gate, lo que podría afectar en la memoria de la unidad durante el entrenamiento."
      ]
    },
    {
      "metadata": {
        "id": "SDJxb1gnEKOR",
        "colab_type": "code",
        "outputId": "7ecd63e1-9df5-41af-c54a-3fe0a185ebe9",
        "colab": {
          "base_uri": "https://localhost:8080/",
          "height": 166
        }
      },
      "cell_type": "code",
      "source": [
        "modelD = Sequential()\n",
        "modelD.add(Embedding(input_dim=n_lemmas, output_dim=32, input_length=81))\n",
        "modelD.add(LSTM(units=100,return_sequences=True)) #or recurrent_dropout=0.2\n",
        "modelD.add(Dropout(0.2))\n",
        "modelD.add(Dense(n_labels, activation='softmax'))\n",
        "modelD.compile(loss='categorical_crossentropy', optimizer='adam')\n",
        "modelD.fit(X_train, y_train, validation_data=(X_test, y_test), epochs=3, batch_size=128)"
      ],
      "execution_count": 43,
      "outputs": [
        {
          "output_type": "stream",
          "text": [
            "Train on 33656 samples, validate on 14425 samples\n",
            "Epoch 1/3\n",
            "33656/33656 [==============================] - 68s 2ms/step - loss: 0.4921 - val_loss: 0.2152\n",
            "Epoch 2/3\n",
            "33656/33656 [==============================] - 67s 2ms/step - loss: 0.1605 - val_loss: 0.1067\n",
            "Epoch 3/3\n",
            "33656/33656 [==============================] - 67s 2ms/step - loss: 0.0861 - val_loss: 0.0681\n"
          ],
          "name": "stdout"
        },
        {
          "output_type": "execute_result",
          "data": {
            "text/plain": [
              "<keras.callbacks.History at 0x7eff97e49a58>"
            ]
          },
          "metadata": {
            "tags": []
          },
          "execution_count": 43
        }
      ]
    },
    {
      "metadata": {
        "id": "lNszcr0_EPaf",
        "colab_type": "code",
        "outputId": "fcfd160a-5100-45e8-db31-345c4684b293",
        "colab": {
          "base_uri": "https://localhost:8080/",
          "height": 110
        }
      },
      "cell_type": "code",
      "source": [
        "y_pred = np.ndarray.flatten(np.argmax(modelD.predict(X_test, verbose=0), axis = 2))\n",
        "print(\"F1 score on test: \", f1_score(aux_y_test[y_nozero], y_pred[y_nozero], average='weighted'))"
      ],
      "execution_count": 44,
      "outputs": [
        {
          "output_type": "stream",
          "text": [
            "F1 score on test:  0.9312365631078734\n"
          ],
          "name": "stdout"
        },
        {
          "output_type": "stream",
          "text": [
            "/usr/local/lib/python3.6/dist-packages/sklearn/metrics/classification.py:1143: UndefinedMetricWarning: F-score is ill-defined and being set to 0.0 in labels with no predicted samples.\n",
            "  'precision', 'predicted', average, warn_for)\n",
            "/usr/local/lib/python3.6/dist-packages/sklearn/metrics/classification.py:1145: UndefinedMetricWarning: F-score is ill-defined and being set to 0.0 in labels with no true samples.\n",
            "  'recall', 'true', average, warn_for)\n"
          ],
          "name": "stderr"
        }
      ]
    },
    {
      "metadata": {
        "id": "hb-8qVGJNjUL",
        "colab_type": "text"
      },
      "cell_type": "markdown",
      "source": [
        "Podemos ver que el desempeño aplicando Dropout sigue siendo bueno, aunque no supera el obtenido con el embedding 32 sin el Dropout. Debido a las razones explicadas anteriormente, puede haber cierta memoria que pierde el modelo, lo que en ciertos casos tiende a tener ciertas predicciones erróneas, aunque tampoco es para concluir que la aplicación de Dropout no es efectiva o empeora demasiado el desempeño."
      ]
    },
    {
      "metadata": {
        "id": "YGCVqBQjdj7Y",
        "colab_type": "text"
      },
      "cell_type": "markdown",
      "source": [
        "Hasta ahora, solo se ha implementado el modelo viendo las dependencias anteriores en cada sentencia, pero sería importante tener cierta visión del \"futuro\" considerando las palabras que vienen después de otra, por lo que una implementación bidireccional es la opción. Esto nos permite ver las dependencias en ambos sentidos y, analizando los valores de los tags, puede tener una repercusión bastante alta en el desempeño. Respecto al tipo de merge que se puede usar, se comprobarán los cuatro para ver cual obtiene un mejor desempeño."
      ]
    },
    {
      "metadata": {
        "id": "rNU4iTglVNO9",
        "colab_type": "code",
        "outputId": "754e7e91-a733-402f-865b-1e94ce3558b7",
        "colab": {
          "base_uri": "https://localhost:8080/",
          "height": 578
        }
      },
      "cell_type": "code",
      "source": [
        "embedding_vector = 32\n",
        "model = Sequential()\n",
        "model.add(Embedding(input_dim=n_lemmas, output_dim=embedding_vector, input_length=81))\n",
        "layer_lstm = LSTM(units=100,return_sequences=True)\n",
        "model.add(Bidirectional(layer_lstm,merge_mode='concat'))\n",
        "model.add(Dense(n_labels, activation='softmax'))\n",
        "model.summary()\n",
        "model.compile(loss='categorical_crossentropy', optimizer='adam')\n",
        "concat = model.fit(X_train, y_train, validation_data=(X_test, y_test), epochs=8, batch_size=128)"
      ],
      "execution_count": 64,
      "outputs": [
        {
          "output_type": "stream",
          "text": [
            "_________________________________________________________________\n",
            "Layer (type)                 Output Shape              Param #   \n",
            "=================================================================\n",
            "embedding_14 (Embedding)     (None, 81, 32)            647776    \n",
            "_________________________________________________________________\n",
            "bidirectional_8 (Bidirection (None, 81, 200)           106400    \n",
            "_________________________________________________________________\n",
            "dense_14 (Dense)             (None, 81, 17)            3417      \n",
            "=================================================================\n",
            "Total params: 757,593\n",
            "Trainable params: 757,593\n",
            "Non-trainable params: 0\n",
            "_________________________________________________________________\n",
            "Train on 33656 samples, validate on 14425 samples\n",
            "Epoch 1/8\n",
            "33656/33656 [==============================] - 131s 4ms/step - loss: 0.3854 - val_loss: 0.1874\n",
            "Epoch 2/8\n",
            "33656/33656 [==============================] - 126s 4ms/step - loss: 0.1326 - val_loss: 0.0984\n",
            "Epoch 3/8\n",
            "33656/33656 [==============================] - 126s 4ms/step - loss: 0.0769 - val_loss: 0.0647\n",
            "Epoch 4/8\n",
            "33656/33656 [==============================] - 126s 4ms/step - loss: 0.0498 - val_loss: 0.0485\n",
            "Epoch 5/8\n",
            "33656/33656 [==============================] - 127s 4ms/step - loss: 0.0394 - val_loss: 0.0437\n",
            "Epoch 6/8\n",
            "33656/33656 [==============================] - 126s 4ms/step - loss: 0.0338 - val_loss: 0.0404\n",
            "Epoch 7/8\n",
            "33656/33656 [==============================] - 125s 4ms/step - loss: 0.0302 - val_loss: 0.0395\n",
            "Epoch 8/8\n",
            "33656/33656 [==============================] - 126s 4ms/step - loss: 0.0273 - val_loss: 0.0378\n"
          ],
          "name": "stdout"
        }
      ]
    },
    {
      "metadata": {
        "id": "woMVYWJnegbZ",
        "colab_type": "code",
        "outputId": "c2170354-e2fb-45b3-cf16-bdd3458bcb8d",
        "colab": {
          "base_uri": "https://localhost:8080/",
          "height": 92
        }
      },
      "cell_type": "code",
      "source": [
        "y_pred = np.ndarray.flatten(np.argmax(model.predict(X_test, verbose=0), axis = 2))\n",
        "concat_score = f1_score(aux_y_test[y_nozero], y_pred[y_nozero], average='weighted')"
      ],
      "execution_count": 66,
      "outputs": [
        {
          "output_type": "stream",
          "text": [
            "/usr/local/lib/python3.6/dist-packages/sklearn/metrics/classification.py:1143: UndefinedMetricWarning: F-score is ill-defined and being set to 0.0 in labels with no predicted samples.\n",
            "  'precision', 'predicted', average, warn_for)\n",
            "/usr/local/lib/python3.6/dist-packages/sklearn/metrics/classification.py:1145: UndefinedMetricWarning: F-score is ill-defined and being set to 0.0 in labels with no true samples.\n",
            "  'recall', 'true', average, warn_for)\n"
          ],
          "name": "stderr"
        }
      ]
    },
    {
      "metadata": {
        "id": "biCHaAV5SL0v",
        "colab_type": "code",
        "colab": {
          "base_uri": "https://localhost:8080/",
          "height": 652
        },
        "outputId": "39936618-63ae-4b91-952c-ff78bc069fae"
      },
      "cell_type": "code",
      "source": [
        "embedding_vector = 32\n",
        "model = Sequential()\n",
        "model.add(Embedding(input_dim=n_lemmas, output_dim=embedding_vector, input_length=81))\n",
        "layer_lstm = LSTM(units=100,return_sequences=True)\n",
        "model.add(Bidirectional(layer_lstm,merge_mode='sum'))\n",
        "model.add(Dense(n_labels, activation='softmax'))\n",
        "model.summary()\n",
        "model.compile(loss='categorical_crossentropy', optimizer='adam')\n",
        "suma = model.fit(X_train, y_train, validation_data=(X_test, y_test), epochs=8, batch_size=128)\n",
        "y_pred = np.ndarray.flatten(np.argmax(model.predict(X_test, verbose=0), axis = 2))\n",
        "sum_score = f1_score(aux_y_test[y_nozero], y_pred[y_nozero], average='weighted')"
      ],
      "execution_count": 67,
      "outputs": [
        {
          "output_type": "stream",
          "text": [
            "_________________________________________________________________\n",
            "Layer (type)                 Output Shape              Param #   \n",
            "=================================================================\n",
            "embedding_15 (Embedding)     (None, 81, 32)            647776    \n",
            "_________________________________________________________________\n",
            "bidirectional_9 (Bidirection (None, 81, 100)           106400    \n",
            "_________________________________________________________________\n",
            "dense_15 (Dense)             (None, 81, 17)            1717      \n",
            "=================================================================\n",
            "Total params: 755,893\n",
            "Trainable params: 755,893\n",
            "Non-trainable params: 0\n",
            "_________________________________________________________________\n",
            "Train on 33656 samples, validate on 14425 samples\n",
            "Epoch 1/8\n",
            "33656/33656 [==============================] - 131s 4ms/step - loss: 0.3688 - val_loss: 0.1900\n",
            "Epoch 2/8\n",
            "33656/33656 [==============================] - 126s 4ms/step - loss: 0.1396 - val_loss: 0.1002\n",
            "Epoch 3/8\n",
            "33656/33656 [==============================] - 126s 4ms/step - loss: 0.0746 - val_loss: 0.0611\n",
            "Epoch 4/8\n",
            "33656/33656 [==============================] - 125s 4ms/step - loss: 0.0496 - val_loss: 0.0497\n",
            "Epoch 5/8\n",
            "33656/33656 [==============================] - 126s 4ms/step - loss: 0.0400 - val_loss: 0.0446\n",
            "Epoch 6/8\n",
            "33656/33656 [==============================] - 126s 4ms/step - loss: 0.0343 - val_loss: 0.0405\n",
            "Epoch 7/8\n",
            "33656/33656 [==============================] - 126s 4ms/step - loss: 0.0304 - val_loss: 0.0387\n",
            "Epoch 8/8\n",
            "33656/33656 [==============================] - 126s 4ms/step - loss: 0.0274 - val_loss: 0.0374\n"
          ],
          "name": "stdout"
        },
        {
          "output_type": "stream",
          "text": [
            "/usr/local/lib/python3.6/dist-packages/sklearn/metrics/classification.py:1143: UndefinedMetricWarning: F-score is ill-defined and being set to 0.0 in labels with no predicted samples.\n",
            "  'precision', 'predicted', average, warn_for)\n",
            "/usr/local/lib/python3.6/dist-packages/sklearn/metrics/classification.py:1145: UndefinedMetricWarning: F-score is ill-defined and being set to 0.0 in labels with no true samples.\n",
            "  'recall', 'true', average, warn_for)\n"
          ],
          "name": "stderr"
        }
      ]
    },
    {
      "metadata": {
        "id": "0WardpJrS53m",
        "colab_type": "code",
        "colab": {
          "base_uri": "https://localhost:8080/",
          "height": 652
        },
        "outputId": "d30826ec-88f8-4582-8f7d-ecc1d7adc3c7"
      },
      "cell_type": "code",
      "source": [
        "embedding_vector = 32\n",
        "model = Sequential()\n",
        "model.add(Embedding(input_dim=n_lemmas, output_dim=embedding_vector, input_length=81))\n",
        "layer_lstm = LSTM(units=100,return_sequences=True)\n",
        "model.add(Bidirectional(layer_lstm,merge_mode='mul'))\n",
        "model.add(Dense(n_labels, activation='softmax'))\n",
        "model.summary()\n",
        "model.compile(loss='categorical_crossentropy', optimizer='adam')\n",
        "mul = model.fit(X_train, y_train, validation_data=(X_test, y_test), epochs=8, batch_size=128)\n",
        "y_pred = np.ndarray.flatten(np.argmax(model.predict(X_test, verbose=0), axis = 2))\n",
        "mul_score = f1_score(aux_y_test[y_nozero], y_pred[y_nozero], average='weighted')"
      ],
      "execution_count": 68,
      "outputs": [
        {
          "output_type": "stream",
          "text": [
            "_________________________________________________________________\n",
            "Layer (type)                 Output Shape              Param #   \n",
            "=================================================================\n",
            "embedding_16 (Embedding)     (None, 81, 32)            647776    \n",
            "_________________________________________________________________\n",
            "bidirectional_10 (Bidirectio (None, 81, 100)           106400    \n",
            "_________________________________________________________________\n",
            "dense_16 (Dense)             (None, 81, 17)            1717      \n",
            "=================================================================\n",
            "Total params: 755,893\n",
            "Trainable params: 755,893\n",
            "Non-trainable params: 0\n",
            "_________________________________________________________________\n",
            "Train on 33656 samples, validate on 14425 samples\n",
            "Epoch 1/8\n",
            "33656/33656 [==============================] - 132s 4ms/step - loss: 0.5512 - val_loss: 0.1956\n",
            "Epoch 2/8\n",
            "33656/33656 [==============================] - 126s 4ms/step - loss: 0.1340 - val_loss: 0.0953\n",
            "Epoch 3/8\n",
            "33656/33656 [==============================] - 126s 4ms/step - loss: 0.0746 - val_loss: 0.0658\n",
            "Epoch 4/8\n",
            "33656/33656 [==============================] - 126s 4ms/step - loss: 0.0547 - val_loss: 0.0547\n",
            "Epoch 5/8\n",
            "33656/33656 [==============================] - 126s 4ms/step - loss: 0.0445 - val_loss: 0.0485\n",
            "Epoch 6/8\n",
            "33656/33656 [==============================] - 126s 4ms/step - loss: 0.0384 - val_loss: 0.0456\n",
            "Epoch 7/8\n",
            "33656/33656 [==============================] - 126s 4ms/step - loss: 0.0344 - val_loss: 0.0435\n",
            "Epoch 8/8\n",
            "33656/33656 [==============================] - 126s 4ms/step - loss: 0.0317 - val_loss: 0.0415\n"
          ],
          "name": "stdout"
        },
        {
          "output_type": "stream",
          "text": [
            "/usr/local/lib/python3.6/dist-packages/sklearn/metrics/classification.py:1143: UndefinedMetricWarning: F-score is ill-defined and being set to 0.0 in labels with no predicted samples.\n",
            "  'precision', 'predicted', average, warn_for)\n",
            "/usr/local/lib/python3.6/dist-packages/sklearn/metrics/classification.py:1145: UndefinedMetricWarning: F-score is ill-defined and being set to 0.0 in labels with no true samples.\n",
            "  'recall', 'true', average, warn_for)\n"
          ],
          "name": "stderr"
        }
      ]
    },
    {
      "metadata": {
        "id": "K5tlj13DTE51",
        "colab_type": "code",
        "colab": {
          "base_uri": "https://localhost:8080/",
          "height": 652
        },
        "outputId": "b1580e0e-24c6-4c27-d1fa-1d491aff3d53"
      },
      "cell_type": "code",
      "source": [
        "embedding_vector = 32\n",
        "model = Sequential()\n",
        "model.add(Embedding(input_dim=n_lemmas, output_dim=embedding_vector, input_length=81))\n",
        "layer_lstm = LSTM(units=100,return_sequences=True)\n",
        "model.add(Bidirectional(layer_lstm,merge_mode='ave'))\n",
        "model.add(Dense(n_labels, activation='softmax'))\n",
        "model.summary()\n",
        "model.compile(loss='categorical_crossentropy', optimizer='adam')\n",
        "ave = model.fit(X_train, y_train, validation_data=(X_test, y_test), epochs=8, batch_size=128)\n",
        "y_pred = np.ndarray.flatten(np.argmax(model.predict(X_test, verbose=0), axis = 2))\n",
        "ave_score = f1_score(aux_y_test[y_nozero], y_pred[y_nozero], average='weighted')"
      ],
      "execution_count": 69,
      "outputs": [
        {
          "output_type": "stream",
          "text": [
            "_________________________________________________________________\n",
            "Layer (type)                 Output Shape              Param #   \n",
            "=================================================================\n",
            "embedding_17 (Embedding)     (None, 81, 32)            647776    \n",
            "_________________________________________________________________\n",
            "bidirectional_11 (Bidirectio (None, 81, 100)           106400    \n",
            "_________________________________________________________________\n",
            "dense_17 (Dense)             (None, 81, 17)            1717      \n",
            "=================================================================\n",
            "Total params: 755,893\n",
            "Trainable params: 755,893\n",
            "Non-trainable params: 0\n",
            "_________________________________________________________________\n",
            "Train on 33656 samples, validate on 14425 samples\n",
            "Epoch 1/8\n",
            "33656/33656 [==============================] - 132s 4ms/step - loss: 0.4322 - val_loss: 0.2033\n",
            "Epoch 2/8\n",
            "33656/33656 [==============================] - 126s 4ms/step - loss: 0.1675 - val_loss: 0.1244\n",
            "Epoch 3/8\n",
            "33656/33656 [==============================] - 126s 4ms/step - loss: 0.1027 - val_loss: 0.0875\n",
            "Epoch 4/8\n",
            "33656/33656 [==============================] - 126s 4ms/step - loss: 0.0707 - val_loss: 0.0630\n",
            "Epoch 5/8\n",
            "33656/33656 [==============================] - 126s 4ms/step - loss: 0.0514 - val_loss: 0.0511\n",
            "Epoch 6/8\n",
            "33656/33656 [==============================] - 127s 4ms/step - loss: 0.0419 - val_loss: 0.0451\n",
            "Epoch 7/8\n",
            "33656/33656 [==============================] - 126s 4ms/step - loss: 0.0362 - val_loss: 0.0416\n",
            "Epoch 8/8\n",
            "33656/33656 [==============================] - 127s 4ms/step - loss: 0.0320 - val_loss: 0.0395\n"
          ],
          "name": "stdout"
        },
        {
          "output_type": "stream",
          "text": [
            "/usr/local/lib/python3.6/dist-packages/sklearn/metrics/classification.py:1143: UndefinedMetricWarning: F-score is ill-defined and being set to 0.0 in labels with no predicted samples.\n",
            "  'precision', 'predicted', average, warn_for)\n",
            "/usr/local/lib/python3.6/dist-packages/sklearn/metrics/classification.py:1145: UndefinedMetricWarning: F-score is ill-defined and being set to 0.0 in labels with no true samples.\n",
            "  'recall', 'true', average, warn_for)\n"
          ],
          "name": "stderr"
        }
      ]
    },
    {
      "metadata": {
        "id": "X7Tl0wqNc0sL",
        "colab_type": "code",
        "colab": {
          "base_uri": "https://localhost:8080/",
          "height": 403
        },
        "outputId": "1f1b4523-0d81-4603-ce35-59de21d9e1c5"
      },
      "cell_type": "code",
      "source": [
        "plt.figure(figsize=(15,6))\n",
        "plt.plot(ave.history['val_loss'])\n",
        "plt.plot(mul.history['val_loss'])\n",
        "plt.plot(suma.history['val_loss'])\n",
        "plt.plot(concat.history['val_loss'])\n",
        "plt.title('Model Val_Loss')\n",
        "plt.xlabel('Epoch')\n",
        "plt.ylabel('Val_Loss')\n",
        "plt.legend(['Average', 'Multiplication', 'Sum', 'Concatenate'], loc='upper right')\n",
        "plt.show()"
      ],
      "execution_count": 70,
      "outputs": [
        {
          "output_type": "display_data",
          "data": {
            "image/png": "[encoded data removed]",
            "text/plain": [
              "<matplotlib.figure.Figure at 0x7eff609a9400>"
            ]
          },
          "metadata": {
            "tags": []
          }
        }
      ]
    },
    {
      "metadata": {
        "id": "WBbbbHWs7hGp",
        "colab_type": "text"
      },
      "cell_type": "markdown",
      "source": [
        "A pesar de que convergen a valores muy cercanos, se ve que el que posee mejor desempeño es el Sum, teniendo al average casi como el peor, comienza con error alto pero al converger mejora sus valores, siendo el de multiplicación el que posee problemas."
      ]
    },
    {
      "metadata": {
        "id": "etDNTOURPSCK",
        "colab_type": "text"
      },
      "cell_type": "markdown",
      "source": [
        "Debido a la gran cantidad de sentencias que poseen ceros (como se vio en el histograma, la sentencia de largo 81, que es el máximo, tiene una gran diferencia con el largo de las demás, por lo que la mayoría de las sentencias poseen muchos 0 por el padding) sería útil ocupar una capa de masking el cual nos ayude a esconder esta \"ausencia\" de información para las dimensiones mas grandes. Para eso, antes de ingresar los datos a la unidad LSTM se realiza el mask_zero=True. Para comprobar como se va entrenando la red, se realizará una cantidad mayor de epochs para poder apreciar mejor su comportamiento en una gráfica."
      ]
    },
    {
      "metadata": {
        "id": "O5vFcf-7il3-",
        "colab_type": "code",
        "outputId": "d4852abc-1230-4d94-81b5-f21b0cb41f56",
        "colab": {
          "base_uri": "https://localhost:8080/",
          "height": 876
        }
      },
      "cell_type": "code",
      "source": [
        "embedding_vector = 32\n",
        "model = Sequential()\n",
        "model.add(Embedding(input_dim=n_lemmas, output_dim=embedding_vector, input_length=81, mask_zero=True))\n",
        "model.add(LSTM(units=100,return_sequences=True))\n",
        "model.add(Dense(n_labels, activation='softmax'))\n",
        "model.summary()\n",
        "model.compile(loss='categorical_crossentropy', optimizer='adam')\n",
        "mask = model.fit(X_train, y_train, validation_data=(X_test, y_test), epochs=15, batch_size=128)\n",
        "y_pred = np.ndarray.flatten(np.argmax(model.predict(X_test, verbose=0), axis = 2))\n",
        "mask_score = f1_score(aux_y_test[y_nozero], y_pred[y_nozero], average='weighted')"
      ],
      "execution_count": 61,
      "outputs": [
        {
          "output_type": "stream",
          "text": [
            "_________________________________________________________________\n",
            "Layer (type)                 Output Shape              Param #   \n",
            "=================================================================\n",
            "embedding_13 (Embedding)     (None, 81, 32)            647776    \n",
            "_________________________________________________________________\n",
            "lstm_13 (LSTM)               (None, 81, 100)           53200     \n",
            "_________________________________________________________________\n",
            "dense_13 (Dense)             (None, 81, 17)            1717      \n",
            "=================================================================\n",
            "Total params: 702,693\n",
            "Trainable params: 702,693\n",
            "Non-trainable params: 0\n",
            "_________________________________________________________________\n",
            "Train on 33656 samples, validate on 14425 samples\n",
            "Epoch 1/15\n",
            "33656/33656 [==============================] - 92s 3ms/step - loss: 0.8436 - val_loss: 0.4316\n",
            "Epoch 2/15\n",
            "33656/33656 [==============================] - 87s 3ms/step - loss: 0.3757 - val_loss: 0.3411\n",
            "Epoch 3/15\n",
            "33656/33656 [==============================] - 88s 3ms/step - loss: 0.2944 - val_loss: 0.2584\n",
            "Epoch 4/15\n",
            "33656/33656 [==============================] - 88s 3ms/step - loss: 0.2123 - val_loss: 0.2002\n",
            "Epoch 5/15\n",
            "33656/33656 [==============================] - 88s 3ms/step - loss: 0.1665 - val_loss: 0.1719\n",
            "Epoch 6/15\n",
            "33656/33656 [==============================] - 88s 3ms/step - loss: 0.1425 - val_loss: 0.1630\n",
            "Epoch 7/15\n",
            "33656/33656 [==============================] - 88s 3ms/step - loss: 0.1279 - val_loss: 0.1542\n",
            "Epoch 8/15\n",
            "33656/33656 [==============================] - 88s 3ms/step - loss: 0.1183 - val_loss: 0.1498\n",
            "Epoch 9/15\n",
            "33656/33656 [==============================] - 88s 3ms/step - loss: 0.1117 - val_loss: 0.1459\n",
            "Epoch 10/15\n",
            "33656/33656 [==============================] - 88s 3ms/step - loss: 0.1059 - val_loss: 0.1451\n",
            "Epoch 11/15\n",
            "33656/33656 [==============================] - 87s 3ms/step - loss: 0.1013 - val_loss: 0.1466\n",
            "Epoch 12/15\n",
            "33656/33656 [==============================] - 87s 3ms/step - loss: 0.0971 - val_loss: 0.1441\n",
            "Epoch 13/15\n",
            "33656/33656 [==============================] - 88s 3ms/step - loss: 0.0937 - val_loss: 0.1440\n",
            "Epoch 14/15\n",
            "33656/33656 [==============================] - 88s 3ms/step - loss: 0.0901 - val_loss: 0.1445\n",
            "Epoch 15/15\n",
            "33656/33656 [==============================] - 88s 3ms/step - loss: 0.0872 - val_loss: 0.1446\n"
          ],
          "name": "stdout"
        },
        {
          "output_type": "stream",
          "text": [
            "/usr/local/lib/python3.6/dist-packages/sklearn/metrics/classification.py:1145: UndefinedMetricWarning: F-score is ill-defined and being set to 0.0 in labels with no true samples.\n",
            "  'recall', 'true', average, warn_for)\n"
          ],
          "name": "stderr"
        }
      ]
    },
    {
      "metadata": {
        "id": "Yivoyn7vStiE",
        "colab_type": "code",
        "outputId": "4967a196-dc46-4f3f-f889-8700c3d13f48",
        "colab": {
          "base_uri": "https://localhost:8080/",
          "height": 403
        }
      },
      "cell_type": "code",
      "source": [
        "plt.figure(figsize=(15,6))\n",
        "plt.plot(mask.history['loss'])\n",
        "plt.plot(mask.history['val_loss'])\n",
        "plt.title('Model Loss')\n",
        "plt.xlabel('Epoch')\n",
        "plt.ylabel('Val_Loss')\n",
        "plt.legend(['Train', 'Validation'], loc='upper right')\n",
        "plt.show()"
      ],
      "execution_count": 63,
      "outputs": [
        {
          "output_type": "display_data",
          "data": {
            "image/png": "[encoded data removed]",
            "text/plain": [
              "<matplotlib.figure.Figure at 0x7eff62905908>"
            ]
          },
          "metadata": {
            "tags": []
          }
        }
      ]
    },
    {
      "metadata": {
        "id": "fhu5u04bpE01",
        "colab_type": "code",
        "colab": {
          "base_uri": "https://localhost:8080/",
          "height": 36
        },
        "outputId": "4096448b-e231-46d3-c4c0-b008b17a1e62"
      },
      "cell_type": "code",
      "source": [
        "print(mask_score)"
      ],
      "execution_count": 65,
      "outputs": [
        {
          "output_type": "stream",
          "text": [
            "0.9671433262047205\n"
          ],
          "name": "stdout"
        }
      ]
    },
    {
      "metadata": {
        "id": "AtyzNxuRpIUc",
        "colab_type": "text"
      },
      "cell_type": "markdown",
      "source": [
        "Primero que todo vemos que los tiempos de entrenamiento se han reducido comparado a los modelos anteriores, donde podemos ver que por cada epoch se demora entre 120 a 130 [sg], mientras que con el masking se demora entre 87 a 92 [sg], lo que es casi medio minuto menos. Esto se debe principalmente a la misma máscara, la cual no considera estos valores de 0 presentes.\n",
        "\n",
        "Respecto a la curva de entrenamiento vemos que comienza con un error más alto que los otros modelos, pero mientras se aumenta los epoch logra llegar a valores parecidos. Por lo tanto podemos decir que aplicando masking la convergencia es mas lenta además que se acerca a un valor mayor que los otros modelos anteriores.\n",
        "\n",
        "Aun así donde destaca es en su score, el cual es el modelo que mejor ha obtenido resultados con un 0.96. Por lo tanto vemos que la ampliación de las sentencias con padding influye de gran manera al desempeño de la red."
      ]
    },
    {
      "metadata": {
        "id": "zbWVOFFQty2j",
        "colab_type": "text"
      },
      "cell_type": "markdown",
      "source": [
        "Tras todo el análisis anterior, la idea ahora es intentar tomar las variaciones que lograron un mejor desempeño y ver si en conjunto pueden potenciar aún más el aprendizaje de la red. Luego de esto, se tomará el mismo modelo y se le cambiara el gate por GRU. Con esto tendremos 2 modelos, los cuales probaremos su desempeño y veremos si logramos aumentar más el score."
      ]
    },
    {
      "metadata": {
        "id": "gfl9XDV0PTAe",
        "colab_type": "text"
      },
      "cell_type": "markdown",
      "source": [
        "Por lo anterior, sabemos que se obtuvieron buenos desempeños aplicando masking a las sentencias, ocupando un embedding con dimensión alta, modelo bidireccional con un merge_mode = sum y aumentando a 120 las unidades en la capas, sea LSTM o GRU."
      ]
    },
    {
      "metadata": {
        "id": "WLdQIlbpPTxL",
        "colab_type": "code",
        "colab": {
          "base_uri": "https://localhost:8080/",
          "height": 690
        },
        "outputId": "90108f77-bf1d-416a-9075-0979e034823f"
      },
      "cell_type": "code",
      "source": [
        "embedding_vector = 48\n",
        "model = Sequential()\n",
        "model.add(Embedding(input_dim=n_lemmas, output_dim=embedding_vector, input_length=81, mask_zero=True))\n",
        "layer_lstm = LSTM(units=120,return_sequences=True)\n",
        "model.add(Bidirectional(layer_lstm,merge_mode='sum'))\n",
        "model.add(Dense(n_labels, activation='softmax'))\n",
        "model.summary()\n",
        "model.compile(loss='categorical_crossentropy', optimizer='adam')\n",
        "best = model.fit(X_train, y_train, validation_data=(X_test, y_test), epochs=10, batch_size=128)\n",
        "y_pred = np.ndarray.flatten(np.argmax(model.predict(X_test, verbose=0), axis = 2))\n",
        "best_score = f1_score(aux_y_test[y_nozero], y_pred[y_nozero], average='weighted')"
      ],
      "execution_count": 71,
      "outputs": [
        {
          "output_type": "stream",
          "text": [
            "_________________________________________________________________\n",
            "Layer (type)                 Output Shape              Param #   \n",
            "=================================================================\n",
            "embedding_18 (Embedding)     (None, 81, 48)            971664    \n",
            "_________________________________________________________________\n",
            "bidirectional_12 (Bidirectio (None, 81, 120)           162240    \n",
            "_________________________________________________________________\n",
            "dense_18 (Dense)             (None, 81, 17)            2057      \n",
            "=================================================================\n",
            "Total params: 1,135,961\n",
            "Trainable params: 1,135,961\n",
            "Non-trainable params: 0\n",
            "_________________________________________________________________\n",
            "Train on 33656 samples, validate on 14425 samples\n",
            "Epoch 1/10\n",
            "33656/33656 [==============================] - 175s 5ms/step - loss: 0.6876 - val_loss: 0.3505\n",
            "Epoch 2/10\n",
            "33656/33656 [==============================] - 168s 5ms/step - loss: 0.2496 - val_loss: 0.1939\n",
            "Epoch 3/10\n",
            "33656/33656 [==============================] - 167s 5ms/step - loss: 0.1570 - val_loss: 0.1550\n",
            "Epoch 4/10\n",
            "33656/33656 [==============================] - 168s 5ms/step - loss: 0.1242 - val_loss: 0.1388\n",
            "Epoch 5/10\n",
            "33656/33656 [==============================] - 167s 5ms/step - loss: 0.1049 - val_loss: 0.1299\n",
            "Epoch 6/10\n",
            "33656/33656 [==============================] - 168s 5ms/step - loss: 0.0917 - val_loss: 0.1280\n",
            "Epoch 7/10\n",
            "33656/33656 [==============================] - 167s 5ms/step - loss: 0.0828 - val_loss: 0.1270\n",
            "Epoch 8/10\n",
            "33656/33656 [==============================] - 167s 5ms/step - loss: 0.0746 - val_loss: 0.1272\n",
            "Epoch 9/10\n",
            "33656/33656 [==============================] - 167s 5ms/step - loss: 0.0682 - val_loss: 0.1293\n",
            "Epoch 10/10\n",
            "33656/33656 [==============================] - 168s 5ms/step - loss: 0.0630 - val_loss: 0.1314\n"
          ],
          "name": "stdout"
        },
        {
          "output_type": "stream",
          "text": [
            "/usr/local/lib/python3.6/dist-packages/sklearn/metrics/classification.py:1145: UndefinedMetricWarning: F-score is ill-defined and being set to 0.0 in labels with no true samples.\n",
            "  'recall', 'true', average, warn_for)\n"
          ],
          "name": "stderr"
        }
      ]
    },
    {
      "metadata": {
        "id": "tgL5Jwll8qmg",
        "colab_type": "code",
        "colab": {
          "base_uri": "https://localhost:8080/",
          "height": 690
        },
        "outputId": "d5f02a86-9bce-4a00-91bf-2989f86c99b2"
      },
      "cell_type": "code",
      "source": [
        "## GRU\n",
        "embedding_vector = 48\n",
        "model = Sequential()\n",
        "model.add(Embedding(input_dim=n_lemmas, output_dim=embedding_vector, input_length=81, mask_zero=True))\n",
        "layer_gru = GRU(units=120,return_sequences=True)\n",
        "model.add(Bidirectional(layer_gru, merge_mode='sum'))\n",
        "model.add(Dense(n_labels, activation='softmax'))\n",
        "model.summary()\n",
        "model.compile(loss='categorical_crossentropy', optimizer='adam')\n",
        "gru = model.fit(X_train, y_train, validation_data=(X_test, y_test), epochs=10, batch_size=128)\n",
        "y_pred = np.ndarray.flatten(np.argmax(model.predict(X_test, verbose=0), axis = 2))\n",
        "gru_score = f1_score(aux_y_test[y_nozero], y_pred[y_nozero], average='weighted')"
      ],
      "execution_count": 72,
      "outputs": [
        {
          "output_type": "stream",
          "text": [
            "_________________________________________________________________\n",
            "Layer (type)                 Output Shape              Param #   \n",
            "=================================================================\n",
            "embedding_19 (Embedding)     (None, 81, 48)            971664    \n",
            "_________________________________________________________________\n",
            "bidirectional_13 (Bidirectio (None, 81, 120)           121680    \n",
            "_________________________________________________________________\n",
            "dense_19 (Dense)             (None, 81, 17)            2057      \n",
            "=================================================================\n",
            "Total params: 1,095,401\n",
            "Trainable params: 1,095,401\n",
            "Non-trainable params: 0\n",
            "_________________________________________________________________\n",
            "Train on 33656 samples, validate on 14425 samples\n",
            "Epoch 1/10\n",
            "33656/33656 [==============================] - 140s 4ms/step - loss: 0.6255 - val_loss: 0.2712\n",
            "Epoch 2/10\n",
            "33656/33656 [==============================] - 133s 4ms/step - loss: 0.1952 - val_loss: 0.1611\n",
            "Epoch 3/10\n",
            "33656/33656 [==============================] - 133s 4ms/step - loss: 0.1296 - val_loss: 0.1383\n",
            "Epoch 4/10\n",
            "33656/33656 [==============================] - 133s 4ms/step - loss: 0.1052 - val_loss: 0.1281\n",
            "Epoch 5/10\n",
            "33656/33656 [==============================] - 133s 4ms/step - loss: 0.0910 - val_loss: 0.1267\n",
            "Epoch 6/10\n",
            "33656/33656 [==============================] - 133s 4ms/step - loss: 0.0813 - val_loss: 0.1246\n",
            "Epoch 7/10\n",
            "33656/33656 [==============================] - 133s 4ms/step - loss: 0.0729 - val_loss: 0.1260\n",
            "Epoch 8/10\n",
            "33656/33656 [==============================] - 133s 4ms/step - loss: 0.0657 - val_loss: 0.1305\n",
            "Epoch 9/10\n",
            "33656/33656 [==============================] - 133s 4ms/step - loss: 0.0596 - val_loss: 0.1290\n",
            "Epoch 10/10\n",
            "33656/33656 [==============================] - 132s 4ms/step - loss: 0.0534 - val_loss: 0.1355\n"
          ],
          "name": "stdout"
        },
        {
          "output_type": "stream",
          "text": [
            "/usr/local/lib/python3.6/dist-packages/sklearn/metrics/classification.py:1145: UndefinedMetricWarning: F-score is ill-defined and being set to 0.0 in labels with no true samples.\n",
            "  'recall', 'true', average, warn_for)\n"
          ],
          "name": "stderr"
        }
      ]
    },
    {
      "metadata": {
        "id": "rScv-_LO9SbQ",
        "colab_type": "code",
        "colab": {
          "base_uri": "https://localhost:8080/",
          "height": 54
        },
        "outputId": "86701a58-3f2b-4ba3-fb5f-09937882264d"
      },
      "cell_type": "code",
      "source": [
        "print(\"LSTM = \" , best_score)\n",
        "print(\"GRU = \", gru_score)"
      ],
      "execution_count": 73,
      "outputs": [
        {
          "output_type": "stream",
          "text": [
            "LSTM =  0.9708988975846343\n",
            "GRU =  0.9721138650862691\n"
          ],
          "name": "stdout"
        }
      ]
    },
    {
      "metadata": {
        "id": "w4rlKdwA9v67",
        "colab_type": "code",
        "colab": {
          "base_uri": "https://localhost:8080/",
          "height": 614
        },
        "outputId": "a483465e-e0a6-4c31-e286-2cb21a9bf4cd"
      },
      "cell_type": "code",
      "source": [
        "plt.figure(figsize=(18, 8), dpi=80, facecolor='w', edgecolor='b')\n",
        "plt.subplot(1, 2, 1)\n",
        "plt.suptitle(\"Train\")\n",
        "plt.plot(best.history['loss'])\n",
        "plt.plot(gru.history['loss'])\n",
        "plt.title('Model Loss')\n",
        "plt.xlabel('Epoch')\n",
        "plt.ylabel('Loss')\n",
        "plt.grid(True)\n",
        "plt.legend(['LSTM', 'GRU'], loc='upper right')\n",
        "\n",
        "plt.subplot(1, 2, 2)\n",
        "plt.plot(best.history['val_loss'])\n",
        "plt.plot(gru.history['val_loss'])\n",
        "plt.title('Model Val_Loss')\n",
        "plt.xlabel('Epoch')\n",
        "plt.ylabel('Loss')\n",
        "plt.legend(['LSTM','GRU'], loc='upper right')\n",
        "plt.grid(True)\n",
        "plt.show()"
      ],
      "execution_count": 74,
      "outputs": [
        {
          "output_type": "display_data",
          "data": {
            "image/png": "[encoded data removed]",
            "text/plain": [
              "<matplotlib.figure.Figure at 0x7eff599284a8>"
            ]
          },
          "metadata": {
            "tags": []
          }
        }
      ]
    },
    {
      "metadata": {
        "id": "qOElyTb_IkpC",
        "colab_type": "text"
      },
      "cell_type": "markdown",
      "source": [
        "Podemos apreciar que en ambos modelos logramos mejorar el desempeño ahora hasta un 0.97, siendo GRU el que obtiene un mejor desempeño con 0.972. Además vemos en el gráfico que la función de loss en ambos conjuntos están disminuyendo casi a la par, por lo que no hay presencia de overfitting. En general, son muy buenos resultados, por lo que se mantendrá el modelo GRU como el mejor."
      ]
    },
    {
      "metadata": {
        "id": "kP4884JsPUIa",
        "colab_type": "text"
      },
      "cell_type": "markdown",
      "source": [
        "l"
      ]
    },
    {
      "metadata": {
        "id": "VqVpbWTDPfC5",
        "colab_type": "code",
        "colab": {
          "base_uri": "https://localhost:8080/",
          "height": 249
        },
        "outputId": "f8892725-7e4c-49ff-8133-b7b1f0466971"
      },
      "cell_type": "code",
      "source": [
        "p = model.predict(np.array([X_test[i]]))\n",
        "p = np.argmax(p, axis=-1)\n",
        "print(\"{:15}: {}\".format(\"Lemma\", \"Pred\"))\n",
        "for w,pred in zip(X_test[i],p[0]):\n",
        "    print(\"{:15}: {}\".format(lemmas[w],labels[pred]))"
      ],
      "execution_count": 75,
      "outputs": [
        {
          "output_type": "error",
          "ename": "NameError",
          "evalue": "ignored",
          "traceback": [
            "\u001b[0;31m---------------------------------------------------------------------------\u001b[0m",
            "\u001b[0;31mNameError\u001b[0m                                 Traceback (most recent call last)",
            "\u001b[0;32m<ipython-input-75-71f71d5f2bc0>\u001b[0m in \u001b[0;36m<module>\u001b[0;34m()\u001b[0m\n\u001b[0;32m----> 1\u001b[0;31m \u001b[0mp\u001b[0m \u001b[0;34m=\u001b[0m \u001b[0mmodel\u001b[0m\u001b[0;34m.\u001b[0m\u001b[0mpredict\u001b[0m\u001b[0;34m(\u001b[0m\u001b[0mnp\u001b[0m\u001b[0;34m.\u001b[0m\u001b[0marray\u001b[0m\u001b[0;34m(\u001b[0m\u001b[0;34m[\u001b[0m\u001b[0mX_test\u001b[0m\u001b[0;34m[\u001b[0m\u001b[0mi\u001b[0m\u001b[0;34m]\u001b[0m\u001b[0;34m]\u001b[0m\u001b[0;34m)\u001b[0m\u001b[0;34m)\u001b[0m\u001b[0;34m\u001b[0m\u001b[0;34m\u001b[0m\u001b[0m\n\u001b[0m\u001b[1;32m      2\u001b[0m \u001b[0mp\u001b[0m \u001b[0;34m=\u001b[0m \u001b[0mnp\u001b[0m\u001b[0;34m.\u001b[0m\u001b[0margmax\u001b[0m\u001b[0;34m(\u001b[0m\u001b[0mp\u001b[0m\u001b[0;34m,\u001b[0m \u001b[0maxis\u001b[0m\u001b[0;34m=\u001b[0m\u001b[0;34m-\u001b[0m\u001b[0;36m1\u001b[0m\u001b[0;34m)\u001b[0m\u001b[0;34m\u001b[0m\u001b[0;34m\u001b[0m\u001b[0m\n\u001b[1;32m      3\u001b[0m \u001b[0mprint\u001b[0m\u001b[0;34m(\u001b[0m\u001b[0;34m\"{:15}: {}\"\u001b[0m\u001b[0;34m.\u001b[0m\u001b[0mformat\u001b[0m\u001b[0;34m(\u001b[0m\u001b[0;34m\"Lemma\"\u001b[0m\u001b[0;34m,\u001b[0m \u001b[0;34m\"Pred\"\u001b[0m\u001b[0;34m)\u001b[0m\u001b[0;34m)\u001b[0m\u001b[0;34m\u001b[0m\u001b[0;34m\u001b[0m\u001b[0m\n\u001b[1;32m      4\u001b[0m \u001b[0;32mfor\u001b[0m \u001b[0mw\u001b[0m\u001b[0;34m,\u001b[0m\u001b[0mpred\u001b[0m \u001b[0;32min\u001b[0m \u001b[0mzip\u001b[0m\u001b[0;34m(\u001b[0m\u001b[0mX_test\u001b[0m\u001b[0;34m[\u001b[0m\u001b[0mi\u001b[0m\u001b[0;34m]\u001b[0m\u001b[0;34m,\u001b[0m\u001b[0mp\u001b[0m\u001b[0;34m[\u001b[0m\u001b[0;36m0\u001b[0m\u001b[0;34m]\u001b[0m\u001b[0;34m)\u001b[0m\u001b[0;34m:\u001b[0m\u001b[0;34m\u001b[0m\u001b[0;34m\u001b[0m\u001b[0m\n\u001b[1;32m      5\u001b[0m     \u001b[0mprint\u001b[0m\u001b[0;34m(\u001b[0m\u001b[0;34m\"{:15}: {}\"\u001b[0m\u001b[0;34m.\u001b[0m\u001b[0mformat\u001b[0m\u001b[0;34m(\u001b[0m\u001b[0mlemmas\u001b[0m\u001b[0;34m[\u001b[0m\u001b[0mw\u001b[0m\u001b[0;34m]\u001b[0m\u001b[0;34m,\u001b[0m\u001b[0mlabels\u001b[0m\u001b[0;34m[\u001b[0m\u001b[0mpred\u001b[0m\u001b[0;34m]\u001b[0m\u001b[0;34m)\u001b[0m\u001b[0;34m)\u001b[0m\u001b[0;34m\u001b[0m\u001b[0;34m\u001b[0m\u001b[0m\n",
            "\u001b[0;31mNameError\u001b[0m: name 'i' is not defined"
          ]
        }
      ]
    },
    {
      "metadata": {
        "id": "ulwbUXeg-px3",
        "colab_type": "text"
      },
      "cell_type": "markdown",
      "source": [
        "## Sección 2"
      ]
    },
    {
      "metadata": {
        "id": "d8aBCBVS-0uv",
        "colab_type": "text"
      },
      "cell_type": "markdown",
      "source": [
        "Ahora nos enfocaremos en otra aplicación, la cual es el autocompletado, función muy usada hoy en día la cual, tras una cierta cadena de palabras, se intenta predecir la palabra que viene después. Esta aplicación ha sido muy utilizada en teclados de celulares, por ejemplo. \n",
        "\n",
        "Debido que ahora, tras una gran cantidad de sentencias (que arman la frase previa) se intenta predecir una palabra, pasamos de un esquema *manytomany* a uno *manytoone*. El problema surge que con esta gran cantidad de palabras que hay en el dataset, habrán muchas posibilidades de combinación para sugerir cual será la siguiente palabra, lo que no sería muy práctico para el problema. Lo que se hará es tomar estas palabras y analizarlas por carácteres en vez del conjunto de ellas, ya que sabemos que, por lo menos en el alfabeto inglés, posee una cantidad de 27, lo que es una cantidad aceptable. "
      ]
    },
    {
      "metadata": {
        "id": "yta3jU0w_zD4",
        "colab_type": "text"
      },
      "cell_type": "markdown",
      "source": [
        "En esta ocasión debemos tratar de nuevo los datos del dataset, aunque en esta ocasión trabajaremos con la columna word en vez de lemma. Esto es debido a que ahora, como queremos predecir la palabra siguiente, no nos sirve tener el lemma de este (o el significado raíz) ya que no estaría considerando un elemento básico como la semántica de las frases produciendo frases sin sentido.  Luego de eso se hace la ya conocida transformación de carácter a números."
      ]
    },
    {
      "metadata": {
        "id": "CG2bhLMQVPGB",
        "colab_type": "code",
        "outputId": "a9e4b01e-e5b3-4d3b-8925-e504cd63bcb0",
        "colab": {
          "base_uri": "https://localhost:8080/",
          "height": 54
        }
      },
      "cell_type": "code",
      "source": [
        "dataset = df_ner.loc[:,[\"word\",\"lemma\"]]\n",
        "text = ' '.join(dataset[\"word\"]).lower() #corpus\n",
        "null_character = \"*\"\n",
        "chars = [null_character]+sorted(list(set(text)))\n",
        "print('total chars:', len(chars))\n",
        "char_indices = {c: i for i, c in enumerate(chars)}\n",
        "indices_char = {i: c for i, c in enumerate(chars)}\n",
        "maxlen = 40 # cut the text in semi-redundant sequences of maxlen characters\n",
        "step = 5 \n",
        "sentences = []\n",
        "next_chars = []\n",
        "size = int(len(text)*0.2) #solo un 20% del corpus\n",
        "for i in range(0, size - maxlen, step):\n",
        "    sentences.append(null_character+text[i: i + maxlen])\n",
        "    next_chars.append(text[i + maxlen])\n",
        "print('nb sequences:', len(sentences))"
      ],
      "execution_count": 95,
      "outputs": [
        {
          "output_type": "stream",
          "text": [
            "total chars: 72\n",
            "nb sequences: 242693\n"
          ],
          "name": "stdout"
        }
      ]
    },
    {
      "metadata": {
        "id": "TuN_JbuWVbT4",
        "colab_type": "code",
        "colab": {}
      },
      "cell_type": "code",
      "source": [
        "dataX = [[char_indices[char] for char in sentence ] for sentence in sentences]\n",
        "dataY = [char_indices[char] for char in next_chars]\n",
        "lemma2idx[\"ENDLEM\"] = 0\n",
        "lab2idx[\"ENDTAG\"] = 0\n",
        "X = sequence.pad_sequences(dataX,maxlen=41,padding='pre',value=lemma2idx[\"ENDLEM\"]) \n",
        "Y = np.asarray([to_categorical(i, num_classes=len(chars)) for i in dataY])"
      ],
      "execution_count": 0,
      "outputs": []
    },
    {
      "metadata": {
        "id": "yQ3dmXlrf0kX",
        "colab_type": "text"
      },
      "cell_type": "markdown",
      "source": [
        "Luego de hacer la transformación a números, se hace el padding correspondiente a los datos de entrada y se pasa a one hot vector los tags. Se procede a crear un modelo y entrenarlo aunque con esta vez con GRU (en estricto rigor CuDNNGRU, una librería de CUDA que acelera el proceso de GRU)."
      ]
    },
    {
      "metadata": {
        "id": "Mv8pjB3AWh6Z",
        "colab_type": "code",
        "colab": {}
      },
      "cell_type": "code",
      "source": [
        "embedding_vector = 16\n",
        "model = Sequential()\n",
        "model.add(Embedding(input_dim=len(chars), output_dim=embedding_vector, input_length=maxlen+1))#\n",
        "model.add(CuDNNGRU(units=512,return_sequences=False)) #or GRU\n",
        "model.add(Dropout(0.2))\n",
        "model.add(Dense(len(chars), activation='softmax'))\n",
        "model.compile(loss='categorical_crossentropy', optimizer='adam', metrics=['accuracy'])"
      ],
      "execution_count": 0,
      "outputs": []
    },
    {
      "metadata": {
        "id": "TYhWEqpxgGIR",
        "colab_type": "text"
      },
      "cell_type": "markdown",
      "source": [
        "Luego, se implementarán dos funciones las cuales se encargaran de predecir la siguiente palabra de forma consecutiva por cada epoch, para así ver el desempeño de la red mientras se entrena. "
      ]
    },
    {
      "metadata": {
        "id": "ATPpReUjVCrF",
        "colab_type": "code",
        "colab": {}
      },
      "cell_type": "code",
      "source": [
        "def predict_next_char(model, sentence):\n",
        "    \"\"\"Predict the next character from the current one\"\"\"    \n",
        "    x_pred = [char_indices[null_character]]+[char_indices[char] for char in sentence]\n",
        "    x_pred = sequence.pad_sequences([x_pred], maxlen=maxlen+1,padding='pre',value=char_indices[null_character])\n",
        "    preds = model.predict(x_pred, verbose=0)[0]\n",
        "    next_index = np.random.choice(len(chars), p=preds) #take a sample\n",
        "    return indices_char[next_index]\n",
        "\n",
        "def on_epoch_end(epoch, logs):\n",
        "    \"\"\"Function invoked at end of each epoch. Prints generated text.\"\"\"\n",
        "    print('\\n----- Generating text after Epoch: %d' % epoch)\n",
        "    start_index = random.randint(0, size - maxlen - 1)\n",
        "    sentence = text[start_index: start_index + maxlen]\n",
        "    print('----- Generating with seed: \"' + sentence + '\"')\n",
        "    sys.stdout.write(sentence)\n",
        "    for i in range(400):\n",
        "        next_char = predict_next_char(model, sentence)\n",
        "        sentence = sentence[1:] + next_char #for next character\n",
        "        sys.stdout.write(next_char)\n",
        "        sys.stdout.flush()\n",
        "    return"
      ],
      "execution_count": 0,
      "outputs": []
    },
    {
      "metadata": {
        "id": "HxHiB6VIVdBF",
        "colab_type": "code",
        "colab": {
          "base_uri": "https://localhost:8080/",
          "height": 2391
        },
        "outputId": "4e9b992b-c2aa-42a5-f344-4ce1f433c25f"
      },
      "cell_type": "code",
      "source": [
        "print_callback = LambdaCallback(on_epoch_end=on_epoch_end)\n",
        "newmodel = model.fit(X, Y,batch_size=256,epochs=25, callbacks=[print_callback])"
      ],
      "execution_count": 105,
      "outputs": [
        {
          "output_type": "stream",
          "text": [
            "Epoch 1/25\n",
            "242693/242693 [==============================] - 46s 188us/step - loss: 1.6658 - acc: 0.5111\n",
            "\n",
            "----- Generating text after Epoch: 0\n",
            "----- Generating with seed: \"d in earlier fighting . a turkish army s\"\n",
            "d in earlier fighting . a turkish army said from from meg tiandy suspectide ef upfition by a supplier the two vone lugan 's unitre palist nuts of with the cante the usian reluca of agtace . but e poreneswan to united engoping says mres hwreakh of at chowh authorities to folemence . decondury vithous kr. concrives friday changed world farle 1ug to the thrie of fron the government . ani monto . a compunuster prime mikidation invasting ngaEpoch 2/25\n",
            "242693/242693 [==============================] - 46s 189us/step - loss: 1.5082 - acc: 0.5543\n",
            "\n",
            "----- Generating text after Epoch: 1\n",
            "----- Generating with seed: \" tv channel al-jazeera broadcast a video\"\n",
            " tv channel al-jazeera broadcast a video targ government davis say he dispopecle for strukgori trankiller violence hod authorities in enechatic frinance , but the achian exporterper says iraqi intiletentary government , the truns of the will trans a tranking parestina were kcandingeds to vinization . by danday aldertoh of the ilaqi officials are prosicestrik minist ramshistsal , a hsman mairwa alime afger in ralla ol encentire terrrialsEpoch 3/25\n",
            "242693/242693 [==============================] - 45s 187us/step - loss: 1.3982 - acc: 0.5850\n",
            "\n",
            "----- Generating text after Epoch: 2\n",
            "----- Generating with seed: \"k is a net exporter of food and energy a\"\n",
            "k is a net exporter of food and energy angures and connol miniters soon . binisce , as sources some 37 selio family says the sector and was sint a muslim , after izair asses \" the government , says president ail government rosultion governmre koreing forces and prines on some officials say a new alan of sester russia and 134 molines  crisin sloction has pandan in adrich , but presed three chesd ys soldiers and nend traphing more than 10Epoch 4/25\n",
            "242693/242693 [==============================] - 45s 187us/step - loss: 1.3105 - acc: 0.6088\n",
            "\n",
            "----- Generating text after Epoch: 3\n",
            "----- Generating with seed: \"ortoise never for a moment stopped , but\"\n",
            "ortoise never for a moment stopped , but in nort been unrectlicity are woild ditund fiohted rish of reconstructions and cipitants gave statements . secleasy renaitat whione of depociment to side with the two oil prises . it a ceaner cusron evudan saystianay of a cocpement at the forred tive twat west at an a vose of investors broter . he will sent the doss indoment tioss in a bulak cautes it pullic wroakd of no war filed it did aull saiEpoch 5/25\n",
            "242693/242693 [==============================] - 46s 189us/step - loss: 1.2426 - acc: 0.6269\n",
            "\n",
            "----- Generating text after Epoch: 4\n",
            "----- Generating with seed: \" the area underwent successive invasions\"\n",
            " the area underwent successive invasions his provicking report is sted claiss enthened a umind for ingrastovomes to the exspe1se of the country 's services under the 2hen to the bord wespoor . demand $ 70 , china hadan . in a spari marders back , millions one thursday support on the israelic . the country , and the rounf ol efecopin . res and happened derelonting . terber sprief ous kimlink of 1958 . presidential flarnaous to short whitEpoch 6/25\n",
            "242693/242693 [==============================] - 45s 186us/step - loss: 1.1788 - acc: 0.6452\n",
            "\n",
            "----- Generating text after Epoch: 5\n",
            "----- Generating with seed: \"ean union wants to toughen entry require\"\n",
            "ean union wants to toughen entry required earlier thir duigu wemen is official deathrinw finand an that for euchates is well with a fighting talkshinned and pacacovy reesbiez from defensiviel government was over afghanistan 's looreik of outgnomies have baiched after thes will continue terrorist urited state net accepll fiching a completed from foreign minister 's defth6 and a $ qup , jepting by champainngung sovered there is belnationaEpoch 7/25\n",
            "242693/242693 [==============================] - 46s 188us/step - loss: 1.1176 - acc: 0.6605\n",
            "\n",
            "----- Generating text after Epoch: 6\n",
            "----- Generating with seed: \"weapons . iran asserts its nuclear progr\"\n",
            "weapons . iran asserts its nuclear programs . for the violence . the iran says it signed law lant creader . nugs in the pecplace of saturday 's north worzed vinea ame dead . the united states dikpolting the report of the governornour gunben gut investigated mivid was once the nriges was as crimunase prime minister chancellor march 's solition . the jume prime minister aritalized a decloredations , but water police for first seven afthanEpoch 8/25\n",
            "242693/242693 [==============================] - 46s 189us/step - loss: 1.0661 - acc: 0.6748\n",
            "\n",
            "----- Generating text after Epoch: 7\n",
            "----- Generating with seed: \"73 billion between 2010 and 2014 on soci\"\n",
            "73 billion between 2010 and 2014 on sociol news agency -ponanising forces in a ceefer progroms in the cosmoin . the cotion of the officials say they have the electrociated a million , es assistance . cutt government , gatested the deaths protesters . some ofining 510 discovery of muddion several jeensurg forces -. the skanomstack till was have trying to free the u.s. and hailing on monday , a daw of 1593 , boldor . iestimated that mucliEpoch 9/25\n",
            "242693/242693 [==============================] - 45s 187us/step - loss: 1.0188 - acc: 0.6884\n",
            "\n",
            "----- Generating text after Epoch: 8\n",
            "----- Generating with seed: \"ids across the country . police in india\"\n",
            "ids across the country . police in india now said agric and a fligat . in a u.n. accused . ses ophen , was somblessed a forth nocther toll that they depertment , sear has chetentia to fally failed to gaigo basco station amedicated to concoming an increase prime minister lono sharbeded on the rebels to tropper united gat the country 's were resuletion losal mueticw troops arrested for reparts for before the government--lain , malarck comEpoch 10/25\n",
            "242693/242693 [==============================] - 46s 188us/step - loss: 0.9828 - acc: 0.6977\n",
            "\n",
            "----- Generating text after Epoch: 9\n",
            "----- Generating with seed: \"ed iran to heed a u.n. security council \"\n",
            "ed iran to heed a u.n. security council is on tud at the hall sold chensions as soldier for its killing waters antasar plansts . doon of a govorn-zbed palts of the eastern . iran to the and the missile strett for a surmying report from sunday to relleate from procase down britain . some president barril killed and to pakistan show and two bay bonding a police offered in a shrie a u.s. led for field strace of violents from allow his trusEpoch 11/25\n",
            "242693/242693 [==============================] - 46s 189us/step - loss: 0.9478 - acc: 0.7079\n",
            "\n",
            "----- Generating text after Epoch: 10\n",
            "----- Generating with seed: \"nce to americans not now covered . congr\"\n",
            "nce to americans not now covered . congress of managara han arro being travel to expected to a fighting british guard temeroming al-jazaria . the leader resume syated home after afghanistan includes closed to clear the berobosamo , bzition . defunded to jefe schenfleok . gogovar lahcon progested genewance and around 2006 following the troaling militant areas of proposed looked out in aclity legiel of the village and etpoki government apEpoch 12/25\n",
            "242693/242693 [==============================] - 46s 189us/step - loss: 0.9243 - acc: 0.7136\n",
            "\n",
            "----- Generating text after Epoch: 11\n",
            "----- Generating with seed: \"american warplanes have bombed two bridg\"\n",
            "american warplanes have bombed two bridged in lotally came in 1995 , and detainees for the envan \" arsisted kigoling country after a adperance minister has been cuptia adside tour blowan , which thes on ethiopia is expected now help fear night and a the elections were niters for afghanistan . venezuelan president hammin havas and help to help inforeatt at least stranged traveling for it mogeshic and expected law there , in 2021 , worlerEpoch 13/25\n",
            "242693/242693 [==============================] - 46s 188us/step - loss: 0.9094 - acc: 0.7183\n",
            "\n",
            "----- Generating text after Epoch: 12\n",
            "----- Generating with seed: \"ding in a mountainous region of northeas\"\n",
            "ding in a mountainous region of northeastern killing attented to deteiming anso lease and ireqial members cailling . the beijing of founded province . the officials in eftenticle , and are alequ . are \" former late thursday who housening parliamentary elections . clashed says it to have day , lost violation is to assas were horded aftering inalized in the new sorraile . the s8cold baturiul in iraq say the abturants . the also saiding ruEpoch 14/25\n",
            "242693/242693 [==============================] - 46s 189us/step - loss: 0.8800 - acc: 0.7259\n",
            "\n",
            "----- Generating text after Epoch: 13\n",
            "----- Generating with seed: \"econstruction projects in iraq . the rep\"\n",
            "econstruction projects in iraq . the report aca stall networling in neclar began schrouge the otharian . a spirite vioins with the militants were alleingration . mohame taiad to afghanistan in 2007 to plane from lead and south workered last yeek . he hailone of which that the line of live increased link torm rebels to deliveral aughotior of jurince monday afternance and trians eate race of the elections expard participemby , defearaned Epoch 15/25\n",
            "242693/242693 [==============================] - 46s 190us/step - loss: 0.9065 - acc: 0.7178\n",
            "\n",
            "----- Generating text after Epoch: 14\n",
            "----- Generating with seed: \"ownsend , says 11 reforms are urgently n\"\n",
            "ownsend , says 11 reforms are urgently nepality of rebels about the 49-members are daignting between the plack in delogrot hast per on air strikes han released from the ordere was killed in the air resouth town of lass farley of the boundar shilition offection to attack is in recent meeting with mr. saed of 300 tolds and traps and the government and the every year . mand march shisi-n nuile militants and hurf when athacked , on hew consEpoch 16/25\n",
            "242693/242693 [==============================] - 46s 188us/step - loss: 0.8720 - acc: 0.7283\n",
            "\n",
            "----- Generating text after Epoch: 15\n",
            "----- Generating with seed: \"s in-laws ' house or wife 's relatives '\"\n",
            "s in-laws ' house or wife 's relatives 'n were conquectmour for fatahing peace . a september 13,0 , grower have also cuetoning for that plact , and the ball string of 44-year-old ruled on capraut in the infectious news confirmed and tiles that has north korea and percosunce that iscamas kenka 's ngon shi'sman and release in and the backed by the northern . they say withdaw with a cad blaw they winning of the euse made 10 military says iEpoch 17/25\n",
            "242693/242693 [==============================] - 45s 186us/step - loss: 0.8576 - acc: 0.7318\n",
            "\n",
            "----- Generating text after Epoch: 16\n",
            "----- Generating with seed: \"strategy . the price of crude oil droppe\"\n",
            "strategy . the price of crude oil droppen on iran . the state maside bomber . the sase of a protest and pridesting in new york :lvegened to a ride of the country 's eupost . the 110-memins and staid peace talks . not destrib the right lefthed testhing in the other court launch numblorefien axged near all 13 tilling , gara as second . \" officials say the two mazarstary country to cut off a hispent british tokn of wadan marrela uster . thEpoch 18/25\n",
            "242693/242693 [==============================] - 46s 190us/step - loss: 0.8540 - acc: 0.7327\n",
            "\n",
            "----- Generating text after Epoch: 17\n",
            "----- Generating with seed: \" statement friday , barzani said the u.s\"\n",
            " statement friday , barzani said the u.s. such a enfection . myy terrorar state reduct removed the intor-pane between maligi aration in karbica ug not wile midwace out bording of three confort about reagomiation . on wednesday , on saturday , including mmit what hame centers of the probira cerrole in the outbriah , whice wroctrough adear . the talks fow benelace of the report forces . ship has south of the every yeneneed on the ammant fEpoch 19/25\n",
            "242693/242693 [==============================] - 46s 190us/step - loss: 0.8592 - acc: 0.7307\n",
            "\n",
            "----- Generating text after Epoch: 18\n",
            "----- Generating with seed: \"physical count is complete , except for \"\n",
            "physical count is complete , except for a yeve-nal officials are repolted in the riging proprem says sumplimation , where he will staye for pet later alamalized fire with afghan armans . the wild milater has love is deby bated in abus mr. selobd with waralased russian president bush carries on gues planes and speck and group to dead the bombings watherk and main , bourd lineers called rebacity as largest nama sian , say support a repertEpoch 20/25\n",
            "242693/242693 [==============================] - 46s 189us/step - loss: 0.8539 - acc: 0.7323\n",
            "\n",
            "----- Generating text after Epoch: 19\n",
            "----- Generating with seed: \"s or as many as 128 troops . the u.s. mi\"\n",
            "s or as many as 128 troops . the u.s. military have criticized a terrorist rates of controvension of sanday af investigation of the falizy ot her syop napirately powerfired a providen shi'ite gulf cabal interest man wealth , and termities . the american union \" and has cule the group of more than 1050 at heast . europe and ecendier government . a newspaper in icroan umbases are the sees in the country in byigh wott chenectued thut disabEpoch 21/25\n",
            "242693/242693 [==============================] - 46s 190us/step - loss: 0.8563 - acc: 0.7312\n",
            "\n",
            "----- Generating text after Epoch: 20\n",
            "----- Generating with seed: \"ks . yu hagino , 23 , was arrested at th\"\n",
            "ks . yu hagino , 23 , was arrested at the slowan 's bombing the stall has international infectious by baracial uried condemen that rich of the liberation minister newspapers . it soid the here capital , and three years in the country . a separate reports that the bbo chicanes last week in which and sochie suspects in the papt of basubanian killed faturing a lists to cooperate and kazarana was arrived station , mostly consmicting the pelEpoch 22/25\n",
            "242693/242693 [==============================] - 45s 187us/step - loss: 0.8672 - acc: 0.7268\n",
            "\n",
            "----- Generating text after Epoch: 21\n",
            "----- Generating with seed: \"e can \" take great heart \" at the outpou\"\n",
            "e can \" take great heart \" at the outpoument for more thon an include civilians . rescue sate decline was predatife detained u.s. senate visit . a pailly spanished when a scoftional to free kerged from friday . state department says it the strick of plotoging the u.n. economic government and also owtert an international forces have fame on their raid for coalition against the divisian foreign monday by jue efficially capitul a rescuerleEpoch 23/25\n",
            "242693/242693 [==============================] - 46s 189us/step - loss: 0.8553 - acc: 0.7317\n",
            "\n",
            "----- Generating text after Epoch: 22\n",
            "----- Generating with seed: \"e rules more fair for african exporters \"\n",
            "e rules more fair for african exporters ) say the opening percent of the coastar guncers parties follower a not won a united nations heans in new during anvoter mossapes , elections in colombia 's prosecuting seimed a spreft car him , last week , police farion phan brinds of the world 's pose of investigation of the south aming reneaded nations has been suspected military prosecutors is torg to the death toll from the government . and tEpoch 24/25\n",
            "242693/242693 [==============================] - 46s 188us/step - loss: 0.8599 - acc: 0.7289\n",
            "\n",
            "----- Generating text after Epoch: 23\n",
            "----- Generating with seed: \"urma after the military government faile\"\n",
            "urma after the military government failers in gher unangerthy . the ministry soldier camsurgers in the country in the refuteration to wr. the khe of the city of kosrow as largest countries . friday than mihistration renefger was shat leaver . nato and the first withont violence , gutadem . at least 20 people in countries to fell who the end insurgents hure countries . the grown . the army oppicists and to protect the israeli main bankinEpoch 25/25\n",
            "242693/242693 [==============================] - 45s 187us/step - loss: 0.8676 - acc: 0.7270\n",
            "\n",
            "----- Generating text after Epoch: 24\n",
            "----- Generating with seed: \"r , venus wishing to discover if the cat\"\n",
            "r , venus wishing to discover if the cation leader what has said in eashern restructions and ranif and israeli prime minister ardenged namons seleed month after his morning since land has afreh mr. abmash-garira phannon . home and to lote to with 343 district with british , thousandap hoseich redocu. . the white house such as beland traves . united nations in dovel officials are at hia consiturity . on monday , who asaips monday all afc"
          ],
          "name": "stdout"
        }
      ]
    },
    {
      "metadata": {
        "id": "zC59DV6SV7_8",
        "colab_type": "code",
        "colab": {
          "base_uri": "https://localhost:8080/",
          "height": 74
        },
        "outputId": "9bb1fff9-7e12-4dc4-961f-a6ebfc732160"
      },
      "cell_type": "code",
      "source": [
        "sentence = \"it is \"\n",
        "print('----- Generating with seed: \"' + sentence + '\"')\n",
        "sys.stdout.write(sentence)\n",
        "for i in range(400):\n",
        "    next_char = predict_next_char(model, sentence)\n",
        "    sentence = sentence[1:] + next_char \n",
        "    sys.stdout.write(next_char)\n",
        "    sys.stdout.flush()"
      ],
      "execution_count": 106,
      "outputs": [
        {
          "output_type": "stream",
          "text": [
            "----- Generating with seed: \"it is \"\n",
            "it is the movests . the gonss of the devoly will bowhs . no accides to dearing not say a nuclears conside , says has relayists and north of chiscomms leganies . a north of counted obemict , wes in golnan jauch beta bombarad probe . he say for from legons of decrines cive of cherress of burner unst of the geppanes and other of the ground 5 % . north . rescues includ islami . troigs to horeing prosecomnan"
          ],
          "name": "stdout"
        }
      ]
    },
    {
      "metadata": {
        "id": "8EIyaAmbePIv",
        "colab_type": "code",
        "colab": {}
      },
      "cell_type": "code",
      "source": [
        ""
      ],
      "execution_count": 0,
      "outputs": []
    }
  ]
}