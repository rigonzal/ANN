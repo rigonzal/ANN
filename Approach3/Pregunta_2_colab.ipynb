{
  "nbformat": 4,
  "nbformat_minor": 0,
  "metadata": {
    "colab": {
      "name": "Pregunta2.ipynb",
      "version": "0.3.2",
      "provenance": [],
      "collapsed_sections": [],
      "include_colab_link": true
    },
    "kernelspec": {
      "name": "python3",
      "display_name": "Python 3"
    },
    "accelerator": "GPU"
  },
  "cells": [
    {
      "cell_type": "markdown",
      "metadata": {
        "id": "view-in-github",
        "colab_type": "text"
      },
      "source": [
        "<a href=\"https://colab.research.google.com/github/rigonzal/ANN/blob/master/Approach3/Pregunta_2_colab.ipynb\" target=\"_parent\"><img src=\"https://colab.research.google.com/assets/colab-badge.svg\" alt=\"Open In Colab\"/></a>"
      ]
    },
    {
      "metadata": {
        "id": "6AF93lRsp5gI",
        "colab_type": "text"
      },
      "cell_type": "markdown",
      "source": [
        "# INF-395 Redes Neuronales Artificiales II-2018\n",
        "\n",
        "## Tarea 3- Redes Recurrentes, Autoencoders y sus aplicaciones\n",
        "\n",
        "\n",
        "21/12/2018\n",
        "\n",
        "* Rodrigo González Smith 201303026-2\n",
        "* Ignacio Valenzuela Albornoz 2014073055-1"
      ]
    },
    {
      "metadata": {
        "id": "ya-Eox_v-xgf",
        "colab_type": "code",
        "colab": {}
      },
      "cell_type": "code",
      "source": [
        "from keras.datasets import mnist\n",
        "import numpy as np\n",
        "from keras.layers import Input, Dense\n",
        "from keras.models import Model\n",
        "from keras.optimizers import SGD\n",
        "from keras.models import load_model\n",
        "import matplotlib.pyplot as plt\n",
        "from sklearn.decomposition import PCA\n",
        "from sklearn.neighbors import KNeighborsClassifier"
      ],
      "execution_count": 0,
      "outputs": []
    },
    {
      "metadata": {
        "id": "fZBrdrJK-o00",
        "colab_type": "text"
      },
      "cell_type": "markdown",
      "source": [
        "Necesario para guardar modelos y pesos en Drive usando Colab:"
      ]
    },
    {
      "metadata": {
        "id": "eQfQMJQH-wAM",
        "colab_type": "code",
        "colab": {}
      },
      "cell_type": "code",
      "source": [
        "from google.colab import auth\n",
        "auth.authenticate_user()\n",
        "from googleapiclient.discovery import build\n",
        "drive_service = build('drive', 'v3')\n",
        "from googleapiclient.http import MediaFileUpload\n"
      ],
      "execution_count": 0,
      "outputs": []
    },
    {
      "metadata": {
        "id": "R9NhhffrsDlk",
        "colab_type": "code",
        "colab": {}
      },
      "cell_type": "code",
      "source": [
        "(x_train, y_train), (x_test, y_test) = mnist.load_data()\n",
        "x_train = x_train.astype('float32') / 255. #and x_test\n",
        "x_test = x_test.astype('float32')/255\n",
        "n_train = len(x_train)\n",
        "#5000 imágenes de validación\n",
        "x_val = x_train[0:5000]\n",
        "y_val = y_train[0:5000]\n",
        "x_train = x_train[5001:]\n",
        "y_train = y_train[5001:]"
      ],
      "execution_count": 0,
      "outputs": []
    },
    {
      "metadata": {
        "id": "JQ_gMdkop_qo",
        "colab_type": "text"
      },
      "cell_type": "markdown",
      "source": [
        "## 2.1 Reducción de dimensionalidad"
      ]
    },
    {
      "metadata": {
        "id": "gzNHS4XRv732",
        "colab_type": "text"
      },
      "cell_type": "markdown",
      "source": [
        "### 2.1.a AE básico\n",
        "\n",
        "Ahora vamos a reducir la dimensionaldiad de las imagenes cargasdas por medio de un *autoencoder* básico."
      ]
    },
    {
      "metadata": {
        "id": "M3PknnjWqlVo",
        "colab_type": "code",
        "colab": {}
      },
      "cell_type": "code",
      "source": [
        "x_train = x_train.reshape((len(x_train), np.prod(x_train.shape[1:])))\n",
        "x_val = x_val.reshape((len(x_val), np.prod(x_val.shape[1:])))\n",
        "x_test = x_test.reshape((len(x_test), np.prod(x_test.shape[1:])))\n",
        "dims = [2,8,32,64]"
      ],
      "execution_count": 0,
      "outputs": []
    },
    {
      "metadata": {
        "id": "WVzfDe7U_3R9",
        "colab_type": "text"
      },
      "cell_type": "markdown",
      "source": [
        "Procedemos a entrenar con las distintas dimensiones, donde posteriormente analizaremos los errores obtenidos y nos quedaremos con el que presente los mejores resultados. Tiene sentido ocupar como función de perdida a *binary cross entropy* dado que los varios output de la capa de salida, serán la reconstrucción de la imagen la cual esta normalizada, es decir ocurre que $x_i \\in [0,1]$. Así el error binario se medirá para cada nodo de salida."
      ]
    },
    {
      "metadata": {
        "id": "DnL-aKRFr-tG",
        "colab_type": "code",
        "outputId": "2688dd12-fa39-40c1-f832-090f0329d883",
        "colab": {
          "base_uri": "https://localhost:8080/",
          "height": 6973
        }
      },
      "cell_type": "code",
      "source": [
        "input_img = Input(shape=(784,))\n",
        "autoencoder_1_a_list = list()\n",
        "history_1_a_list = list()\n",
        "for i in dims:\n",
        "  encoded_1_a = Dense(i, activation='sigmoid')(input_img)\n",
        "  decoded_1_a = Dense(784, activation='sigmoid')(encoded_1_a)\n",
        "  autoencoder_1_a = Model(input=input_img, output=decoded_1_a)\n",
        "  encoder_1_a = Model(input=input_img, output=encoded_1_a)\n",
        "  encoded_input_1_a = Input(shape=(i,))\n",
        "  decoder_layer_1_a = autoencoder_1_a.layers[-1]\n",
        "  decoder_1_a = Model(inputs=encoded_input_1_a, outputs=decoder_layer_1_a(encoded_input_1_a))\n",
        "  autoencoder_1_a_list.append(autoencoder_1_a)\n",
        "  autoencoder_1_a.compile(optimizer=SGD(lr=1.0), loss='binary_crossentropy', metrics=['accuracy'])\n",
        "  history_1_a = autoencoder_1_a.fit(x_train,x_train,epochs=50,batch_size=32,validation_data=(x_val,x_val))\n",
        "  history_1_a_list.append(history_1_a)\n",
        "  autoencoder_1_a.save('basic_autoencoder_768x'+str(i)+'.h5')"
      ],
      "execution_count": 0,
      "outputs": [
        {
          "output_type": "stream",
          "text": [
            "/usr/local/lib/python3.6/dist-packages/ipykernel_launcher.py:8: UserWarning: Update your `Model` call to the Keras 2 API: `Model(inputs=Tensor(\"in..., outputs=Tensor(\"de...)`\n",
            "  \n",
            "/usr/local/lib/python3.6/dist-packages/ipykernel_launcher.py:9: UserWarning: Update your `Model` call to the Keras 2 API: `Model(inputs=Tensor(\"in..., outputs=Tensor(\"de...)`\n",
            "  if __name__ == '__main__':\n"
          ],
          "name": "stderr"
        },
        {
          "output_type": "stream",
          "text": [
            "Train on 54999 samples, validate on 5000 samples\n",
            "Epoch 1/50\n",
            "54999/54999 [==============================] - 8s 149us/step - loss: 0.4551 - acc: 0.7912 - val_loss: 0.3473 - val_acc: 0.8044\n",
            "Epoch 2/50\n",
            "54999/54999 [==============================] - 8s 147us/step - loss: 0.3195 - acc: 0.8043 - val_loss: 0.3016 - val_acc: 0.8046\n",
            "Epoch 3/50\n",
            "54999/54999 [==============================] - 8s 146us/step - loss: 0.2932 - acc: 0.8043 - val_loss: 0.2868 - val_acc: 0.8046\n",
            "Epoch 4/50\n",
            "54999/54999 [==============================] - 8s 146us/step - loss: 0.2829 - acc: 0.8043 - val_loss: 0.2797 - val_acc: 0.8046\n",
            "Epoch 5/50\n",
            "54999/54999 [==============================] - 8s 147us/step - loss: 0.2776 - acc: 0.8043 - val_loss: 0.2757 - val_acc: 0.8046\n",
            "Epoch 6/50\n",
            "54999/54999 [==============================] - 8s 148us/step - loss: 0.2744 - acc: 0.8043 - val_loss: 0.2732 - val_acc: 0.8046\n",
            "Epoch 7/50\n",
            "54999/54999 [==============================] - 8s 147us/step - loss: 0.2723 - acc: 0.8044 - val_loss: 0.2714 - val_acc: 0.8046\n",
            "Epoch 8/50\n",
            "54999/54999 [==============================] - 8s 145us/step - loss: 0.2708 - acc: 0.8043 - val_loss: 0.2701 - val_acc: 0.8046\n",
            "Epoch 9/50\n",
            "54999/54999 [==============================] - 8s 143us/step - loss: 0.2697 - acc: 0.8043 - val_loss: 0.2692 - val_acc: 0.8046\n",
            "Epoch 10/50\n",
            "54999/54999 [==============================] - 8s 142us/step - loss: 0.2688 - acc: 0.8043 - val_loss: 0.2684 - val_acc: 0.8046\n",
            "Epoch 11/50\n",
            "54999/54999 [==============================] - 8s 143us/step - loss: 0.2681 - acc: 0.8044 - val_loss: 0.2678 - val_acc: 0.8046\n",
            "Epoch 12/50\n",
            "54999/54999 [==============================] - 9s 155us/step - loss: 0.2676 - acc: 0.8043 - val_loss: 0.2673 - val_acc: 0.8046\n",
            "Epoch 13/50\n",
            "54999/54999 [==============================] - 8s 142us/step - loss: 0.2671 - acc: 0.8043 - val_loss: 0.2669 - val_acc: 0.8046\n",
            "Epoch 14/50\n",
            "54999/54999 [==============================] - 8s 142us/step - loss: 0.2667 - acc: 0.8044 - val_loss: 0.2665 - val_acc: 0.8046\n",
            "Epoch 15/50\n",
            "54999/54999 [==============================] - 8s 141us/step - loss: 0.2664 - acc: 0.8043 - val_loss: 0.2663 - val_acc: 0.8046\n",
            "Epoch 16/50\n",
            "54999/54999 [==============================] - 8s 141us/step - loss: 0.2661 - acc: 0.8043 - val_loss: 0.2660 - val_acc: 0.8043\n",
            "Epoch 17/50\n",
            "54999/54999 [==============================] - 8s 140us/step - loss: 0.2659 - acc: 0.8042 - val_loss: 0.2658 - val_acc: 0.8046\n",
            "Epoch 18/50\n",
            "54999/54999 [==============================] - 8s 140us/step - loss: 0.2657 - acc: 0.8044 - val_loss: 0.2656 - val_acc: 0.8046\n",
            "Epoch 19/50\n",
            "54999/54999 [==============================] - 8s 141us/step - loss: 0.2655 - acc: 0.8043 - val_loss: 0.2654 - val_acc: 0.8046\n",
            "Epoch 20/50\n",
            "54999/54999 [==============================] - 8s 142us/step - loss: 0.2653 - acc: 0.8042 - val_loss: 0.2652 - val_acc: 0.8046\n",
            "Epoch 21/50\n",
            "54999/54999 [==============================] - 8s 141us/step - loss: 0.2652 - acc: 0.8043 - val_loss: 0.2651 - val_acc: 0.8046\n",
            "Epoch 22/50\n",
            "54999/54999 [==============================] - 8s 141us/step - loss: 0.2651 - acc: 0.8043 - val_loss: 0.2650 - val_acc: 0.8046\n",
            "Epoch 23/50\n",
            "54999/54999 [==============================] - 8s 141us/step - loss: 0.2649 - acc: 0.8045 - val_loss: 0.2649 - val_acc: 0.8043\n",
            "Epoch 24/50\n",
            "54999/54999 [==============================] - 8s 140us/step - loss: 0.2648 - acc: 0.8043 - val_loss: 0.2648 - val_acc: 0.8043\n",
            "Epoch 25/50\n",
            "54999/54999 [==============================] - 8s 140us/step - loss: 0.2647 - acc: 0.8041 - val_loss: 0.2647 - val_acc: 0.8046\n",
            "Epoch 26/50\n",
            "54999/54999 [==============================] - 8s 139us/step - loss: 0.2646 - acc: 0.8043 - val_loss: 0.2646 - val_acc: 0.8046\n",
            "Epoch 27/50\n",
            "54999/54999 [==============================] - 8s 139us/step - loss: 0.2646 - acc: 0.8044 - val_loss: 0.2645 - val_acc: 0.8046\n",
            "Epoch 28/50\n",
            "54999/54999 [==============================] - 8s 139us/step - loss: 0.2645 - acc: 0.8043 - val_loss: 0.2644 - val_acc: 0.8046\n",
            "Epoch 29/50\n",
            "54999/54999 [==============================] - 8s 140us/step - loss: 0.2644 - acc: 0.8043 - val_loss: 0.2644 - val_acc: 0.8046\n",
            "Epoch 30/50\n",
            "54999/54999 [==============================] - 8s 139us/step - loss: 0.2644 - acc: 0.8043 - val_loss: 0.2643 - val_acc: 0.8046\n",
            "Epoch 31/50\n",
            "54999/54999 [==============================] - 8s 141us/step - loss: 0.2643 - acc: 0.8043 - val_loss: 0.2643 - val_acc: 0.8046\n",
            "Epoch 32/50\n",
            "54999/54999 [==============================] - 8s 140us/step - loss: 0.2642 - acc: 0.8043 - val_loss: 0.2642 - val_acc: 0.8046\n",
            "Epoch 33/50\n",
            "54999/54999 [==============================] - 8s 140us/step - loss: 0.2642 - acc: 0.8044 - val_loss: 0.2642 - val_acc: 0.8046\n",
            "Epoch 34/50\n",
            "54999/54999 [==============================] - 8s 140us/step - loss: 0.2641 - acc: 0.8042 - val_loss: 0.2641 - val_acc: 0.8046\n",
            "Epoch 35/50\n",
            "54999/54999 [==============================] - 8s 139us/step - loss: 0.2641 - acc: 0.8044 - val_loss: 0.2641 - val_acc: 0.8046\n",
            "Epoch 36/50\n",
            "54999/54999 [==============================] - 8s 139us/step - loss: 0.2640 - acc: 0.8043 - val_loss: 0.2640 - val_acc: 0.8046\n",
            "Epoch 37/50\n",
            "54999/54999 [==============================] - 9s 157us/step - loss: 0.2640 - acc: 0.8044 - val_loss: 0.2640 - val_acc: 0.8046\n",
            "Epoch 38/50\n",
            "54999/54999 [==============================] - 8s 144us/step - loss: 0.2640 - acc: 0.8043 - val_loss: 0.2639 - val_acc: 0.8046\n",
            "Epoch 39/50\n",
            "54999/54999 [==============================] - 8s 139us/step - loss: 0.2639 - acc: 0.8043 - val_loss: 0.2639 - val_acc: 0.8046\n",
            "Epoch 40/50\n",
            "54999/54999 [==============================] - 8s 138us/step - loss: 0.2639 - acc: 0.8042 - val_loss: 0.2639 - val_acc: 0.8046\n",
            "Epoch 41/50\n",
            "54999/54999 [==============================] - 8s 139us/step - loss: 0.2639 - acc: 0.8044 - val_loss: 0.2639 - val_acc: 0.8046\n",
            "Epoch 42/50\n",
            "54999/54999 [==============================] - 8s 139us/step - loss: 0.2638 - acc: 0.8043 - val_loss: 0.2638 - val_acc: 0.8046\n",
            "Epoch 43/50\n",
            "54999/54999 [==============================] - 8s 138us/step - loss: 0.2638 - acc: 0.8043 - val_loss: 0.2638 - val_acc: 0.8046\n",
            "Epoch 44/50\n",
            "54999/54999 [==============================] - 8s 140us/step - loss: 0.2638 - acc: 0.8044 - val_loss: 0.2638 - val_acc: 0.8046\n",
            "Epoch 45/50\n",
            "54999/54999 [==============================] - 8s 139us/step - loss: 0.2637 - acc: 0.8043 - val_loss: 0.2637 - val_acc: 0.8046\n",
            "Epoch 46/50\n",
            "54999/54999 [==============================] - 8s 139us/step - loss: 0.2637 - acc: 0.8043 - val_loss: 0.2637 - val_acc: 0.8046\n",
            "Epoch 47/50\n",
            "54999/54999 [==============================] - 8s 138us/step - loss: 0.2637 - acc: 0.8043 - val_loss: 0.2637 - val_acc: 0.8046\n",
            "Epoch 48/50\n",
            "54999/54999 [==============================] - 8s 138us/step - loss: 0.2637 - acc: 0.8043 - val_loss: 0.2637 - val_acc: 0.8046\n",
            "Epoch 49/50\n",
            "54999/54999 [==============================] - 8s 138us/step - loss: 0.2637 - acc: 0.8043 - val_loss: 0.2636 - val_acc: 0.8046\n",
            "Epoch 50/50\n",
            "54999/54999 [==============================] - 8s 138us/step - loss: 0.2636 - acc: 0.8046 - val_loss: 0.2636 - val_acc: 0.8046\n",
            "Train on 54999 samples, validate on 5000 samples\n",
            "Epoch 1/50\n",
            "54999/54999 [==============================] - 9s 155us/step - loss: 0.3622 - acc: 0.7944 - val_loss: 0.2873 - val_acc: 0.8039\n",
            "Epoch 2/50\n",
            "54999/54999 [==============================] - 8s 141us/step - loss: 0.2786 - acc: 0.8041 - val_loss: 0.2733 - val_acc: 0.8046\n",
            "Epoch 3/50\n",
            "54999/54999 [==============================] - 8s 138us/step - loss: 0.2710 - acc: 0.8042 - val_loss: 0.2692 - val_acc: 0.8046\n",
            "Epoch 4/50\n",
            "54999/54999 [==============================] - 8s 139us/step - loss: 0.2682 - acc: 0.8042 - val_loss: 0.2674 - val_acc: 0.8046\n",
            "Epoch 5/50\n",
            "54999/54999 [==============================] - 8s 137us/step - loss: 0.2668 - acc: 0.8043 - val_loss: 0.2663 - val_acc: 0.8043\n",
            "Epoch 6/50\n",
            "54999/54999 [==============================] - 8s 139us/step - loss: 0.2659 - acc: 0.8041 - val_loss: 0.2656 - val_acc: 0.8046\n",
            "Epoch 7/50\n",
            "54999/54999 [==============================] - 8s 138us/step - loss: 0.2654 - acc: 0.8042 - val_loss: 0.2651 - val_acc: 0.8047\n",
            "Epoch 8/50\n",
            "54999/54999 [==============================] - 8s 139us/step - loss: 0.2650 - acc: 0.8044 - val_loss: 0.2648 - val_acc: 0.8043\n",
            "Epoch 9/50\n",
            "54999/54999 [==============================] - 8s 140us/step - loss: 0.2647 - acc: 0.8042 - val_loss: 0.2645 - val_acc: 0.8035\n",
            "Epoch 10/50\n",
            "54999/54999 [==============================] - 8s 139us/step - loss: 0.2644 - acc: 0.8041 - val_loss: 0.2643 - val_acc: 0.8046\n",
            "Epoch 11/50\n",
            "54999/54999 [==============================] - 8s 139us/step - loss: 0.2643 - acc: 0.8042 - val_loss: 0.2642 - val_acc: 0.8046\n",
            "Epoch 12/50\n",
            "54999/54999 [==============================] - 8s 140us/step - loss: 0.2641 - acc: 0.8042 - val_loss: 0.2640 - val_acc: 0.8046\n",
            "Epoch 13/50\n",
            "54999/54999 [==============================] - 8s 138us/step - loss: 0.2640 - acc: 0.8041 - val_loss: 0.2639 - val_acc: 0.8046\n",
            "Epoch 14/50\n",
            "54999/54999 [==============================] - 8s 139us/step - loss: 0.2639 - acc: 0.8042 - val_loss: 0.2638 - val_acc: 0.8046\n",
            "Epoch 15/50\n",
            "54999/54999 [==============================] - 8s 138us/step - loss: 0.2638 - acc: 0.8041 - val_loss: 0.2637 - val_acc: 0.8050\n",
            "Epoch 16/50\n",
            "54999/54999 [==============================] - 8s 139us/step - loss: 0.2637 - acc: 0.8045 - val_loss: 0.2637 - val_acc: 0.8046\n",
            "Epoch 17/50\n",
            "54999/54999 [==============================] - 8s 138us/step - loss: 0.2637 - acc: 0.8042 - val_loss: 0.2636 - val_acc: 0.8050\n",
            "Epoch 18/50\n",
            "54999/54999 [==============================] - 8s 139us/step - loss: 0.2636 - acc: 0.8043 - val_loss: 0.2636 - val_acc: 0.8043\n",
            "Epoch 19/50\n",
            "54999/54999 [==============================] - 8s 139us/step - loss: 0.2635 - acc: 0.8041 - val_loss: 0.2635 - val_acc: 0.8046\n",
            "Epoch 20/50\n",
            "54999/54999 [==============================] - 8s 139us/step - loss: 0.2635 - acc: 0.8042 - val_loss: 0.2635 - val_acc: 0.8046\n",
            "Epoch 21/50\n",
            "54999/54999 [==============================] - 8s 138us/step - loss: 0.2635 - acc: 0.8043 - val_loss: 0.2634 - val_acc: 0.8043\n",
            "Epoch 22/50\n",
            "54999/54999 [==============================] - 8s 138us/step - loss: 0.2634 - acc: 0.8042 - val_loss: 0.2634 - val_acc: 0.8043\n",
            "Epoch 23/50\n",
            "54999/54999 [==============================] - 8s 138us/step - loss: 0.2634 - acc: 0.8042 - val_loss: 0.2634 - val_acc: 0.8046\n",
            "Epoch 24/50\n",
            "54999/54999 [==============================] - 8s 138us/step - loss: 0.2634 - acc: 0.8042 - val_loss: 0.2633 - val_acc: 0.8043\n",
            "Epoch 25/50\n",
            "54999/54999 [==============================] - 8s 138us/step - loss: 0.2633 - acc: 0.8044 - val_loss: 0.2633 - val_acc: 0.8043\n",
            "Epoch 26/50\n",
            "54999/54999 [==============================] - 8s 139us/step - loss: 0.2633 - acc: 0.8042 - val_loss: 0.2633 - val_acc: 0.8050\n",
            "Epoch 27/50\n",
            "54999/54999 [==============================] - 8s 149us/step - loss: 0.2633 - acc: 0.8042 - val_loss: 0.2633 - val_acc: 0.8046\n",
            "Epoch 28/50\n",
            "54999/54999 [==============================] - 8s 152us/step - loss: 0.2633 - acc: 0.8043 - val_loss: 0.2633 - val_acc: 0.8043\n",
            "Epoch 29/50\n",
            "54999/54999 [==============================] - 8s 137us/step - loss: 0.2632 - acc: 0.8042 - val_loss: 0.2632 - val_acc: 0.8046\n",
            "Epoch 30/50\n",
            "54999/54999 [==============================] - 7s 136us/step - loss: 0.2632 - acc: 0.8043 - val_loss: 0.2632 - val_acc: 0.8046\n",
            "Epoch 31/50\n",
            "54999/54999 [==============================] - 8s 137us/step - loss: 0.2632 - acc: 0.8043 - val_loss: 0.2632 - val_acc: 0.8046\n",
            "Epoch 32/50\n",
            "54999/54999 [==============================] - 8s 137us/step - loss: 0.2632 - acc: 0.8042 - val_loss: 0.2632 - val_acc: 0.8046\n",
            "Epoch 33/50\n",
            "54999/54999 [==============================] - 7s 136us/step - loss: 0.2632 - acc: 0.8042 - val_loss: 0.2632 - val_acc: 0.8046\n",
            "Epoch 34/50\n",
            "54999/54999 [==============================] - 8s 138us/step - loss: 0.2632 - acc: 0.8043 - val_loss: 0.2632 - val_acc: 0.8046\n",
            "Epoch 35/50\n",
            "54999/54999 [==============================] - 8s 137us/step - loss: 0.2632 - acc: 0.8041 - val_loss: 0.2632 - val_acc: 0.8050\n",
            "Epoch 36/50\n",
            "54999/54999 [==============================] - 8s 138us/step - loss: 0.2631 - acc: 0.8044 - val_loss: 0.2631 - val_acc: 0.8043\n",
            "Epoch 37/50\n",
            "54999/54999 [==============================] - 7s 136us/step - loss: 0.2631 - acc: 0.8043 - val_loss: 0.2631 - val_acc: 0.8046\n",
            "Epoch 38/50\n",
            "54999/54999 [==============================] - 8s 137us/step - loss: 0.2631 - acc: 0.8043 - val_loss: 0.2631 - val_acc: 0.8039\n",
            "Epoch 39/50\n",
            "54999/54999 [==============================] - 7s 136us/step - loss: 0.2631 - acc: 0.8041 - val_loss: 0.2631 - val_acc: 0.8046\n",
            "Epoch 40/50\n",
            "54999/54999 [==============================] - 7s 136us/step - loss: 0.2631 - acc: 0.8042 - val_loss: 0.2631 - val_acc: 0.8043\n",
            "Epoch 41/50\n",
            "54999/54999 [==============================] - 8s 149us/step - loss: 0.2631 - acc: 0.8042 - val_loss: 0.2631 - val_acc: 0.8043\n",
            "Epoch 42/50\n",
            "54999/54999 [==============================] - 8s 138us/step - loss: 0.2631 - acc: 0.8042 - val_loss: 0.2631 - val_acc: 0.8050\n",
            "Epoch 43/50\n",
            "54999/54999 [==============================] - 8s 136us/step - loss: 0.2631 - acc: 0.8043 - val_loss: 0.2631 - val_acc: 0.8035\n",
            "Epoch 44/50\n",
            "54999/54999 [==============================] - 8s 137us/step - loss: 0.2631 - acc: 0.8042 - val_loss: 0.2631 - val_acc: 0.8043\n",
            "Epoch 45/50\n",
            "54999/54999 [==============================] - 7s 136us/step - loss: 0.2631 - acc: 0.8041 - val_loss: 0.2630 - val_acc: 0.8046\n",
            "Epoch 46/50\n",
            "54999/54999 [==============================] - 7s 136us/step - loss: 0.2631 - acc: 0.8043 - val_loss: 0.2631 - val_acc: 0.8046\n",
            "Epoch 47/50\n",
            "54999/54999 [==============================] - 7s 136us/step - loss: 0.2630 - acc: 0.8042 - val_loss: 0.2631 - val_acc: 0.8043\n",
            "Epoch 48/50\n",
            "54999/54999 [==============================] - 7s 135us/step - loss: 0.2630 - acc: 0.8042 - val_loss: 0.2630 - val_acc: 0.8046\n",
            "Epoch 49/50\n",
            "54999/54999 [==============================] - 7s 136us/step - loss: 0.2630 - acc: 0.8041 - val_loss: 0.2630 - val_acc: 0.8046\n",
            "Epoch 50/50\n",
            "54999/54999 [==============================] - 8s 137us/step - loss: 0.2630 - acc: 0.8043 - val_loss: 0.2630 - val_acc: 0.8050\n",
            "Train on 54999 samples, validate on 5000 samples\n",
            "Epoch 1/50\n",
            "54999/54999 [==============================] - 8s 143us/step - loss: 0.3043 - acc: 0.7968 - val_loss: 0.2683 - val_acc: 0.8043\n",
            "Epoch 2/50\n",
            "54999/54999 [==============================] - 8s 137us/step - loss: 0.2664 - acc: 0.8037 - val_loss: 0.2652 - val_acc: 0.8035\n",
            "Epoch 3/50\n",
            "54999/54999 [==============================] - 7s 136us/step - loss: 0.2647 - acc: 0.8038 - val_loss: 0.2643 - val_acc: 0.8043\n",
            "Epoch 4/50\n",
            "54999/54999 [==============================] - 7s 136us/step - loss: 0.2641 - acc: 0.8038 - val_loss: 0.2639 - val_acc: 0.8046\n",
            "Epoch 5/50\n",
            "54999/54999 [==============================] - 8s 138us/step - loss: 0.2638 - acc: 0.8038 - val_loss: 0.2636 - val_acc: 0.8035\n",
            "Epoch 6/50\n",
            "54999/54999 [==============================] - 8s 137us/step - loss: 0.2636 - acc: 0.8037 - val_loss: 0.2635 - val_acc: 0.8043\n",
            "Epoch 7/50\n",
            "54999/54999 [==============================] - 8s 138us/step - loss: 0.2634 - acc: 0.8038 - val_loss: 0.2634 - val_acc: 0.8050\n",
            "Epoch 8/50\n",
            "54999/54999 [==============================] - 8s 139us/step - loss: 0.2633 - acc: 0.8039 - val_loss: 0.2631 - val_acc: 0.8025\n",
            "Epoch 9/50\n",
            "54999/54999 [==============================] - 8s 139us/step - loss: 0.2621 - acc: 0.8039 - val_loss: 0.2606 - val_acc: 0.8045\n",
            "Epoch 10/50\n",
            "54999/54999 [==============================] - 8s 139us/step - loss: 0.2586 - acc: 0.8042 - val_loss: 0.2564 - val_acc: 0.8048\n",
            "Epoch 11/50\n",
            "54999/54999 [==============================] - 8s 138us/step - loss: 0.2542 - acc: 0.8039 - val_loss: 0.2520 - val_acc: 0.8037\n",
            "Epoch 12/50\n",
            "54999/54999 [==============================] - 8s 138us/step - loss: 0.2502 - acc: 0.8030 - val_loss: 0.2482 - val_acc: 0.8031\n",
            "Epoch 13/50\n",
            "54999/54999 [==============================] - 8s 138us/step - loss: 0.2464 - acc: 0.8023 - val_loss: 0.2444 - val_acc: 0.8020\n",
            "Epoch 14/50\n",
            "54999/54999 [==============================] - 8s 137us/step - loss: 0.2427 - acc: 0.8016 - val_loss: 0.2406 - val_acc: 0.8021\n",
            "Epoch 15/50\n",
            "54999/54999 [==============================] - 8s 138us/step - loss: 0.2392 - acc: 0.8013 - val_loss: 0.2372 - val_acc: 0.8016\n",
            "Epoch 16/50\n",
            "54999/54999 [==============================] - 8s 138us/step - loss: 0.2359 - acc: 0.8009 - val_loss: 0.2340 - val_acc: 0.8004\n",
            "Epoch 17/50\n",
            "54999/54999 [==============================] - 8s 138us/step - loss: 0.2328 - acc: 0.8005 - val_loss: 0.2310 - val_acc: 0.8006\n",
            "Epoch 18/50\n",
            "54999/54999 [==============================] - 9s 155us/step - loss: 0.2299 - acc: 0.8004 - val_loss: 0.2281 - val_acc: 0.8005\n",
            "Epoch 19/50\n",
            "54999/54999 [==============================] - 8s 145us/step - loss: 0.2272 - acc: 0.8003 - val_loss: 0.2254 - val_acc: 0.8005\n",
            "Epoch 20/50\n",
            "54999/54999 [==============================] - 7s 134us/step - loss: 0.2247 - acc: 0.8002 - val_loss: 0.2231 - val_acc: 0.8005\n",
            "Epoch 21/50\n",
            "54999/54999 [==============================] - 7s 133us/step - loss: 0.2224 - acc: 0.8002 - val_loss: 0.2209 - val_acc: 0.8002\n",
            "Epoch 22/50\n",
            "54999/54999 [==============================] - 7s 135us/step - loss: 0.2204 - acc: 0.8001 - val_loss: 0.2189 - val_acc: 0.8005\n",
            "Epoch 23/50\n",
            "54999/54999 [==============================] - 7s 136us/step - loss: 0.2185 - acc: 0.8002 - val_loss: 0.2171 - val_acc: 0.8002\n",
            "Epoch 24/50\n",
            "54999/54999 [==============================] - 8s 137us/step - loss: 0.2168 - acc: 0.8002 - val_loss: 0.2154 - val_acc: 0.8004\n",
            "Epoch 25/50\n",
            "54999/54999 [==============================] - 8s 137us/step - loss: 0.2151 - acc: 0.8003 - val_loss: 0.2137 - val_acc: 0.8003\n",
            "Epoch 26/50\n",
            "54999/54999 [==============================] - 8s 138us/step - loss: 0.2135 - acc: 0.8004 - val_loss: 0.2121 - val_acc: 0.8007\n",
            "Epoch 27/50\n",
            "54999/54999 [==============================] - 7s 136us/step - loss: 0.2119 - acc: 0.8005 - val_loss: 0.2105 - val_acc: 0.8006\n",
            "Epoch 28/50\n",
            "54999/54999 [==============================] - 7s 135us/step - loss: 0.2104 - acc: 0.8006 - val_loss: 0.2091 - val_acc: 0.8008\n",
            "Epoch 29/50\n",
            "54999/54999 [==============================] - 7s 136us/step - loss: 0.2090 - acc: 0.8007 - val_loss: 0.2077 - val_acc: 0.8010\n",
            "Epoch 30/50\n",
            "54999/54999 [==============================] - 7s 136us/step - loss: 0.2077 - acc: 0.8009 - val_loss: 0.2063 - val_acc: 0.8013\n",
            "Epoch 31/50\n",
            "54999/54999 [==============================] - 8s 145us/step - loss: 0.2063 - acc: 0.8011 - val_loss: 0.2049 - val_acc: 0.8014\n",
            "Epoch 32/50\n",
            "54999/54999 [==============================] - 8s 142us/step - loss: 0.2050 - acc: 0.8013 - val_loss: 0.2036 - val_acc: 0.8017\n",
            "Epoch 33/50\n",
            "54999/54999 [==============================] - 8s 137us/step - loss: 0.2037 - acc: 0.8015 - val_loss: 0.2022 - val_acc: 0.8019\n",
            "Epoch 34/50\n",
            "54999/54999 [==============================] - 7s 136us/step - loss: 0.2024 - acc: 0.8017 - val_loss: 0.2009 - val_acc: 0.8021\n",
            "Epoch 35/50\n",
            "54999/54999 [==============================] - 7s 135us/step - loss: 0.2011 - acc: 0.8019 - val_loss: 0.1996 - val_acc: 0.8023\n",
            "Epoch 36/50\n",
            "54999/54999 [==============================] - 7s 135us/step - loss: 0.1998 - acc: 0.8021 - val_loss: 0.1983 - val_acc: 0.8025\n",
            "Epoch 37/50\n",
            "54999/54999 [==============================] - 7s 136us/step - loss: 0.1986 - acc: 0.8023 - val_loss: 0.1971 - val_acc: 0.8025\n",
            "Epoch 38/50\n",
            "54999/54999 [==============================] - 8s 137us/step - loss: 0.1973 - acc: 0.8025 - val_loss: 0.1959 - val_acc: 0.8026\n",
            "Epoch 39/50\n",
            "54999/54999 [==============================] - 8s 137us/step - loss: 0.1962 - acc: 0.8026 - val_loss: 0.1947 - val_acc: 0.8029\n",
            "Epoch 40/50\n",
            "54999/54999 [==============================] - 8s 137us/step - loss: 0.1950 - acc: 0.8028 - val_loss: 0.1936 - val_acc: 0.8031\n",
            "Epoch 41/50\n",
            "54999/54999 [==============================] - 7s 136us/step - loss: 0.1939 - acc: 0.8030 - val_loss: 0.1925 - val_acc: 0.8030\n",
            "Epoch 42/50\n",
            "54999/54999 [==============================] - 7s 136us/step - loss: 0.1928 - acc: 0.8031 - val_loss: 0.1914 - val_acc: 0.8034\n",
            "Epoch 43/50\n",
            "54999/54999 [==============================] - 7s 135us/step - loss: 0.1918 - acc: 0.8033 - val_loss: 0.1904 - val_acc: 0.8035\n",
            "Epoch 44/50\n",
            "54999/54999 [==============================] - 7s 134us/step - loss: 0.1908 - acc: 0.8034 - val_loss: 0.1895 - val_acc: 0.8036\n",
            "Epoch 45/50\n",
            "54999/54999 [==============================] - 7s 134us/step - loss: 0.1899 - acc: 0.8036 - val_loss: 0.1886 - val_acc: 0.8036\n",
            "Epoch 46/50\n",
            "54999/54999 [==============================] - 8s 137us/step - loss: 0.1891 - acc: 0.8036 - val_loss: 0.1877 - val_acc: 0.8039\n",
            "Epoch 47/50\n",
            "54999/54999 [==============================] - 7s 136us/step - loss: 0.1882 - acc: 0.8037 - val_loss: 0.1869 - val_acc: 0.8039\n",
            "Epoch 48/50\n",
            "54999/54999 [==============================] - 7s 135us/step - loss: 0.1875 - acc: 0.8038 - val_loss: 0.1862 - val_acc: 0.8041\n",
            "Epoch 49/50\n",
            "54999/54999 [==============================] - 7s 136us/step - loss: 0.1867 - acc: 0.8039 - val_loss: 0.1854 - val_acc: 0.8039\n",
            "Epoch 50/50\n",
            "54999/54999 [==============================] - 7s 135us/step - loss: 0.1860 - acc: 0.8039 - val_loss: 0.1848 - val_acc: 0.8042\n",
            "Train on 54999 samples, validate on 5000 samples\n",
            "Epoch 1/50\n",
            "54999/54999 [==============================] - 8s 141us/step - loss: 0.2902 - acc: 0.7982 - val_loss: 0.2656 - val_acc: 0.8039\n",
            "Epoch 2/50\n",
            "54999/54999 [==============================] - 7s 133us/step - loss: 0.2647 - acc: 0.8032 - val_loss: 0.2639 - val_acc: 0.8042\n",
            "Epoch 3/50\n",
            "54999/54999 [==============================] - 7s 135us/step - loss: 0.2627 - acc: 0.8036 - val_loss: 0.2604 - val_acc: 0.8045\n",
            "Epoch 4/50\n",
            "54999/54999 [==============================] - 7s 136us/step - loss: 0.2565 - acc: 0.8042 - val_loss: 0.2521 - val_acc: 0.8037\n",
            "Epoch 5/50\n",
            "54999/54999 [==============================] - 7s 136us/step - loss: 0.2482 - acc: 0.8032 - val_loss: 0.2441 - val_acc: 0.8029\n",
            "Epoch 6/50\n",
            "54999/54999 [==============================] - 8s 137us/step - loss: 0.2405 - acc: 0.8024 - val_loss: 0.2364 - val_acc: 0.8022\n",
            "Epoch 7/50\n",
            "54999/54999 [==============================] - 8s 138us/step - loss: 0.2329 - acc: 0.8021 - val_loss: 0.2288 - val_acc: 0.8023\n",
            "Epoch 8/50\n",
            "54999/54999 [==============================] - 7s 136us/step - loss: 0.2257 - acc: 0.8022 - val_loss: 0.2216 - val_acc: 0.8025\n",
            "Epoch 9/50\n",
            "54999/54999 [==============================] - 8s 152us/step - loss: 0.2189 - acc: 0.8023 - val_loss: 0.2150 - val_acc: 0.8025\n",
            "Epoch 10/50\n",
            "54999/54999 [==============================] - 8s 147us/step - loss: 0.2129 - acc: 0.8025 - val_loss: 0.2094 - val_acc: 0.8026\n",
            "Epoch 11/50\n",
            "54999/54999 [==============================] - 7s 136us/step - loss: 0.2076 - acc: 0.8027 - val_loss: 0.2044 - val_acc: 0.8029\n",
            "Epoch 12/50\n",
            "54999/54999 [==============================] - 8s 136us/step - loss: 0.2031 - acc: 0.8029 - val_loss: 0.2001 - val_acc: 0.8030\n",
            "Epoch 13/50\n",
            "54999/54999 [==============================] - 8s 137us/step - loss: 0.1990 - acc: 0.8031 - val_loss: 0.1963 - val_acc: 0.8034\n",
            "Epoch 14/50\n",
            "54999/54999 [==============================] - 7s 136us/step - loss: 0.1955 - acc: 0.8034 - val_loss: 0.1930 - val_acc: 0.8036\n",
            "Epoch 15/50\n",
            "54999/54999 [==============================] - 8s 137us/step - loss: 0.1924 - acc: 0.8036 - val_loss: 0.1900 - val_acc: 0.8039\n",
            "Epoch 16/50\n",
            "54999/54999 [==============================] - 7s 135us/step - loss: 0.1896 - acc: 0.8039 - val_loss: 0.1873 - val_acc: 0.8042\n",
            "Epoch 17/50\n",
            "54999/54999 [==============================] - 7s 135us/step - loss: 0.1870 - acc: 0.8042 - val_loss: 0.1848 - val_acc: 0.8045\n",
            "Epoch 18/50\n",
            "54999/54999 [==============================] - 7s 134us/step - loss: 0.1846 - acc: 0.8045 - val_loss: 0.1825 - val_acc: 0.8048\n",
            "Epoch 19/50\n",
            "54999/54999 [==============================] - 7s 136us/step - loss: 0.1823 - acc: 0.8048 - val_loss: 0.1803 - val_acc: 0.8051\n",
            "Epoch 20/50\n",
            "54999/54999 [==============================] - 7s 136us/step - loss: 0.1802 - acc: 0.8051 - val_loss: 0.1783 - val_acc: 0.8054\n",
            "Epoch 21/50\n",
            "54999/54999 [==============================] - 8s 137us/step - loss: 0.1782 - acc: 0.8054 - val_loss: 0.1763 - val_acc: 0.8057\n",
            "Epoch 22/50\n",
            "54999/54999 [==============================] - 8s 152us/step - loss: 0.1763 - acc: 0.8056 - val_loss: 0.1744 - val_acc: 0.8060\n",
            "Epoch 23/50\n",
            "54999/54999 [==============================] - 8s 137us/step - loss: 0.1744 - acc: 0.8059 - val_loss: 0.1726 - val_acc: 0.8062\n",
            "Epoch 24/50\n",
            "54999/54999 [==============================] - 7s 136us/step - loss: 0.1726 - acc: 0.8062 - val_loss: 0.1708 - val_acc: 0.8064\n",
            "Epoch 25/50\n",
            "54999/54999 [==============================] - 7s 135us/step - loss: 0.1709 - acc: 0.8065 - val_loss: 0.1691 - val_acc: 0.8068\n",
            "Epoch 26/50\n",
            "54999/54999 [==============================] - 7s 133us/step - loss: 0.1692 - acc: 0.8068 - val_loss: 0.1674 - val_acc: 0.8070\n",
            "Epoch 27/50\n",
            "54999/54999 [==============================] - 7s 134us/step - loss: 0.1675 - acc: 0.8070 - val_loss: 0.1658 - val_acc: 0.8073\n",
            "Epoch 28/50\n",
            "54999/54999 [==============================] - 8s 137us/step - loss: 0.1659 - acc: 0.8073 - val_loss: 0.1642 - val_acc: 0.8075\n",
            "Epoch 29/50\n",
            "54999/54999 [==============================] - 8s 136us/step - loss: 0.1643 - acc: 0.8076 - val_loss: 0.1626 - val_acc: 0.8078\n",
            "Epoch 30/50\n",
            "54999/54999 [==============================] - 7s 135us/step - loss: 0.1627 - acc: 0.8078 - val_loss: 0.1610 - val_acc: 0.8081\n",
            "Epoch 31/50\n",
            "54999/54999 [==============================] - 7s 135us/step - loss: 0.1611 - acc: 0.8081 - val_loss: 0.1595 - val_acc: 0.8083\n",
            "Epoch 32/50\n",
            "54999/54999 [==============================] - 7s 134us/step - loss: 0.1596 - acc: 0.8083 - val_loss: 0.1581 - val_acc: 0.8086\n",
            "Epoch 33/50\n",
            "54999/54999 [==============================] - 7s 135us/step - loss: 0.1582 - acc: 0.8085 - val_loss: 0.1567 - val_acc: 0.8086\n",
            "Epoch 34/50\n",
            "54999/54999 [==============================] - 7s 133us/step - loss: 0.1568 - acc: 0.8087 - val_loss: 0.1553 - val_acc: 0.8089\n",
            "Epoch 35/50\n",
            "54999/54999 [==============================] - 7s 133us/step - loss: 0.1554 - acc: 0.8089 - val_loss: 0.1540 - val_acc: 0.8090\n",
            "Epoch 36/50\n",
            "54999/54999 [==============================] - 7s 134us/step - loss: 0.1541 - acc: 0.8090 - val_loss: 0.1527 - val_acc: 0.8092\n",
            "Epoch 37/50\n",
            "54999/54999 [==============================] - 7s 134us/step - loss: 0.1529 - acc: 0.8092 - val_loss: 0.1515 - val_acc: 0.8094\n",
            "Epoch 38/50\n",
            "54999/54999 [==============================] - 7s 134us/step - loss: 0.1517 - acc: 0.8094 - val_loss: 0.1504 - val_acc: 0.8095\n",
            "Epoch 39/50\n",
            "54999/54999 [==============================] - 7s 135us/step - loss: 0.1505 - acc: 0.8095 - val_loss: 0.1492 - val_acc: 0.8097\n",
            "Epoch 40/50\n",
            "54999/54999 [==============================] - 7s 135us/step - loss: 0.1494 - acc: 0.8096 - val_loss: 0.1481 - val_acc: 0.8098\n",
            "Epoch 41/50\n",
            "54999/54999 [==============================] - 7s 134us/step - loss: 0.1483 - acc: 0.8098 - val_loss: 0.1471 - val_acc: 0.8099\n",
            "Epoch 42/50\n",
            "54999/54999 [==============================] - 7s 133us/step - loss: 0.1473 - acc: 0.8099 - val_loss: 0.1461 - val_acc: 0.8101\n",
            "Epoch 43/50\n",
            "54999/54999 [==============================] - 7s 133us/step - loss: 0.1463 - acc: 0.8100 - val_loss: 0.1451 - val_acc: 0.8101\n",
            "Epoch 44/50\n",
            "54999/54999 [==============================] - 7s 136us/step - loss: 0.1453 - acc: 0.8101 - val_loss: 0.1442 - val_acc: 0.8103\n",
            "Epoch 45/50\n",
            "54999/54999 [==============================] - 7s 136us/step - loss: 0.1443 - acc: 0.8102 - val_loss: 0.1433 - val_acc: 0.8104\n",
            "Epoch 46/50\n",
            "54999/54999 [==============================] - 7s 135us/step - loss: 0.1434 - acc: 0.8103 - val_loss: 0.1424 - val_acc: 0.8104\n",
            "Epoch 47/50\n",
            "54999/54999 [==============================] - 7s 135us/step - loss: 0.1425 - acc: 0.8104 - val_loss: 0.1415 - val_acc: 0.8106\n",
            "Epoch 48/50\n",
            "54999/54999 [==============================] - 7s 135us/step - loss: 0.1417 - acc: 0.8105 - val_loss: 0.1407 - val_acc: 0.8107\n",
            "Epoch 49/50\n",
            "54999/54999 [==============================] - 7s 136us/step - loss: 0.1408 - acc: 0.8106 - val_loss: 0.1399 - val_acc: 0.8107\n",
            "Epoch 50/50\n",
            "54999/54999 [==============================] - 8s 137us/step - loss: 0.1400 - acc: 0.8107 - val_loss: 0.1391 - val_acc: 0.8108\n"
          ],
          "name": "stdout"
        }
      ]
    },
    {
      "metadata": {
        "id": "pb0KXEKkdTbV",
        "colab_type": "text"
      },
      "cell_type": "markdown",
      "source": [
        "Graficamos los errores para cada caso,  notamos que usamos SGD como optimizador para el entrenamiento."
      ]
    },
    {
      "metadata": {
        "id": "YO_ySXNFdSf1",
        "colab_type": "code",
        "colab": {}
      },
      "cell_type": "code",
      "source": [
        "def get_metrics_lists(history):\n",
        "  loss_train,loss_val,acc_train,acc_val = list(),list(),list(),list()\n",
        "  losses = [[] for i in range(2)]\n",
        "  accs = [[] for i in range(2)]\n",
        "  loss_train,loss_val,acc_train,acc_val = history.history['loss'],history.history['val_loss'], history.history['acc'],history.history['val_acc']\n",
        "  losses[0] = loss_train\n",
        "  losses[1] = loss_val\n",
        "  accs[0] = acc_train\n",
        "  accs[1] = acc_val\n",
        "  return losses,accs\n",
        "\n",
        "def triple_plot(losses, accs,title):\n",
        "  plt.figure(num=None, figsize=(18, 4), dpi=80, facecolor='w', edgecolor='k')\n",
        "  plt.subplot(1,2,1)\n",
        "  plt.plot(losses[0])\n",
        "  plt.plot(losses[1])\n",
        "  plt.title(title)\n",
        "  plt.xlabel('Epoch')\n",
        "  plt.ylabel('Loss')\n",
        "  plt.legend(['train', 'validation'], loc='upper right')\n",
        "  plt.subplot(1,2,2)\n",
        "  plt.plot(accs[0])\n",
        "  plt.plot(accs[1])\n",
        "  plt.title(title.replace(\"Loss\", \"Accuracy\"))\n",
        "  plt.xlabel('Epoch')\n",
        "  plt.ylabel('Acc')\n",
        "  plt.legend(['train', 'validation'], loc='upper right')\n",
        "  plt.show()\n",
        " "
      ],
      "execution_count": 0,
      "outputs": []
    },
    {
      "metadata": {
        "id": "ENcXRy41WPIc",
        "colab_type": "code",
        "colab": {}
      },
      "cell_type": "code",
      "source": [
        "for i in range(len(history_1_a_list)):\n",
        "  losses,accs = get_metrics_lists(history_1_a_list[i])\n",
        "  triple_plot(losses,accs,'Model Loss - '+str(dims[i])+' DIM')"
      ],
      "execution_count": 0,
      "outputs": []
    },
    {
      "metadata": {
        "id": "WOhM7svIvv2J",
        "colab_type": "code",
        "outputId": "480e9858-74d5-4dbc-8891-5fa0599159db",
        "colab": {
          "base_uri": "https://localhost:8080/",
          "height": 102
        }
      },
      "cell_type": "code",
      "source": [
        "print(\"Porcentajes de compresión por dimensión\")\n",
        "for d in dims:\n",
        "  print(\"Para una dimensión: \"+ str(d) + \" es \" + str(round((1-d/784)*100,2)) + \"%\")"
      ],
      "execution_count": 21,
      "outputs": [
        {
          "output_type": "stream",
          "text": [
            "Porcentajes de compresión por dimensión\n",
            "Para una dimensión: 2 es 99.74%\n",
            "Para una dimensión: 8 es 98.98%\n",
            "Para una dimensión: 32 es 95.92%\n",
            "Para una dimensión: 64 es 91.84%\n"
          ],
          "name": "stdout"
        }
      ]
    },
    {
      "metadata": {
        "id": "xI_E6xD3g5fD",
        "colab_type": "text"
      },
      "cell_type": "markdown",
      "source": [
        "Ahora que sabemos con dimensión cual se obtiene un mejor Loss, probamos cambiando la función de activación ReLU para el *encoder*:"
      ]
    },
    {
      "metadata": {
        "id": "qpSvmrHitjO5",
        "colab_type": "code",
        "outputId": "2e35d5cb-ea0a-41eb-846e-68d74687ad4a",
        "colab": {
          "base_uri": "https://localhost:8080/",
          "height": 1822
        }
      },
      "cell_type": "code",
      "source": [
        "input_img = Input(shape=(784,))\n",
        "encoded_1_a_2 = Dense(64, activation='relu')(input_img)\n",
        "decoded_1_a_2 = Dense(784, activation='sigmoid')(encoded_1_a_2)\n",
        "autoencoder_1_a_2 = Model(input=input_img, output=decoded_1_a_2)\n",
        "encoder_1_a_2 = Model(input=input_img, output=encoded_1_a_2)\n",
        "encoded_input_1_a_2 = Input(shape=(64,))\n",
        "decoder_layer_1_a_2 = autoencoder_1_a_2.layers[-1]\n",
        "decoder_1_a_2 = Model(inputs=encoded_input_1_a_2, outputs=decoder_layer_1_a_2(encoded_input_1_a_2))\n",
        "autoencoder_1_a_2.compile(optimizer=SGD(lr=1.0), loss='binary_crossentropy',metrics=['accuracy'])\n",
        "history_1_a_2 = autoencoder_1_a_2.fit(x_train,x_train,epochs=50,batch_size=32,validation_data=(x_val,x_val) ,shuffle=True,)\n",
        "autoencoder_1_a_2.save('basic_autoencoder_2_768x64.h5')"
      ],
      "execution_count": 22,
      "outputs": [
        {
          "output_type": "stream",
          "text": [
            "/usr/local/lib/python3.6/dist-packages/ipykernel_launcher.py:4: UserWarning: Update your `Model` call to the Keras 2 API: `Model(inputs=Tensor(\"in..., outputs=Tensor(\"de...)`\n",
            "  after removing the cwd from sys.path.\n",
            "/usr/local/lib/python3.6/dist-packages/ipykernel_launcher.py:5: UserWarning: Update your `Model` call to the Keras 2 API: `Model(inputs=Tensor(\"in..., outputs=Tensor(\"de...)`\n",
            "  \"\"\"\n"
          ],
          "name": "stderr"
        },
        {
          "output_type": "stream",
          "text": [
            "Train on 54999 samples, validate on 5000 samples\n",
            "Epoch 1/50\n",
            "54999/54999 [==============================] - 8s 138us/step - loss: 0.2274 - acc: 0.7945 - val_loss: 0.1709 - val_acc: 0.8038\n",
            "Epoch 2/50\n",
            "54999/54999 [==============================] - 7s 136us/step - loss: 0.1542 - acc: 0.8068 - val_loss: 0.1385 - val_acc: 0.8092\n",
            "Epoch 3/50\n",
            "54999/54999 [==============================] - 7s 135us/step - loss: 0.1295 - acc: 0.8105 - val_loss: 0.1196 - val_acc: 0.8120\n",
            "Epoch 4/50\n",
            "54999/54999 [==============================] - 8s 137us/step - loss: 0.1135 - acc: 0.8126 - val_loss: 0.1071 - val_acc: 0.8133\n",
            "Epoch 5/50\n",
            "54999/54999 [==============================] - 7s 135us/step - loss: 0.1034 - acc: 0.8136 - val_loss: 0.0996 - val_acc: 0.8140\n",
            "Epoch 6/50\n",
            "54999/54999 [==============================] - 8s 137us/step - loss: 0.0973 - acc: 0.8141 - val_loss: 0.0949 - val_acc: 0.8143\n",
            "Epoch 7/50\n",
            "54999/54999 [==============================] - 7s 136us/step - loss: 0.0933 - acc: 0.8143 - val_loss: 0.0917 - val_acc: 0.8144\n",
            "Epoch 8/50\n",
            "54999/54999 [==============================] - 7s 135us/step - loss: 0.0905 - acc: 0.8145 - val_loss: 0.0893 - val_acc: 0.8146\n",
            "Epoch 9/50\n",
            "54999/54999 [==============================] - 7s 135us/step - loss: 0.0883 - acc: 0.8146 - val_loss: 0.0875 - val_acc: 0.8147\n",
            "Epoch 10/50\n",
            "54999/54999 [==============================] - 7s 135us/step - loss: 0.0866 - acc: 0.8147 - val_loss: 0.0859 - val_acc: 0.8148\n",
            "Epoch 11/50\n",
            "54999/54999 [==============================] - 7s 136us/step - loss: 0.0852 - acc: 0.8148 - val_loss: 0.0848 - val_acc: 0.8148\n",
            "Epoch 12/50\n",
            "54999/54999 [==============================] - 7s 136us/step - loss: 0.0840 - acc: 0.8148 - val_loss: 0.0837 - val_acc: 0.8149\n",
            "Epoch 13/50\n",
            "54999/54999 [==============================] - 7s 136us/step - loss: 0.0831 - acc: 0.8149 - val_loss: 0.0828 - val_acc: 0.8149\n",
            "Epoch 14/50\n",
            "54999/54999 [==============================] - 8s 137us/step - loss: 0.0822 - acc: 0.8149 - val_loss: 0.0821 - val_acc: 0.8149\n",
            "Epoch 15/50\n",
            "54999/54999 [==============================] - 8s 137us/step - loss: 0.0815 - acc: 0.8150 - val_loss: 0.0814 - val_acc: 0.8150\n",
            "Epoch 16/50\n",
            "54999/54999 [==============================] - 7s 135us/step - loss: 0.0809 - acc: 0.8150 - val_loss: 0.0808 - val_acc: 0.8150\n",
            "Epoch 17/50\n",
            "54999/54999 [==============================] - 7s 136us/step - loss: 0.0803 - acc: 0.8150 - val_loss: 0.0803 - val_acc: 0.8150\n",
            "Epoch 18/50\n",
            "54999/54999 [==============================] - 7s 135us/step - loss: 0.0798 - acc: 0.8150 - val_loss: 0.0798 - val_acc: 0.8150\n",
            "Epoch 19/50\n",
            "54999/54999 [==============================] - 7s 135us/step - loss: 0.0794 - acc: 0.8151 - val_loss: 0.0794 - val_acc: 0.8151\n",
            "Epoch 20/50\n",
            "54999/54999 [==============================] - 7s 136us/step - loss: 0.0790 - acc: 0.8151 - val_loss: 0.0790 - val_acc: 0.8151\n",
            "Epoch 21/50\n",
            "54999/54999 [==============================] - 7s 136us/step - loss: 0.0786 - acc: 0.8151 - val_loss: 0.0787 - val_acc: 0.8151\n",
            "Epoch 22/50\n",
            "54999/54999 [==============================] - 7s 136us/step - loss: 0.0783 - acc: 0.8151 - val_loss: 0.0783 - val_acc: 0.8151\n",
            "Epoch 23/50\n",
            "54999/54999 [==============================] - 7s 136us/step - loss: 0.0780 - acc: 0.8151 - val_loss: 0.0781 - val_acc: 0.8151\n",
            "Epoch 24/50\n",
            "54999/54999 [==============================] - 7s 135us/step - loss: 0.0777 - acc: 0.8151 - val_loss: 0.0778 - val_acc: 0.8151\n",
            "Epoch 25/50\n",
            "54999/54999 [==============================] - 7s 136us/step - loss: 0.0775 - acc: 0.8151 - val_loss: 0.0776 - val_acc: 0.8151\n",
            "Epoch 26/50\n",
            "54999/54999 [==============================] - 7s 135us/step - loss: 0.0773 - acc: 0.8151 - val_loss: 0.0774 - val_acc: 0.8151\n",
            "Epoch 27/50\n",
            "54999/54999 [==============================] - 7s 135us/step - loss: 0.0771 - acc: 0.8152 - val_loss: 0.0772 - val_acc: 0.8152\n",
            "Epoch 28/50\n",
            "54999/54999 [==============================] - 7s 136us/step - loss: 0.0769 - acc: 0.8152 - val_loss: 0.0771 - val_acc: 0.8152\n",
            "Epoch 29/50\n",
            "54999/54999 [==============================] - 7s 136us/step - loss: 0.0767 - acc: 0.8152 - val_loss: 0.0769 - val_acc: 0.8152\n",
            "Epoch 30/50\n",
            "54999/54999 [==============================] - 8s 137us/step - loss: 0.0765 - acc: 0.8152 - val_loss: 0.0767 - val_acc: 0.8152\n",
            "Epoch 31/50\n",
            "54999/54999 [==============================] - 7s 136us/step - loss: 0.0764 - acc: 0.8152 - val_loss: 0.0766 - val_acc: 0.8152\n",
            "Epoch 32/50\n",
            "54999/54999 [==============================] - 8s 137us/step - loss: 0.0763 - acc: 0.8152 - val_loss: 0.0765 - val_acc: 0.8152\n",
            "Epoch 33/50\n",
            "54999/54999 [==============================] - 7s 136us/step - loss: 0.0761 - acc: 0.8152 - val_loss: 0.0764 - val_acc: 0.8152\n",
            "Epoch 34/50\n",
            "54999/54999 [==============================] - 8s 140us/step - loss: 0.0760 - acc: 0.8152 - val_loss: 0.0762 - val_acc: 0.8152\n",
            "Epoch 35/50\n",
            "54999/54999 [==============================] - 7s 136us/step - loss: 0.0759 - acc: 0.8152 - val_loss: 0.0761 - val_acc: 0.8152\n",
            "Epoch 36/50\n",
            "54999/54999 [==============================] - 8s 137us/step - loss: 0.0758 - acc: 0.8152 - val_loss: 0.0761 - val_acc: 0.8152\n",
            "Epoch 37/50\n",
            "54999/54999 [==============================] - 7s 136us/step - loss: 0.0758 - acc: 0.8152 - val_loss: 0.0760 - val_acc: 0.8152\n",
            "Epoch 38/50\n",
            "54999/54999 [==============================] - 7s 136us/step - loss: 0.0757 - acc: 0.8152 - val_loss: 0.0759 - val_acc: 0.8152\n",
            "Epoch 39/50\n",
            "54999/54999 [==============================] - 7s 136us/step - loss: 0.0756 - acc: 0.8152 - val_loss: 0.0758 - val_acc: 0.8152\n",
            "Epoch 40/50\n",
            "54999/54999 [==============================] - 8s 136us/step - loss: 0.0755 - acc: 0.8152 - val_loss: 0.0758 - val_acc: 0.8152\n",
            "Epoch 41/50\n",
            "54999/54999 [==============================] - 8s 142us/step - loss: 0.0755 - acc: 0.8152 - val_loss: 0.0757 - val_acc: 0.8152\n",
            "Epoch 42/50\n",
            "54999/54999 [==============================] - 7s 136us/step - loss: 0.0754 - acc: 0.8152 - val_loss: 0.0757 - val_acc: 0.8152\n",
            "Epoch 43/50\n",
            "54999/54999 [==============================] - 7s 135us/step - loss: 0.0753 - acc: 0.8152 - val_loss: 0.0756 - val_acc: 0.8152\n",
            "Epoch 44/50\n",
            "54999/54999 [==============================] - 7s 136us/step - loss: 0.0753 - acc: 0.8152 - val_loss: 0.0756 - val_acc: 0.8152\n",
            "Epoch 45/50\n",
            "54999/54999 [==============================] - 7s 135us/step - loss: 0.0752 - acc: 0.8152 - val_loss: 0.0755 - val_acc: 0.8152\n",
            "Epoch 46/50\n",
            "54999/54999 [==============================] - 7s 136us/step - loss: 0.0752 - acc: 0.8152 - val_loss: 0.0754 - val_acc: 0.8152\n",
            "Epoch 47/50\n",
            "54999/54999 [==============================] - 7s 135us/step - loss: 0.0751 - acc: 0.8152 - val_loss: 0.0754 - val_acc: 0.8152\n",
            "Epoch 48/50\n",
            "54999/54999 [==============================] - 7s 135us/step - loss: 0.0751 - acc: 0.8152 - val_loss: 0.0753 - val_acc: 0.8152\n",
            "Epoch 49/50\n",
            "54999/54999 [==============================] - 7s 135us/step - loss: 0.0750 - acc: 0.8152 - val_loss: 0.0753 - val_acc: 0.8152\n",
            "Epoch 50/50\n",
            "54999/54999 [==============================] - 7s 135us/step - loss: 0.0750 - acc: 0.8152 - val_loss: 0.0752 - val_acc: 0.8152\n"
          ],
          "name": "stdout"
        }
      ]
    },
    {
      "metadata": {
        "id": "kdo4rLOnhkv9",
        "colab_type": "code",
        "outputId": "555cdcba-0b8d-4ed2-b36c-4a165e201ac7",
        "colab": {
          "base_uri": "https://localhost:8080/",
          "height": 324
        }
      },
      "cell_type": "code",
      "source": [
        "losses,accs = get_metrics_lists(history_1_a_2)\n",
        "triple_plot(losses,accs,'Model Loss - 64 DIM - Encoder with ReLU')"
      ],
      "execution_count": 65,
      "outputs": [
        {
          "output_type": "display_data",
          "data": {
            "image/png": "[encoded data removed]",
            "text/plain": [
              "<matplotlib.figure.Figure at 0x7fa4a9a39470>"
            ]
          },
          "metadata": {
            "tags": []
          }
        }
      ]
    },
    {
      "metadata": {
        "id": "mChlvfpUmxJi",
        "colab_type": "text"
      },
      "cell_type": "markdown",
      "source": [
        "Por úiltimo utilizar la función de activación ReLU en el decoder para corroborar el porque no es adecuado. Nuestra creencia es que al ser lineal no puede lograr volver a una representación adecuada de los daots"
      ]
    },
    {
      "metadata": {
        "id": "3Yz-nzn5lcG5",
        "colab_type": "code",
        "outputId": "96e27698-fa3e-4d96-ab3c-e3208cebf3d6",
        "colab": {
          "base_uri": "https://localhost:8080/",
          "height": 1822
        }
      },
      "cell_type": "code",
      "source": [
        "encoded_1_a_3 = Dense(64, activation='sigmoid')(input_img)\n",
        "decoded_1_a_3 = Dense(784, activation='relu')(encoded_1_a_3)\n",
        "autoencoder_1_a_3 = Model(input=input_img, output=decoded_1_a_3)\n",
        "encoder_1_a_3 = Model(input=input_img, output=encoded_1_a_3)\n",
        "encoded_input_1_a_3 = Input(shape=(64,))\n",
        "decoder_layer_1_a_3 = autoencoder_1_a_3.layers[-1]\n",
        "decoder_1_a_3 = Model(inputs=encoded_input_1_a_3, outputs=decoder_layer_1_a_3(encoded_input_1_a_3))\n",
        "autoencoder_1_a_3.compile(optimizer=SGD(lr=1.0), loss='binary_crossentropy', metrics=['accuracy'])\n",
        "history_1_a_3 = autoencoder_1_a_3.fit(x_train,x_train,epochs=50,batch_size=32,validation_data=(x_val,x_val))\n",
        "autoencoder_1_a_3.save('basic_autoencoder_3_768x32.h5')"
      ],
      "execution_count": 0,
      "outputs": [
        {
          "output_type": "stream",
          "text": [
            "/usr/local/lib/python3.6/dist-packages/ipykernel_launcher.py:3: UserWarning: Update your `Model` call to the Keras 2 API: `Model(inputs=Tensor(\"in..., outputs=Tensor(\"de...)`\n",
            "  This is separate from the ipykernel package so we can avoid doing imports until\n",
            "/usr/local/lib/python3.6/dist-packages/ipykernel_launcher.py:4: UserWarning: Update your `Model` call to the Keras 2 API: `Model(inputs=Tensor(\"in..., outputs=Tensor(\"de...)`\n",
            "  after removing the cwd from sys.path.\n"
          ],
          "name": "stderr"
        },
        {
          "output_type": "stream",
          "text": [
            "Train on 54999 samples, validate on 5000 samples\n",
            "Epoch 1/50\n",
            "54999/54999 [==============================] - 9s 155us/step - loss: 1.7378 - acc: 0.7349 - val_loss: 2.5890 - val_acc: 0.7053\n",
            "Epoch 2/50\n",
            "54999/54999 [==============================] - 8s 151us/step - loss: 2.9467 - acc: 0.6810 - val_loss: 3.2578 - val_acc: 0.6635\n",
            "Epoch 3/50\n",
            "54999/54999 [==============================] - 8s 151us/step - loss: 3.5993 - acc: 0.6474 - val_loss: 3.9576 - val_acc: 0.6312\n",
            "Epoch 4/50\n",
            "54999/54999 [==============================] - 9s 165us/step - loss: 4.2393 - acc: 0.6177 - val_loss: 4.4136 - val_acc: 0.6102\n",
            "Epoch 5/50\n",
            "54999/54999 [==============================] - 9s 158us/step - loss: 4.5502 - acc: 0.6061 - val_loss: 4.5927 - val_acc: 0.6051\n",
            "Epoch 6/50\n",
            "54999/54999 [==============================] - 8s 145us/step - loss: 4.6952 - acc: 0.6001 - val_loss: 4.8187 - val_acc: 0.5938\n",
            "Epoch 7/50\n",
            "54999/54999 [==============================] - 8s 143us/step - loss: 4.8602 - acc: 0.5914 - val_loss: 4.9591 - val_acc: 0.5869\n",
            "Epoch 8/50\n",
            "54999/54999 [==============================] - 8s 142us/step - loss: 5.0035 - acc: 0.5849 - val_loss: 5.0930 - val_acc: 0.5807\n",
            "Epoch 9/50\n",
            "54999/54999 [==============================] - 8s 142us/step - loss: 5.1460 - acc: 0.5785 - val_loss: 5.1884 - val_acc: 0.5769\n",
            "Epoch 10/50\n",
            "54999/54999 [==============================] - 8s 143us/step - loss: 5.2254 - acc: 0.5753 - val_loss: 5.2603 - val_acc: 0.5738\n",
            "Epoch 11/50\n",
            "54999/54999 [==============================] - 8s 143us/step - loss: 5.2676 - acc: 0.5735 - val_loss: 5.2852 - val_acc: 0.5729\n",
            "Epoch 12/50\n",
            "54999/54999 [==============================] - 8s 142us/step - loss: 5.2890 - acc: 0.5725 - val_loss: 5.3284 - val_acc: 0.5707\n",
            "Epoch 13/50\n",
            "54999/54999 [==============================] - 8s 141us/step - loss: 5.3190 - acc: 0.5708 - val_loss: 5.3313 - val_acc: 0.5704\n",
            "Epoch 14/50\n",
            "54999/54999 [==============================] - 8s 141us/step - loss: 5.3206 - acc: 0.5707 - val_loss: 5.3313 - val_acc: 0.5704\n",
            "Epoch 15/50\n",
            "54999/54999 [==============================] - 8s 141us/step - loss: 5.3326 - acc: 0.5700 - val_loss: 5.3486 - val_acc: 0.5695\n",
            "Epoch 16/50\n",
            "54999/54999 [==============================] - 8s 141us/step - loss: 5.3379 - acc: 0.5697 - val_loss: 5.3486 - val_acc: 0.5695\n",
            "Epoch 17/50\n",
            "54999/54999 [==============================] - 8s 142us/step - loss: 5.3379 - acc: 0.5697 - val_loss: 5.3486 - val_acc: 0.5695\n",
            "Epoch 18/50\n",
            "54999/54999 [==============================] - 8s 142us/step - loss: 5.3379 - acc: 0.5697 - val_loss: 5.3486 - val_acc: 0.5695\n",
            "Epoch 19/50\n",
            "54999/54999 [==============================] - 8s 142us/step - loss: 5.3379 - acc: 0.5697 - val_loss: 5.3486 - val_acc: 0.5695\n",
            "Epoch 20/50\n",
            "54999/54999 [==============================] - 8s 141us/step - loss: 5.3379 - acc: 0.5697 - val_loss: 5.3486 - val_acc: 0.5695\n",
            "Epoch 21/50\n",
            "54999/54999 [==============================] - 8s 140us/step - loss: 5.3379 - acc: 0.5697 - val_loss: 5.3486 - val_acc: 0.5695\n",
            "Epoch 22/50\n",
            "54999/54999 [==============================] - 8s 139us/step - loss: 5.3379 - acc: 0.5697 - val_loss: 5.3486 - val_acc: 0.5695\n",
            "Epoch 23/50\n",
            "54999/54999 [==============================] - 8s 140us/step - loss: 5.3379 - acc: 0.5697 - val_loss: 5.3486 - val_acc: 0.5695\n",
            "Epoch 24/50\n",
            "54999/54999 [==============================] - 8s 140us/step - loss: 5.3379 - acc: 0.5697 - val_loss: 5.3486 - val_acc: 0.5695\n",
            "Epoch 25/50\n",
            "54999/54999 [==============================] - 8s 141us/step - loss: 5.3379 - acc: 0.5697 - val_loss: 5.3486 - val_acc: 0.5695\n",
            "Epoch 26/50\n",
            "54999/54999 [==============================] - 8s 140us/step - loss: 5.3379 - acc: 0.5697 - val_loss: 5.3486 - val_acc: 0.5695\n",
            "Epoch 27/50\n",
            "54999/54999 [==============================] - 8s 140us/step - loss: 5.3379 - acc: 0.5697 - val_loss: 5.3486 - val_acc: 0.5695\n",
            "Epoch 28/50\n",
            "54999/54999 [==============================] - 8s 141us/step - loss: 5.3379 - acc: 0.5697 - val_loss: 5.3486 - val_acc: 0.5695\n",
            "Epoch 29/50\n",
            "54999/54999 [==============================] - 8s 139us/step - loss: 5.3379 - acc: 0.5697 - val_loss: 5.3486 - val_acc: 0.5695\n",
            "Epoch 30/50\n",
            "54999/54999 [==============================] - 8s 139us/step - loss: 5.3379 - acc: 0.5697 - val_loss: 5.3486 - val_acc: 0.5695\n",
            "Epoch 31/50\n",
            "54999/54999 [==============================] - 8s 139us/step - loss: 5.3379 - acc: 0.5697 - val_loss: 5.3486 - val_acc: 0.5695\n",
            "Epoch 32/50\n",
            "54999/54999 [==============================] - 8s 139us/step - loss: 5.3379 - acc: 0.5697 - val_loss: 5.3486 - val_acc: 0.5695\n",
            "Epoch 33/50\n",
            "54999/54999 [==============================] - 8s 141us/step - loss: 5.3379 - acc: 0.5697 - val_loss: 5.3486 - val_acc: 0.5695\n",
            "Epoch 34/50\n",
            "54999/54999 [==============================] - 8s 141us/step - loss: 5.3379 - acc: 0.5697 - val_loss: 5.3486 - val_acc: 0.5695\n",
            "Epoch 35/50\n",
            "54999/54999 [==============================] - 8s 142us/step - loss: 5.3379 - acc: 0.5697 - val_loss: 5.3486 - val_acc: 0.5695\n",
            "Epoch 36/50\n",
            "54999/54999 [==============================] - 8s 141us/step - loss: 5.3379 - acc: 0.5697 - val_loss: 5.3486 - val_acc: 0.5695\n",
            "Epoch 37/50\n",
            "54999/54999 [==============================] - 8s 141us/step - loss: 5.3379 - acc: 0.5697 - val_loss: 5.3486 - val_acc: 0.5695\n",
            "Epoch 38/50\n",
            "54999/54999 [==============================] - 8s 141us/step - loss: 5.3379 - acc: 0.5697 - val_loss: 5.3486 - val_acc: 0.5695\n",
            "Epoch 39/50\n",
            "54999/54999 [==============================] - 8s 140us/step - loss: 5.3379 - acc: 0.5697 - val_loss: 5.3486 - val_acc: 0.5695\n",
            "Epoch 40/50\n",
            "54999/54999 [==============================] - 8s 141us/step - loss: 5.3379 - acc: 0.5697 - val_loss: 5.3486 - val_acc: 0.5695\n",
            "Epoch 41/50\n",
            "54999/54999 [==============================] - 8s 142us/step - loss: 5.3379 - acc: 0.5697 - val_loss: 5.3486 - val_acc: 0.5695\n",
            "Epoch 42/50\n",
            "54999/54999 [==============================] - 8s 141us/step - loss: 5.3379 - acc: 0.5697 - val_loss: 5.3486 - val_acc: 0.5695\n",
            "Epoch 43/50\n",
            "54999/54999 [==============================] - 8s 148us/step - loss: 5.3379 - acc: 0.5697 - val_loss: 5.3486 - val_acc: 0.5695\n",
            "Epoch 44/50\n",
            "54999/54999 [==============================] - 9s 164us/step - loss: 5.3379 - acc: 0.5697 - val_loss: 5.3486 - val_acc: 0.5695\n",
            "Epoch 45/50\n",
            "54999/54999 [==============================] - 8s 144us/step - loss: 5.3379 - acc: 0.5697 - val_loss: 5.3486 - val_acc: 0.5695\n",
            "Epoch 46/50\n",
            "54999/54999 [==============================] - 8s 139us/step - loss: 5.3379 - acc: 0.5697 - val_loss: 5.3486 - val_acc: 0.5695\n",
            "Epoch 47/50\n",
            "54999/54999 [==============================] - 8s 140us/step - loss: 5.3379 - acc: 0.5697 - val_loss: 5.3486 - val_acc: 0.5695\n",
            "Epoch 48/50\n",
            "54999/54999 [==============================] - 8s 140us/step - loss: 5.3379 - acc: 0.5697 - val_loss: 5.3486 - val_acc: 0.5695\n",
            "Epoch 49/50\n",
            "54999/54999 [==============================] - 8s 139us/step - loss: 5.3379 - acc: 0.5697 - val_loss: 5.3486 - val_acc: 0.5695\n",
            "Epoch 50/50\n",
            "54999/54999 [==============================] - 8s 140us/step - loss: 5.3379 - acc: 0.5697 - val_loss: 5.3486 - val_acc: 0.5695\n"
          ],
          "name": "stdout"
        }
      ]
    },
    {
      "metadata": {
        "id": "xnxamrtylcZe",
        "colab_type": "code",
        "outputId": "38d16289-6fa9-4fb4-beb6-c12e62a80e24",
        "colab": {
          "base_uri": "https://localhost:8080/",
          "height": 324
        }
      },
      "cell_type": "code",
      "source": [
        "losses,accs = get_metrics_lists(history_1_a_3)\n",
        "triple_plot(losses,accs,'Model Loss - 64 DIM - Decoder with ReLU')"
      ],
      "execution_count": 0,
      "outputs": [
        {
          "output_type": "display_data",
          "data": {
            "image/png": "[encoded data removed]",
            "text/plain": [
              "<matplotlib.figure.Figure at 0x7f0747dfd080>"
            ]
          },
          "metadata": {
            "tags": []
          }
        }
      ]
    },
    {
      "metadata": {
        "id": "jO_yU-KtwKlG",
        "colab_type": "text"
      },
      "cell_type": "markdown",
      "source": [
        "### 2.1.b"
      ]
    },
    {
      "metadata": {
        "id": "tWk0ROWF04Z0",
        "colab_type": "code",
        "outputId": "2a3bf88a-31f3-497b-88d6-124bcd91a433",
        "colab": {
          "base_uri": "https://localhost:8080/",
          "height": 244
        }
      },
      "cell_type": "code",
      "source": [
        "\n",
        "#autoencoder = load_model('basic_autoencoder_768x32.h5')\n",
        "encoded_test_1_b = encoder_1_a_2.predict(x_test)\n",
        "decoded_test_1_b = decoder_1_a_2.predict(encoded_test_1_b)\n",
        "n = 10\n",
        "plt.figure(figsize=(20, 4))\n",
        "for i in range(n):\n",
        "    j = np.random.randint(0,len(x_test))\n",
        "    ax = plt.subplot(2, n, i + 1)\n",
        "    plt.imshow(x_test[j].reshape(28, 28),cmap='gray')\n",
        "    ax.get_xaxis().set_visible(False)\n",
        "    ax.get_yaxis().set_visible(False)\n",
        "    ax = plt.subplot(2, n, i + 1 + n)\n",
        "    plt.imshow(decoded_test_1_b[j].reshape(28, 28),cmap='gray')\n",
        "    ax.get_xaxis().set_visible(False)\n",
        "    ax.get_yaxis().set_visible(False)\n",
        "plt.show()"
      ],
      "execution_count": 66,
      "outputs": [
        {
          "output_type": "display_data",
          "data": {
            "image/png": "[encoded data removed]",
            "text/plain": [
              "<matplotlib.figure.Figure at 0x7fa4a80b1860>"
            ]
          },
          "metadata": {
            "tags": []
          }
        }
      ]
    },
    {
      "metadata": {
        "id": "4YaFX0Gs1O3j",
        "colab_type": "text"
      },
      "cell_type": "markdown",
      "source": [
        "### 2.1.c "
      ]
    },
    {
      "metadata": {
        "id": "9sCMmdQF11K_",
        "colab_type": "code",
        "outputId": "1052fd19-4e7c-4ac7-98b1-1a4af425440e",
        "colab": {
          "base_uri": "https://localhost:8080/",
          "height": 707
        }
      },
      "cell_type": "code",
      "source": [
        "pca_1_c = PCA(n_components=32)\n",
        "pca_1_c.fit(x_train)\n",
        "pca_train_1_c = pca_1_c.transform(x_train)\n",
        "pca_test_1_c = pca_1_c.transform(x_test)\n",
        "...#AUTOENCODER\n",
        "encoded_train_1_c = encoder_1_a_2.predict(x_train)\n",
        "encoded_test_1_c = encoder_1_a_2.predict(x_test)\n",
        "...#CLASIFICATION\n",
        "clf_1_c = KNeighborsClassifier(10)\n",
        "clf_1_c.fit(pca_train_1_c, y_train)\n",
        "print('Classification Accuracy PCA %.2f ' + str(clf_1_c.score(pca_test_1_c,y_test))) \n",
        "clf_1_c = KNeighborsClassifier(10)\n",
        "clf_1_c.fit(encoded_train_1_c, y_train)\n",
        "print('Classification Accuracy %.2f ' + str(clf_1_c.score(encoded_test_1_c,y_test)))"
      ],
      "execution_count": 0,
      "outputs": [
        {
          "output_type": "error",
          "ename": "ValueError",
          "evalue": "ignored",
          "traceback": [
            "\u001b[0;31m---------------------------------------------------------------------------\u001b[0m",
            "\u001b[0;31mValueError\u001b[0m                                Traceback (most recent call last)",
            "\u001b[0;32m<ipython-input-17-febae281b0e6>\u001b[0m in \u001b[0;36m<module>\u001b[0;34m()\u001b[0m\n\u001b[1;32m      9\u001b[0m \u001b[0mclf_1_c\u001b[0m \u001b[0;34m=\u001b[0m \u001b[0mKNeighborsClassifier\u001b[0m\u001b[0;34m(\u001b[0m\u001b[0;36m10\u001b[0m\u001b[0;34m)\u001b[0m\u001b[0;34m\u001b[0m\u001b[0;34m\u001b[0m\u001b[0m\n\u001b[1;32m     10\u001b[0m \u001b[0mclf_1_c\u001b[0m\u001b[0;34m.\u001b[0m\u001b[0mfit\u001b[0m\u001b[0;34m(\u001b[0m\u001b[0mpca_train_1_c\u001b[0m\u001b[0;34m,\u001b[0m \u001b[0my_train\u001b[0m\u001b[0;34m)\u001b[0m\u001b[0;34m\u001b[0m\u001b[0;34m\u001b[0m\u001b[0m\n\u001b[0;32m---> 11\u001b[0;31m \u001b[0mprint\u001b[0m\u001b[0;34m(\u001b[0m\u001b[0;34m'Classification Accuracy PCA %.2f '\u001b[0m \u001b[0;34m+\u001b[0m \u001b[0mstr\u001b[0m\u001b[0;34m(\u001b[0m\u001b[0mclf_1_c\u001b[0m\u001b[0;34m.\u001b[0m\u001b[0mscore\u001b[0m\u001b[0;34m(\u001b[0m\u001b[0mpca_test_1_c\u001b[0m\u001b[0;34m,\u001b[0m\u001b[0my_test\u001b[0m\u001b[0;34m)\u001b[0m\u001b[0;34m)\u001b[0m\u001b[0;34m)\u001b[0m\u001b[0;34m\u001b[0m\u001b[0;34m\u001b[0m\u001b[0m\n\u001b[0m\u001b[1;32m     12\u001b[0m \u001b[0mclf_1_c\u001b[0m \u001b[0;34m=\u001b[0m \u001b[0mKNeighborsClassifier\u001b[0m\u001b[0;34m(\u001b[0m\u001b[0;36m10\u001b[0m\u001b[0;34m)\u001b[0m\u001b[0;34m\u001b[0m\u001b[0;34m\u001b[0m\u001b[0m\n\u001b[1;32m     13\u001b[0m \u001b[0mclf_1_c\u001b[0m\u001b[0;34m.\u001b[0m\u001b[0mfit\u001b[0m\u001b[0;34m(\u001b[0m\u001b[0mencoded_train_1_c\u001b[0m\u001b[0;34m,\u001b[0m \u001b[0my_train\u001b[0m\u001b[0;34m)\u001b[0m\u001b[0;34m\u001b[0m\u001b[0;34m\u001b[0m\u001b[0m\n",
            "\u001b[0;32m/usr/local/lib/python3.6/dist-packages/sklearn/base.py\u001b[0m in \u001b[0;36mscore\u001b[0;34m(self, X, y, sample_weight)\u001b[0m\n\u001b[1;32m    286\u001b[0m         \"\"\"\n\u001b[1;32m    287\u001b[0m         \u001b[0;32mfrom\u001b[0m \u001b[0;34m.\u001b[0m\u001b[0mmetrics\u001b[0m \u001b[0;32mimport\u001b[0m \u001b[0maccuracy_score\u001b[0m\u001b[0;34m\u001b[0m\u001b[0;34m\u001b[0m\u001b[0m\n\u001b[0;32m--> 288\u001b[0;31m         \u001b[0;32mreturn\u001b[0m \u001b[0maccuracy_score\u001b[0m\u001b[0;34m(\u001b[0m\u001b[0my\u001b[0m\u001b[0;34m,\u001b[0m \u001b[0mself\u001b[0m\u001b[0;34m.\u001b[0m\u001b[0mpredict\u001b[0m\u001b[0;34m(\u001b[0m\u001b[0mX\u001b[0m\u001b[0;34m)\u001b[0m\u001b[0;34m,\u001b[0m \u001b[0msample_weight\u001b[0m\u001b[0;34m=\u001b[0m\u001b[0msample_weight\u001b[0m\u001b[0;34m)\u001b[0m\u001b[0;34m\u001b[0m\u001b[0;34m\u001b[0m\u001b[0m\n\u001b[0m\u001b[1;32m    289\u001b[0m \u001b[0;34m\u001b[0m\u001b[0m\n\u001b[1;32m    290\u001b[0m \u001b[0;34m\u001b[0m\u001b[0m\n",
            "\u001b[0;32m/usr/local/lib/python3.6/dist-packages/sklearn/metrics/classification.py\u001b[0m in \u001b[0;36maccuracy_score\u001b[0;34m(y_true, y_pred, normalize, sample_weight)\u001b[0m\n\u001b[1;32m    174\u001b[0m \u001b[0;34m\u001b[0m\u001b[0m\n\u001b[1;32m    175\u001b[0m     \u001b[0;31m# Compute accuracy for each possible representation\u001b[0m\u001b[0;34m\u001b[0m\u001b[0;34m\u001b[0m\u001b[0;34m\u001b[0m\u001b[0m\n\u001b[0;32m--> 176\u001b[0;31m     \u001b[0my_type\u001b[0m\u001b[0;34m,\u001b[0m \u001b[0my_true\u001b[0m\u001b[0;34m,\u001b[0m \u001b[0my_pred\u001b[0m \u001b[0;34m=\u001b[0m \u001b[0m_check_targets\u001b[0m\u001b[0;34m(\u001b[0m\u001b[0my_true\u001b[0m\u001b[0;34m,\u001b[0m \u001b[0my_pred\u001b[0m\u001b[0;34m)\u001b[0m\u001b[0;34m\u001b[0m\u001b[0;34m\u001b[0m\u001b[0m\n\u001b[0m\u001b[1;32m    177\u001b[0m     \u001b[0mcheck_consistent_length\u001b[0m\u001b[0;34m(\u001b[0m\u001b[0my_true\u001b[0m\u001b[0;34m,\u001b[0m \u001b[0my_pred\u001b[0m\u001b[0;34m,\u001b[0m \u001b[0msample_weight\u001b[0m\u001b[0;34m)\u001b[0m\u001b[0;34m\u001b[0m\u001b[0;34m\u001b[0m\u001b[0m\n\u001b[1;32m    178\u001b[0m     \u001b[0;32mif\u001b[0m \u001b[0my_type\u001b[0m\u001b[0;34m.\u001b[0m\u001b[0mstartswith\u001b[0m\u001b[0;34m(\u001b[0m\u001b[0;34m'multilabel'\u001b[0m\u001b[0;34m)\u001b[0m\u001b[0;34m:\u001b[0m\u001b[0;34m\u001b[0m\u001b[0;34m\u001b[0m\u001b[0m\n",
            "\u001b[0;32m/usr/local/lib/python3.6/dist-packages/sklearn/metrics/classification.py\u001b[0m in \u001b[0;36m_check_targets\u001b[0;34m(y_true, y_pred)\u001b[0m\n\u001b[1;32m     69\u001b[0m     \u001b[0my_pred\u001b[0m \u001b[0;34m:\u001b[0m \u001b[0marray\u001b[0m \u001b[0;32mor\u001b[0m \u001b[0mindicator\u001b[0m \u001b[0mmatrix\u001b[0m\u001b[0;34m\u001b[0m\u001b[0;34m\u001b[0m\u001b[0m\n\u001b[1;32m     70\u001b[0m     \"\"\"\n\u001b[0;32m---> 71\u001b[0;31m     \u001b[0mcheck_consistent_length\u001b[0m\u001b[0;34m(\u001b[0m\u001b[0my_true\u001b[0m\u001b[0;34m,\u001b[0m \u001b[0my_pred\u001b[0m\u001b[0;34m)\u001b[0m\u001b[0;34m\u001b[0m\u001b[0;34m\u001b[0m\u001b[0m\n\u001b[0m\u001b[1;32m     72\u001b[0m     \u001b[0mtype_true\u001b[0m \u001b[0;34m=\u001b[0m \u001b[0mtype_of_target\u001b[0m\u001b[0;34m(\u001b[0m\u001b[0my_true\u001b[0m\u001b[0;34m)\u001b[0m\u001b[0;34m\u001b[0m\u001b[0;34m\u001b[0m\u001b[0m\n\u001b[1;32m     73\u001b[0m     \u001b[0mtype_pred\u001b[0m \u001b[0;34m=\u001b[0m \u001b[0mtype_of_target\u001b[0m\u001b[0;34m(\u001b[0m\u001b[0my_pred\u001b[0m\u001b[0;34m)\u001b[0m\u001b[0;34m\u001b[0m\u001b[0;34m\u001b[0m\u001b[0m\n",
            "\u001b[0;32m/usr/local/lib/python3.6/dist-packages/sklearn/utils/validation.py\u001b[0m in \u001b[0;36mcheck_consistent_length\u001b[0;34m(*arrays)\u001b[0m\n\u001b[1;32m    233\u001b[0m     \u001b[0;32mif\u001b[0m \u001b[0mlen\u001b[0m\u001b[0;34m(\u001b[0m\u001b[0muniques\u001b[0m\u001b[0;34m)\u001b[0m \u001b[0;34m>\u001b[0m \u001b[0;36m1\u001b[0m\u001b[0;34m:\u001b[0m\u001b[0;34m\u001b[0m\u001b[0;34m\u001b[0m\u001b[0m\n\u001b[1;32m    234\u001b[0m         raise ValueError(\"Found input variables with inconsistent numbers of\"\n\u001b[0;32m--> 235\u001b[0;31m                          \" samples: %r\" % [int(l) for l in lengths])\n\u001b[0m\u001b[1;32m    236\u001b[0m \u001b[0;34m\u001b[0m\u001b[0m\n\u001b[1;32m    237\u001b[0m \u001b[0;34m\u001b[0m\u001b[0m\n",
            "\u001b[0;31mValueError\u001b[0m: Found input variables with inconsistent numbers of samples: [10000, 60000]"
          ]
        }
      ]
    },
    {
      "metadata": {
        "id": "xMdUvaZl5VG5",
        "colab_type": "code",
        "colab": {}
      },
      "cell_type": "code",
      "source": [
        ""
      ],
      "execution_count": 0,
      "outputs": []
    },
    {
      "metadata": {
        "id": "oqhkDNRKizJ0",
        "colab_type": "code",
        "outputId": "71762588-9034-402e-adee-4ae4e821838c",
        "colab": {
          "base_uri": "https://localhost:8080/",
          "height": 1717
        }
      },
      "cell_type": "code",
      "source": [
        ""
      ],
      "execution_count": 0,
      "outputs": [
        {
          "output_type": "execute_result",
          "data": {
            "text/plain": [
              "{'loss': [0.4558386428544438,\n",
              "  0.3195903637030595,\n",
              "  0.2932278436074142,\n",
              "  0.2829623430721864,\n",
              "  0.2776404959966613,\n",
              "  0.2744289670083264,\n",
              "  0.27229823381498197,\n",
              "  0.27078977489313644,\n",
              "  0.26967026176748543,\n",
              "  0.2688092311019605,\n",
              "  0.26812819550162187,\n",
              "  0.2675770850366379,\n",
              "  0.2671225307994514,\n",
              "  0.2667419145472663,\n",
              "  0.2664189419693686,\n",
              "  0.2661414019723236,\n",
              "  0.2659009849675779,\n",
              "  0.26569061021019835,\n",
              "  0.26550513760235384,\n",
              "  0.26534048703764196,\n",
              "  0.2651933186705428,\n",
              "  0.26506117293731907,\n",
              "  0.26494201152200564,\n",
              "  0.264833737438448,\n",
              "  0.26473518954294134,\n",
              "  0.26464506428285817,\n",
              "  0.2645622163853317,\n",
              "  0.2644862333592134,\n",
              "  0.26441615672759067,\n",
              "  0.2643509221792451,\n",
              "  0.26429060585995295,\n",
              "  0.2642343695321866,\n",
              "  0.26418188471609155,\n",
              "  0.26413289235379234,\n",
              "  0.2640869096909075,\n",
              "  0.26404391647395237,\n",
              "  0.26400333934106485,\n",
              "  0.26396523122158994,\n",
              "  0.2639291274747852,\n",
              "  0.2638952729604416,\n",
              "  0.2638630445266772,\n",
              "  0.26383244505840925,\n",
              "  0.2638035591432109,\n",
              "  0.2637761873126791,\n",
              "  0.2637497358829204,\n",
              "  0.2637249711793185,\n",
              "  0.263701278012775,\n",
              "  0.26367855468507956,\n",
              "  0.26365721005143145,\n",
              "  0.2636362904889919],\n",
              " 'val_loss': [0.3475942328453064,\n",
              "  0.3016732611656189,\n",
              "  0.2867856650829315,\n",
              "  0.27975695395469663,\n",
              "  0.2757499032974243,\n",
              "  0.2731894651412964,\n",
              "  0.27142180795669557,\n",
              "  0.2701384916305542,\n",
              "  0.26916817932128906,\n",
              "  0.2684144215106964,\n",
              "  0.2678071370124817,\n",
              "  0.2673131224155426,\n",
              "  0.26689953536987304,\n",
              "  0.26655535643100736,\n",
              "  0.2662575493812561,\n",
              "  0.26600121760368345,\n",
              "  0.26577669253349306,\n",
              "  0.2655788177728653,\n",
              "  0.2654053424835205,\n",
              "  0.2652512329339981,\n",
              "  0.26510909080505374,\n",
              "  0.2649881890773773,\n",
              "  0.26487737221717833,\n",
              "  0.2647764165401459,\n",
              "  0.26468155374526975,\n",
              "  0.26459618616104125,\n",
              "  0.26451541497707365,\n",
              "  0.2644455768585205,\n",
              "  0.2643776038169861,\n",
              "  0.26431976175308225,\n",
              "  0.26425696020126344,\n",
              "  0.264202236700058,\n",
              "  0.2641515739440918,\n",
              "  0.2641054229259491,\n",
              "  0.2640645118713379,\n",
              "  0.26401957874298093,\n",
              "  0.26398159732818605,\n",
              "  0.26394572916030884,\n",
              "  0.2639129120349884,\n",
              "  0.26387846145629884,\n",
              "  0.263847513794899,\n",
              "  0.26381723415851593,\n",
              "  0.26379103999137876,\n",
              "  0.2637646402359009,\n",
              "  0.2637397720336914,\n",
              "  0.2637115149497986,\n",
              "  0.2636953411817551,\n",
              "  0.2636741986751556,\n",
              "  0.26365053505897523,\n",
              "  0.263628376865387]}"
            ]
          },
          "metadata": {
            "tags": []
          },
          "execution_count": 15
        }
      ]
    },
    {
      "metadata": {
        "id": "X8JI8xzIi0uW",
        "colab_type": "code",
        "colab": {}
      },
      "cell_type": "code",
      "source": [
        ""
      ],
      "execution_count": 0,
      "outputs": []
    },
    {
      "metadata": {
        "id": "mhaJJUzO-twQ",
        "colab_type": "code",
        "colab": {}
      },
      "cell_type": "code",
      "source": [
        ""
      ],
      "execution_count": 0,
      "outputs": []
    }
  ]
}