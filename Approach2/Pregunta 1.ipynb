{
 "cells": [
  {
   "cell_type": "markdown",
   "metadata": {
    "deletable": true,
    "editable": true
   },
   "source": [
    "# INF-395 Redes Neuronales Artificiales II-2018\n",
    "\n",
    "## Tarea 2 - Redes Convolucionales y sus aplicaciones\n",
    "\n",
    "\n",
    "26/11/2018\n",
    "\n",
    "* Rodrigo González Smith 201303026-2\n",
    "* Ignacio Valenzuela Albornoz"
   ]
  },
  {
   "cell_type": "markdown",
   "metadata": {
    "deletable": true,
    "editable": true
   },
   "source": [
    "## Introducción"
   ]
  },
  {
   "cell_type": "code",
   "execution_count": 35,
   "metadata": {
    "collapsed": true,
    "deletable": true,
    "editable": true
   },
   "outputs": [],
   "source": [
    "import numpy as np   \n",
    "import os   \n",
    "import keras\n",
    "import matplotlib.pyplot as plt\n",
    "import math\n",
    "from keras.datasets import cifar10\n",
    "from keras.models import Sequential\n",
    "from keras.layers import Dense, Dropout, Activation, Flatten\n",
    "from keras.layers import Conv2D, MaxPooling2D\n",
    "from keras.optimizers import SGD, rmsprop\n",
    "from keras.callbacks import LearningRateScheduler\n",
    "from keras.models import model_from_json\n",
    "import os\n",
    "import h5py\n",
    "\n",
    "%matplotlib inline"
   ]
  },
  {
   "cell_type": "markdown",
   "metadata": {
    "deletable": true,
    "editable": true
   },
   "source": [
    "## 1. Convolutional Neural Networks (CNN) en CIFAR"
   ]
  },
  {
   "cell_type": "markdown",
   "metadata": {
    "deletable": true,
    "editable": true
   },
   "source": [
    "### 1.a)"
   ]
  },
  {
   "cell_type": "code",
   "execution_count": 49,
   "metadata": {
    "collapsed": true,
    "deletable": true,
    "editable": true
   },
   "outputs": [],
   "source": [
    "label_names = ['airplane', 'automobile', 'bird', 'cat', 'deer', 'dog', 'frog', 'horse', 'ship', 'truck']  \n",
    "(x_train, y_train), (x_test, y_test) = cifar10.load_data()"
   ]
  },
  {
   "cell_type": "markdown",
   "metadata": {
    "deletable": true,
    "editable": true
   },
   "source": [
    "Separamos el set de train para tener uno de validación también:"
   ]
  },
  {
   "cell_type": "code",
   "execution_count": 50,
   "metadata": {
    "collapsed": true,
    "deletable": true,
    "editable": true
   },
   "outputs": [],
   "source": [
    "n_train = len(x_train)\n",
    "x_val = x_train[int(0.8*n_train):n_train]\n",
    "y_val = y_train[int(0.8*n_train):n_train]\n",
    "x_train = x_train[:int(0.8*n_train)]\n",
    "y_train = y_train[:int(0.8*n_train)]"
   ]
  },
  {
   "cell_type": "markdown",
   "metadata": {
    "deletable": true,
    "editable": true
   },
   "source": [
    "### 1.b)"
   ]
  },
  {
   "cell_type": "code",
   "execution_count": 51,
   "metadata": {
    "collapsed": true,
    "deletable": true,
    "editable": true
   },
   "outputs": [],
   "source": [
    "#x_train = x_train.transpose([0, 3, 1, 2])\n",
    "#x_val = x_val.transpose([0, 3, 1, 2])\n",
    "#x_test = x_test.transpose([0, 3, 1, 2])\n",
    "\n",
    "x_train_norm = x_train/255\n",
    "x_val_norm = x_val/255\n",
    "x_test_norm = x_test/255\n",
    "\n",
    "num_classes = len(label_names)\n",
    "y_train = keras.utils.to_categorical(y_train, num_classes)\n",
    "y_val = keras.utils.to_categorical(y_val, num_classes)\n",
    "y_test = keras.utils.to_categorical(y_test, num_classes)"
   ]
  },
  {
   "cell_type": "markdown",
   "metadata": {
    "deletable": true,
    "editable": true
   },
   "source": [
    "### 1.c)"
   ]
  },
  {
   "cell_type": "code",
   "execution_count": 55,
   "metadata": {
    "collapsed": false,
    "deletable": true,
    "editable": true
   },
   "outputs": [
    {
     "name": "stdout",
     "output_type": "stream",
     "text": [
      "_________________________________________________________________\n",
      "Layer (type)                 Output Shape              Param #   \n",
      "=================================================================\n",
      "conv2d_18 (Conv2D)           (None, 32, 32, 64)        1792      \n",
      "_________________________________________________________________\n",
      "activation_28 (Activation)   (None, 32, 32, 64)        0         \n",
      "_________________________________________________________________\n",
      "max_pooling2d_16 (MaxPooling (None, 16, 16, 64)        0         \n",
      "_________________________________________________________________\n",
      "conv2d_19 (Conv2D)           (None, 16, 16, 64)        36928     \n",
      "_________________________________________________________________\n",
      "activation_29 (Activation)   (None, 16, 16, 64)        0         \n",
      "_________________________________________________________________\n",
      "max_pooling2d_17 (MaxPooling (None, 8, 8, 64)          0         \n",
      "_________________________________________________________________\n",
      "flatten_7 (Flatten)          (None, 4096)              0         \n",
      "_________________________________________________________________\n",
      "dense_13 (Dense)             (None, 512)               2097664   \n",
      "_________________________________________________________________\n",
      "activation_30 (Activation)   (None, 512)               0         \n",
      "_________________________________________________________________\n",
      "dense_14 (Dense)             (None, 10)                5130      \n",
      "_________________________________________________________________\n",
      "activation_31 (Activation)   (None, 10)                0         \n",
      "=================================================================\n",
      "Total params: 2,141,514\n",
      "Trainable params: 2,141,514\n",
      "Non-trainable params: 0\n",
      "_________________________________________________________________\n"
     ]
    }
   ],
   "source": [
    "model_1_c = Sequential()\n",
    "model_1_c.add(Conv2D(64, (3, 3), padding='same', input_shape=x_train.shape[1:]))\n",
    "model_1_c.add(Activation('relu'))\n",
    "model_1_c.add(MaxPooling2D(pool_size=(2, 2)))\n",
    "model_1_c.add(Conv2D(64, (3, 3), padding='same'))\n",
    "model_1_c.add(Activation('relu'))\n",
    "model_1_c.add(MaxPooling2D(pool_size=(2, 2)))\n",
    "model_1_c.add(Flatten())\n",
    "model_1_c.add(Dense(512))\n",
    "model_1_c.add(Activation('relu'))\n",
    "model_1_c.add(Dense(10))\n",
    "model_1_c.add(Activation('softmax'))\n",
    "model_1_c.summary()"
   ]
  },
  {
   "cell_type": "markdown",
   "metadata": {
    "deletable": true,
    "editable": true
   },
   "source": [
    "### 1.d)"
   ]
  },
  {
   "cell_type": "code",
   "execution_count": 56,
   "metadata": {
    "collapsed": false,
    "deletable": true,
    "editable": true
   },
   "outputs": [
    {
     "name": "stdout",
     "output_type": "stream",
     "text": [
      "Train on 40000 samples, validate on 10000 samples\n",
      "Epoch 1/25\n",
      "40000/40000 [==============================] - 100s 2ms/step - loss: 2.3012 - val_loss: 2.2871\n",
      "Epoch 2/25\n",
      "40000/40000 [==============================] - 100s 2ms/step - loss: 2.2775 - val_loss: 2.2660\n",
      "Epoch 3/25\n",
      "40000/40000 [==============================] - 101s 3ms/step - loss: 2.2549 - val_loss: 2.2397\n",
      "Epoch 4/25\n",
      "40000/40000 [==============================] - 100s 3ms/step - loss: 2.2241 - val_loss: 2.2028\n",
      "Epoch 5/25\n",
      "40000/40000 [==============================] - 100s 3ms/step - loss: 2.1821 - val_loss: 2.1570\n",
      "Epoch 6/25\n",
      "40000/40000 [==============================] - 100s 3ms/step - loss: 2.1322 - val_loss: 2.1047\n",
      "Epoch 7/25\n",
      "40000/40000 [==============================] - 101s 3ms/step - loss: 2.0823 - val_loss: 2.0597\n",
      "Epoch 8/25\n",
      "40000/40000 [==============================] - 100s 3ms/step - loss: 2.0363 - val_loss: 2.0168\n",
      "Epoch 9/25\n",
      "40000/40000 [==============================] - 100s 3ms/step - loss: 1.9973 - val_loss: 1.9860\n",
      "Epoch 10/25\n",
      "40000/40000 [==============================] - 100s 2ms/step - loss: 1.9671 - val_loss: 1.9596\n",
      "Epoch 11/25\n",
      "40000/40000 [==============================] - 100s 3ms/step - loss: 1.9466 - val_loss: 1.9483\n",
      "Epoch 12/25\n",
      "40000/40000 [==============================] - 101s 3ms/step - loss: 1.9351 - val_loss: 1.9389\n",
      "Epoch 13/25\n",
      "40000/40000 [==============================] - 100s 3ms/step - loss: 1.9253 - val_loss: 1.9302\n",
      "Epoch 14/25\n",
      "40000/40000 [==============================] - 101s 3ms/step - loss: 1.9163 - val_loss: 1.9226\n",
      "Epoch 15/25\n",
      "40000/40000 [==============================] - 101s 3ms/step - loss: 1.9078 - val_loss: 1.9142\n",
      "Epoch 16/25\n",
      "40000/40000 [==============================] - 101s 3ms/step - loss: 1.8994 - val_loss: 1.9067\n",
      "Epoch 17/25\n",
      "40000/40000 [==============================] - 101s 3ms/step - loss: 1.8914 - val_loss: 1.8986\n",
      "Epoch 18/25\n",
      "40000/40000 [==============================] - 101s 3ms/step - loss: 1.8819 - val_loss: 1.8908\n",
      "Epoch 19/25\n",
      "40000/40000 [==============================] - 101s 3ms/step - loss: 1.8744 - val_loss: 1.8830\n",
      "Epoch 20/25\n",
      "40000/40000 [==============================] - 100s 3ms/step - loss: 1.8658 - val_loss: 1.8759\n",
      "Epoch 21/25\n",
      "40000/40000 [==============================] - 100s 3ms/step - loss: 1.8586 - val_loss: 1.8717\n",
      "Epoch 22/25\n",
      "40000/40000 [==============================] - 100s 3ms/step - loss: 1.8538 - val_loss: 1.8672\n",
      "Epoch 23/25\n",
      "40000/40000 [==============================] - 100s 3ms/step - loss: 1.8497 - val_loss: 1.8646\n",
      "Epoch 24/25\n",
      "40000/40000 [==============================] - 100s 3ms/step - loss: 1.8459 - val_loss: 1.8591\n",
      "Epoch 25/25\n",
      "40000/40000 [==============================] - 101s 3ms/step - loss: 1.8414 - val_loss: 1.8552\n"
     ]
    },
    {
     "ename": "NameError",
     "evalue": "name 'model_2_b_json' is not defined",
     "output_type": "error",
     "traceback": [
      "\u001b[0;31m---------------------------------------------------------------------------\u001b[0m",
      "\u001b[0;31mNameError\u001b[0m                                 Traceback (most recent call last)",
      "\u001b[0;32m<ipython-input-56-6011f31d9c3f>\u001b[0m in \u001b[0;36m<module>\u001b[0;34m()\u001b[0m\n\u001b[1;32m     11\u001b[0m \u001b[0mmodel_1_c\u001b[0m\u001b[0;34m.\u001b[0m\u001b[0mfit\u001b[0m\u001b[0;34m(\u001b[0m\u001b[0mx_train_norm\u001b[0m\u001b[0;34m,\u001b[0m \u001b[0my_train\u001b[0m\u001b[0;34m,\u001b[0m\u001b[0mbatch_size\u001b[0m\u001b[0;34m=\u001b[0m\u001b[0mbatch_size\u001b[0m\u001b[0;34m,\u001b[0m\u001b[0mepochs\u001b[0m\u001b[0;34m=\u001b[0m\u001b[0mepochs\u001b[0m\u001b[0;34m,\u001b[0m \u001b[0mvalidation_data\u001b[0m\u001b[0;34m=\u001b[0m\u001b[0;34m(\u001b[0m\u001b[0mx_val_norm\u001b[0m\u001b[0;34m,\u001b[0m\u001b[0my_val\u001b[0m\u001b[0;34m)\u001b[0m\u001b[0;34m,\u001b[0m \u001b[0mshuffle\u001b[0m\u001b[0;34m=\u001b[0m\u001b[0;32mTrue\u001b[0m\u001b[0;34m,\u001b[0m \u001b[0mcallbacks\u001b[0m\u001b[0;34m=\u001b[0m\u001b[0;34m[\u001b[0m\u001b[0mlrate\u001b[0m\u001b[0;34m]\u001b[0m\u001b[0;34m)\u001b[0m\u001b[0;34m\u001b[0m\u001b[0m\n\u001b[1;32m     12\u001b[0m \u001b[0;32mwith\u001b[0m \u001b[0mopen\u001b[0m\u001b[0;34m(\u001b[0m\u001b[0;34m\"modelos/model_1_c.json\"\u001b[0m\u001b[0;34m,\u001b[0m \u001b[0;34m\"w\"\u001b[0m\u001b[0;34m)\u001b[0m \u001b[0;32mas\u001b[0m \u001b[0mjson_file\u001b[0m\u001b[0;34m:\u001b[0m\u001b[0;34m\u001b[0m\u001b[0m\n\u001b[0;32m---> 13\u001b[0;31m     \u001b[0mjson_file\u001b[0m\u001b[0;34m.\u001b[0m\u001b[0mwrite\u001b[0m\u001b[0;34m(\u001b[0m\u001b[0mmodel_2_b_json\u001b[0m\u001b[0;34m)\u001b[0m\u001b[0;34m\u001b[0m\u001b[0m\n\u001b[0m\u001b[1;32m     14\u001b[0m \u001b[0mmodel_1_c\u001b[0m\u001b[0;34m.\u001b[0m\u001b[0msave_weights\u001b[0m\u001b[0;34m(\u001b[0m\u001b[0;34m\"modelos/model_1_c.h5\"\u001b[0m\u001b[0;34m)\u001b[0m\u001b[0;34m\u001b[0m\u001b[0m\n",
      "\u001b[0;31mNameError\u001b[0m: name 'model_2_b_json' is not defined"
     ]
    }
   ],
   "source": [
    "def step_decay(epoch):\n",
    "    initial_lrate = 0.001\n",
    "    lrate = initial_lrate * math.pow(0.5, math.floor((epoch)/10))\n",
    "    lrate = max(lrate,0.00001)\n",
    "    return lrate\n",
    "opt = SGD(lr=0.0, momentum=0.9, decay=0.0)\n",
    "lrate = LearningRateScheduler(step_decay)\n",
    "batch_size = 1000\n",
    "epochs = 25\n",
    "model_1_c.compile(loss=\"categorical_crossentropy\" , optimizer=opt )\n",
    "model_1_c.fit(x_train_norm, y_train,batch_size=batch_size,epochs=epochs, validation_data=(x_val_norm,y_val), shuffle=True, callbacks=[lrate])"
   ]
  },
  {
   "cell_type": "code",
   "execution_count": 58,
   "metadata": {
    "collapsed": true,
    "deletable": true,
    "editable": true
   },
   "outputs": [],
   "source": [
    "model_1_c_json = model_1_c.to_json()\n",
    "with open(\"modelos/model_1_c.json\", \"w\") as json_file:\n",
    "    json_file.write(model_1_c_json)\n",
    "model_1_c.save_weights(\"modelos/model_1_c.h5\")"
   ]
  },
  {
   "cell_type": "markdown",
   "metadata": {
    "deletable": true,
    "editable": true
   },
   "source": [
    "### 1.e)"
   ]
  },
  {
   "cell_type": "code",
   "execution_count": null,
   "metadata": {
    "collapsed": true,
    "deletable": true,
    "editable": true
   },
   "outputs": [],
   "source": []
  }
 ],
 "metadata": {
  "kernelspec": {
   "display_name": "Python 3",
   "language": "python",
   "name": "python3"
  },
  "language_info": {
   "codemirror_mode": {
    "name": "ipython",
    "version": 3
   },
   "file_extension": ".py",
   "mimetype": "text/x-python",
   "name": "python",
   "nbconvert_exporter": "python",
   "pygments_lexer": "ipython3",
   "version": "3.5.3"
  }
 },
 "nbformat": 4,
 "nbformat_minor": 2
}
